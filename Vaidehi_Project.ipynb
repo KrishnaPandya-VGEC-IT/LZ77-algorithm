{
  "nbformat": 4,
  "nbformat_minor": 0,
  "metadata": {
    "colab": {
      "name": "Vaidehi_Project.ipynb",
      "provenance": [],
      "collapsed_sections": [],
      "mount_file_id": "1YbxZKiFA5OPAScdyyBqveM0wScInCxjc",
      "authorship_tag": "ABX9TyMkcUuWx1CSwIe5utBNZsfG",
      "include_colab_link": true
    },
    "kernelspec": {
      "display_name": "Python 3",
      "name": "python3"
    }
  },
  "cells": [
    {
      "cell_type": "markdown",
      "metadata": {
        "id": "view-in-github",
        "colab_type": "text"
      },
      "source": [
        "<a href=\"https://colab.research.google.com/github/KrishnaPandya-VGEC-IT/LZ77-algorithm/blob/master/Vaidehi_Project.ipynb\" target=\"_parent\"><img src=\"https://colab.research.google.com/assets/colab-badge.svg\" alt=\"Open In Colab\"/></a>"
      ]
    },
    {
      "cell_type": "code",
      "metadata": {
        "id": "hyqbRd_AdWhZ"
      },
      "source": [
        "import pandas as pd\n",
        "import matplotlib.pyplot as plt \n",
        "import numpy as np\n",
        "import requests\n",
        "import io\n",
        "import re \n",
        "import nltk\n",
        "import string\n",
        "import warnings"
      ],
      "execution_count": 1,
      "outputs": []
    },
    {
      "cell_type": "code",
      "metadata": {
        "id": "15Ec48XFd9Cf"
      },
      "source": [
        "pd.set_option(\"display.max_colwidth\",200) \n",
        "warnings.filterwarnings(\"ignore\") #ignore warnings"
      ],
      "execution_count": 2,
      "outputs": []
    },
    {
      "cell_type": "code",
      "metadata": {
        "colab": {
          "base_uri": "https://localhost:8080/",
          "height": 1000
        },
        "id": "m0q9RvacZHgD",
        "outputId": "51158f78-d2e7-4d3c-8f87-0f9e6cd2c3b0"
      },
      "source": [
        "fields = ['tweet_id','text','created_at','country_code']\n",
        "df = pd.read_csv('/content/tweets.csv',usecols=fields,dtype={'text':str})\n",
        "df.head(20)"
      ],
      "execution_count": 3,
      "outputs": [
        {
          "output_type": "execute_result",
          "data": {
            "text/html": [
              "<div>\n",
              "<style scoped>\n",
              "    .dataframe tbody tr th:only-of-type {\n",
              "        vertical-align: middle;\n",
              "    }\n",
              "\n",
              "    .dataframe tbody tr th {\n",
              "        vertical-align: top;\n",
              "    }\n",
              "\n",
              "    .dataframe thead th {\n",
              "        text-align: right;\n",
              "    }\n",
              "</style>\n",
              "<table border=\"1\" class=\"dataframe\">\n",
              "  <thead>\n",
              "    <tr style=\"text-align: right;\">\n",
              "      <th></th>\n",
              "      <th>tweet_id</th>\n",
              "      <th>text</th>\n",
              "      <th>created_at</th>\n",
              "      <th>country_code</th>\n",
              "    </tr>\n",
              "  </thead>\n",
              "  <tbody>\n",
              "    <tr>\n",
              "      <th>0</th>\n",
              "      <td>1246833590165368832</td>\n",
              "      <td>Don't be shy. Score a job like \\FT - Sales Floor Dept Supervisor- Flooring-Décor - Day\\\" at Lowe's by asking for ref… https://t.co/9AbO7BmeoZ\"</td>\n",
              "      <td>Sun Apr 05 16:14:27 +0000 2020</td>\n",
              "      <td>US</td>\n",
              "    </tr>\n",
              "    <tr>\n",
              "      <th>1</th>\n",
              "      <td>1246833587489370113</td>\n",
              "      <td>Join the Vail Health team! See our latest job opening here: https://t.co/zEvKmLqpVG #Nursing #Vail, CO</td>\n",
              "      <td>Sun Apr 05 16:14:26 +0000 2020</td>\n",
              "      <td>US</td>\n",
              "    </tr>\n",
              "    <tr>\n",
              "      <th>2</th>\n",
              "      <td>1246833584435908618</td>\n",
              "      <td>Thompson Health is hiring in #Canandaigua, NY! Read about our latest #Healthcare job opening via the link in our bi… https://t.co/HdfhXMhIY7</td>\n",
              "      <td>Sun Apr 05 16:14:26 +0000 2020</td>\n",
              "      <td>US</td>\n",
              "    </tr>\n",
              "    <tr>\n",
              "      <th>3</th>\n",
              "      <td>1246833568837443584</td>\n",
              "      <td>Bartending while at home because why not. I'm suppose to be on vacation in Cali so wife decided she wanted a \\stayc… https://t.co/NsJO3OVvLZ\"</td>\n",
              "      <td>Sun Apr 05 16:14:22 +0000 2020</td>\n",
              "      <td>US</td>\n",
              "    </tr>\n",
              "    <tr>\n",
              "      <th>4</th>\n",
              "      <td>1246833560109092867</td>\n",
              "      <td>Requested suggestions for sketches jacklenihanart suggested Solid Snake from MGS so here we go, it starts. Got a lo… https://t.co/ihgE1Tj7hr</td>\n",
              "      <td>Sun Apr 05 16:14:20 +0000 2020</td>\n",
              "      <td>US</td>\n",
              "    </tr>\n",
              "    <tr>\n",
              "      <th>5</th>\n",
              "      <td>1246833557135183872</td>\n",
              "      <td>We're hiring in #Spartanburg, SC! Click the link in our bio to apply to this job and more: Assembly (3rd Shift) at… https://t.co/GjEdIQHXvu</td>\n",
              "      <td>Sun Apr 05 16:14:19 +0000 2020</td>\n",
              "      <td>US</td>\n",
              "    </tr>\n",
              "    <tr>\n",
              "      <th>6</th>\n",
              "      <td>1246833556606685185</td>\n",
              "      <td>If you're looking for work in #Greensboro, NC, check out this job: https://t.co/ozEO1oYR7c #BusinessMgmt</td>\n",
              "      <td>Sun Apr 05 16:14:19 +0000 2020</td>\n",
              "      <td>US</td>\n",
              "    </tr>\n",
              "    <tr>\n",
              "      <th>7</th>\n",
              "      <td>1246833538881556486</td>\n",
              "      <td>Morningside of Paris is looking for teammates like you. See our latest #Nursing job openings, including \\Resident A… https://t.co/1wAE82HCPH\"</td>\n",
              "      <td>Sun Apr 05 16:14:15 +0000 2020</td>\n",
              "      <td>US</td>\n",
              "    </tr>\n",
              "    <tr>\n",
              "      <th>8</th>\n",
              "      <td>1246833505423638528</td>\n",
              "      <td>See our latest Dayton, OH DMI ACCT GROUP job opportunity and click the link in our bio to apply: ELINT Intelligence… https://t.co/nbMNhxeofM</td>\n",
              "      <td>Sun Apr 05 16:14:07 +0000 2020</td>\n",
              "      <td>US</td>\n",
              "    </tr>\n",
              "    <tr>\n",
              "      <th>9</th>\n",
              "      <td>1246833505322991621</td>\n",
              "      <td>Want to work at Comerica Bank? We're hiring in #Dallas, TX! Click for details: https://t.co/ZilFudwZGj #Retail</td>\n",
              "      <td>Sun Apr 05 16:14:07 +0000 2020</td>\n",
              "      <td>US</td>\n",
              "    </tr>\n",
              "    <tr>\n",
              "      <th>10</th>\n",
              "      <td>1246833477942738947</td>\n",
              "      <td>Our curbside is closed Sunday &amp;amp; Monday to give our staffers a much needed break. But we’ll be back Tuesday through… https://t.co/IKAC5BmYPM</td>\n",
              "      <td>Sun Apr 05 16:14:00 +0000 2020</td>\n",
              "      <td>US</td>\n",
              "    </tr>\n",
              "    <tr>\n",
              "      <th>11</th>\n",
              "      <td>1246833459827367936</td>\n",
              "      <td>This job is now open at Wentworth-Douglass Hospital in #Dover, NH. Follow us and turn on mobile alerts to hear abou… https://t.co/SQggj3Mm5H</td>\n",
              "      <td>Sun Apr 05 16:13:56 +0000 2020</td>\n",
              "      <td>US</td>\n",
              "    </tr>\n",
              "    <tr>\n",
              "      <th>12</th>\n",
              "      <td>1246833458262896640</td>\n",
              "      <td>#Repost @jayjacintom • Who here has eaten all of their kids quarantine snacks? Not me and that's all thanks to… https://t.co/VffLjME35Y</td>\n",
              "      <td>Sun Apr 05 16:13:56 +0000 2020</td>\n",
              "      <td>US</td>\n",
              "    </tr>\n",
              "    <tr>\n",
              "      <th>13</th>\n",
              "      <td>1246833454714478598</td>\n",
              "      <td>I am trying to stay present and buoyant. Sometimes I falter. nygovcuomo’s words this week felt like a balm that are… https://t.co/fAWRhhjDqb</td>\n",
              "      <td>Sun Apr 05 16:13:55 +0000 2020</td>\n",
              "      <td>US</td>\n",
              "    </tr>\n",
              "    <tr>\n",
              "      <th>14</th>\n",
              "      <td>1246833417737519105</td>\n",
              "      <td>This Physician / Surgeon.Neurology.General Neurology job might be a great fit for you. Click the link in our bio to… https://t.co/5qo8wHDLzA</td>\n",
              "      <td>Sun Apr 05 16:13:46 +0000 2020</td>\n",
              "      <td>US</td>\n",
              "    </tr>\n",
              "    <tr>\n",
              "      <th>15</th>\n",
              "      <td>1246833389732352000</td>\n",
              "      <td>@RichardsLance #music #love #hiphop #rap #musician #art #dj #singer #musica #artist #dance #rock #party #like… https://t.co/8b3LgwyFh3</td>\n",
              "      <td>Sun Apr 05 16:13:39 +0000 2020</td>\n",
              "      <td>US</td>\n",
              "    </tr>\n",
              "    <tr>\n",
              "      <th>16</th>\n",
              "      <td>1246833386884403200</td>\n",
              "      <td>Feeling great after my workout on this rainy Sunday. I’m teaching our team’s workout class tomorrow LIVE on Zoom. Y… https://t.co/HXXKvgnOue</td>\n",
              "      <td>Sun Apr 05 16:13:39 +0000 2020</td>\n",
              "      <td>US</td>\n",
              "    </tr>\n",
              "    <tr>\n",
              "      <th>17</th>\n",
              "      <td>1246833381213523969</td>\n",
              "      <td>Want to work in #McDonough, GA? View our latest opening: https://t.co/6l9f6HzPg6 #CustomerService</td>\n",
              "      <td>Sun Apr 05 16:13:37 +0000 2020</td>\n",
              "      <td>US</td>\n",
              "    </tr>\n",
              "    <tr>\n",
              "      <th>18</th>\n",
              "      <td>1246833374926233601</td>\n",
              "      <td>Interested in a job in #Spring, TX? This could be a great fit. Click the link in our bio to apply: Pharmacy Technic… https://t.co/dgFNAxjkKc</td>\n",
              "      <td>Sun Apr 05 16:13:36 +0000 2020</td>\n",
              "      <td>US</td>\n",
              "    </tr>\n",
              "    <tr>\n",
              "      <th>19</th>\n",
              "      <td>1246833373101735936</td>\n",
              "      <td>Join the DriveTime team! See our latest #IT job openings, including \\Information Security Architect\\\"</td>\n",
              "      <td>via the link in our bio. #Tempe</td>\n",
              "      <td>227</td>\n",
              "    </tr>\n",
              "  </tbody>\n",
              "</table>\n",
              "</div>"
            ],
            "text/plain": [
              "               tweet_id  ... country_code\n",
              "0   1246833590165368832  ...           US\n",
              "1   1246833587489370113  ...           US\n",
              "2   1246833584435908618  ...           US\n",
              "3   1246833568837443584  ...           US\n",
              "4   1246833560109092867  ...           US\n",
              "5   1246833557135183872  ...           US\n",
              "6   1246833556606685185  ...           US\n",
              "7   1246833538881556486  ...           US\n",
              "8   1246833505423638528  ...           US\n",
              "9   1246833505322991621  ...           US\n",
              "10  1246833477942738947  ...           US\n",
              "11  1246833459827367936  ...           US\n",
              "12  1246833458262896640  ...           US\n",
              "13  1246833454714478598  ...           US\n",
              "14  1246833417737519105  ...           US\n",
              "15  1246833389732352000  ...           US\n",
              "16  1246833386884403200  ...           US\n",
              "17  1246833381213523969  ...           US\n",
              "18  1246833374926233601  ...           US\n",
              "19  1246833373101735936  ...          227\n",
              "\n",
              "[20 rows x 4 columns]"
            ]
          },
          "metadata": {
            "tags": []
          },
          "execution_count": 3
        }
      ]
    },
    {
      "cell_type": "markdown",
      "metadata": {
        "id": "rpAM6EjQWQ5U"
      },
      "source": [
        "**Data_Cleaning**"
      ]
    },
    {
      "cell_type": "code",
      "metadata": {
        "colab": {
          "base_uri": "https://localhost:8080/",
          "height": 529
        },
        "id": "TzdlAN-DWU2R",
        "outputId": "52cdb930-9f53-442e-d5d0-8f12e096e260"
      },
      "source": [
        "#removing tweet_id columns to focus only on tweets\n",
        "\n",
        "df.drop(['tweet_id'],axis = 1, inplace = True)\n",
        "df.head(10)\n"
      ],
      "execution_count": 4,
      "outputs": [
        {
          "output_type": "execute_result",
          "data": {
            "text/html": [
              "<div>\n",
              "<style scoped>\n",
              "    .dataframe tbody tr th:only-of-type {\n",
              "        vertical-align: middle;\n",
              "    }\n",
              "\n",
              "    .dataframe tbody tr th {\n",
              "        vertical-align: top;\n",
              "    }\n",
              "\n",
              "    .dataframe thead th {\n",
              "        text-align: right;\n",
              "    }\n",
              "</style>\n",
              "<table border=\"1\" class=\"dataframe\">\n",
              "  <thead>\n",
              "    <tr style=\"text-align: right;\">\n",
              "      <th></th>\n",
              "      <th>text</th>\n",
              "      <th>created_at</th>\n",
              "      <th>country_code</th>\n",
              "    </tr>\n",
              "  </thead>\n",
              "  <tbody>\n",
              "    <tr>\n",
              "      <th>0</th>\n",
              "      <td>Don't be shy. Score a job like \\FT - Sales Floor Dept Supervisor- Flooring-Décor - Day\\\" at Lowe's by asking for ref… https://t.co/9AbO7BmeoZ\"</td>\n",
              "      <td>Sun Apr 05 16:14:27 +0000 2020</td>\n",
              "      <td>US</td>\n",
              "    </tr>\n",
              "    <tr>\n",
              "      <th>1</th>\n",
              "      <td>Join the Vail Health team! See our latest job opening here: https://t.co/zEvKmLqpVG #Nursing #Vail, CO</td>\n",
              "      <td>Sun Apr 05 16:14:26 +0000 2020</td>\n",
              "      <td>US</td>\n",
              "    </tr>\n",
              "    <tr>\n",
              "      <th>2</th>\n",
              "      <td>Thompson Health is hiring in #Canandaigua, NY! Read about our latest #Healthcare job opening via the link in our bi… https://t.co/HdfhXMhIY7</td>\n",
              "      <td>Sun Apr 05 16:14:26 +0000 2020</td>\n",
              "      <td>US</td>\n",
              "    </tr>\n",
              "    <tr>\n",
              "      <th>3</th>\n",
              "      <td>Bartending while at home because why not. I'm suppose to be on vacation in Cali so wife decided she wanted a \\stayc… https://t.co/NsJO3OVvLZ\"</td>\n",
              "      <td>Sun Apr 05 16:14:22 +0000 2020</td>\n",
              "      <td>US</td>\n",
              "    </tr>\n",
              "    <tr>\n",
              "      <th>4</th>\n",
              "      <td>Requested suggestions for sketches jacklenihanart suggested Solid Snake from MGS so here we go, it starts. Got a lo… https://t.co/ihgE1Tj7hr</td>\n",
              "      <td>Sun Apr 05 16:14:20 +0000 2020</td>\n",
              "      <td>US</td>\n",
              "    </tr>\n",
              "    <tr>\n",
              "      <th>5</th>\n",
              "      <td>We're hiring in #Spartanburg, SC! Click the link in our bio to apply to this job and more: Assembly (3rd Shift) at… https://t.co/GjEdIQHXvu</td>\n",
              "      <td>Sun Apr 05 16:14:19 +0000 2020</td>\n",
              "      <td>US</td>\n",
              "    </tr>\n",
              "    <tr>\n",
              "      <th>6</th>\n",
              "      <td>If you're looking for work in #Greensboro, NC, check out this job: https://t.co/ozEO1oYR7c #BusinessMgmt</td>\n",
              "      <td>Sun Apr 05 16:14:19 +0000 2020</td>\n",
              "      <td>US</td>\n",
              "    </tr>\n",
              "    <tr>\n",
              "      <th>7</th>\n",
              "      <td>Morningside of Paris is looking for teammates like you. See our latest #Nursing job openings, including \\Resident A… https://t.co/1wAE82HCPH\"</td>\n",
              "      <td>Sun Apr 05 16:14:15 +0000 2020</td>\n",
              "      <td>US</td>\n",
              "    </tr>\n",
              "    <tr>\n",
              "      <th>8</th>\n",
              "      <td>See our latest Dayton, OH DMI ACCT GROUP job opportunity and click the link in our bio to apply: ELINT Intelligence… https://t.co/nbMNhxeofM</td>\n",
              "      <td>Sun Apr 05 16:14:07 +0000 2020</td>\n",
              "      <td>US</td>\n",
              "    </tr>\n",
              "    <tr>\n",
              "      <th>9</th>\n",
              "      <td>Want to work at Comerica Bank? We're hiring in #Dallas, TX! Click for details: https://t.co/ZilFudwZGj #Retail</td>\n",
              "      <td>Sun Apr 05 16:14:07 +0000 2020</td>\n",
              "      <td>US</td>\n",
              "    </tr>\n",
              "  </tbody>\n",
              "</table>\n",
              "</div>"
            ],
            "text/plain": [
              "                                                                                                                                             text  ... country_code\n",
              "0  Don't be shy. Score a job like \\FT - Sales Floor Dept Supervisor- Flooring-Décor - Day\\\" at Lowe's by asking for ref… https://t.co/9AbO7BmeoZ\"  ...           US\n",
              "1                                          Join the Vail Health team! See our latest job opening here: https://t.co/zEvKmLqpVG #Nursing #Vail, CO  ...           US\n",
              "2    Thompson Health is hiring in #Canandaigua, NY! Read about our latest #Healthcare job opening via the link in our bi… https://t.co/HdfhXMhIY7  ...           US\n",
              "3   Bartending while at home because why not. I'm suppose to be on vacation in Cali so wife decided she wanted a \\stayc… https://t.co/NsJO3OVvLZ\"  ...           US\n",
              "4    Requested suggestions for sketches jacklenihanart suggested Solid Snake from MGS so here we go, it starts. Got a lo… https://t.co/ihgE1Tj7hr  ...           US\n",
              "5     We're hiring in #Spartanburg, SC! Click the link in our bio to apply to this job and more: Assembly (3rd Shift) at… https://t.co/GjEdIQHXvu  ...           US\n",
              "6                                        If you're looking for work in #Greensboro, NC, check out this job: https://t.co/ozEO1oYR7c #BusinessMgmt  ...           US\n",
              "7   Morningside of Paris is looking for teammates like you. See our latest #Nursing job openings, including \\Resident A… https://t.co/1wAE82HCPH\"  ...           US\n",
              "8    See our latest Dayton, OH DMI ACCT GROUP job opportunity and click the link in our bio to apply: ELINT Intelligence… https://t.co/nbMNhxeofM  ...           US\n",
              "9                                  Want to work at Comerica Bank? We're hiring in #Dallas, TX! Click for details: https://t.co/ZilFudwZGj #Retail  ...           US\n",
              "\n",
              "[10 rows x 3 columns]"
            ]
          },
          "metadata": {
            "tags": []
          },
          "execution_count": 4
        }
      ]
    },
    {
      "cell_type": "code",
      "metadata": {
        "id": "y0iR9vawWtQ1"
      },
      "source": [
        "# removing @ symbol if any [replacing it from space\n",
        "df['Proper_text'] = df['text'].str.replace(\"@\",\"\")"
      ],
      "execution_count": 5,
      "outputs": []
    },
    {
      "cell_type": "code",
      "metadata": {
        "colab": {
          "base_uri": "https://localhost:8080/",
          "height": 391
        },
        "id": "8gDEHlOWXBmG",
        "outputId": "c62b51d3-2c4a-4840-e429-83d12dd9e955"
      },
      "source": [
        "df.head()"
      ],
      "execution_count": 6,
      "outputs": [
        {
          "output_type": "execute_result",
          "data": {
            "text/html": [
              "<div>\n",
              "<style scoped>\n",
              "    .dataframe tbody tr th:only-of-type {\n",
              "        vertical-align: middle;\n",
              "    }\n",
              "\n",
              "    .dataframe tbody tr th {\n",
              "        vertical-align: top;\n",
              "    }\n",
              "\n",
              "    .dataframe thead th {\n",
              "        text-align: right;\n",
              "    }\n",
              "</style>\n",
              "<table border=\"1\" class=\"dataframe\">\n",
              "  <thead>\n",
              "    <tr style=\"text-align: right;\">\n",
              "      <th></th>\n",
              "      <th>text</th>\n",
              "      <th>created_at</th>\n",
              "      <th>country_code</th>\n",
              "      <th>Proper_text</th>\n",
              "    </tr>\n",
              "  </thead>\n",
              "  <tbody>\n",
              "    <tr>\n",
              "      <th>0</th>\n",
              "      <td>Don't be shy. Score a job like \\FT - Sales Floor Dept Supervisor- Flooring-Décor - Day\\\" at Lowe's by asking for ref… https://t.co/9AbO7BmeoZ\"</td>\n",
              "      <td>Sun Apr 05 16:14:27 +0000 2020</td>\n",
              "      <td>US</td>\n",
              "      <td>Don't be shy. Score a job like \\FT - Sales Floor Dept Supervisor- Flooring-Décor - Day\\\" at Lowe's by asking for ref… https://t.co/9AbO7BmeoZ\"</td>\n",
              "    </tr>\n",
              "    <tr>\n",
              "      <th>1</th>\n",
              "      <td>Join the Vail Health team! See our latest job opening here: https://t.co/zEvKmLqpVG #Nursing #Vail, CO</td>\n",
              "      <td>Sun Apr 05 16:14:26 +0000 2020</td>\n",
              "      <td>US</td>\n",
              "      <td>Join the Vail Health team! See our latest job opening here: https://t.co/zEvKmLqpVG #Nursing #Vail, CO</td>\n",
              "    </tr>\n",
              "    <tr>\n",
              "      <th>2</th>\n",
              "      <td>Thompson Health is hiring in #Canandaigua, NY! Read about our latest #Healthcare job opening via the link in our bi… https://t.co/HdfhXMhIY7</td>\n",
              "      <td>Sun Apr 05 16:14:26 +0000 2020</td>\n",
              "      <td>US</td>\n",
              "      <td>Thompson Health is hiring in #Canandaigua, NY! Read about our latest #Healthcare job opening via the link in our bi… https://t.co/HdfhXMhIY7</td>\n",
              "    </tr>\n",
              "    <tr>\n",
              "      <th>3</th>\n",
              "      <td>Bartending while at home because why not. I'm suppose to be on vacation in Cali so wife decided she wanted a \\stayc… https://t.co/NsJO3OVvLZ\"</td>\n",
              "      <td>Sun Apr 05 16:14:22 +0000 2020</td>\n",
              "      <td>US</td>\n",
              "      <td>Bartending while at home because why not. I'm suppose to be on vacation in Cali so wife decided she wanted a \\stayc… https://t.co/NsJO3OVvLZ\"</td>\n",
              "    </tr>\n",
              "    <tr>\n",
              "      <th>4</th>\n",
              "      <td>Requested suggestions for sketches jacklenihanart suggested Solid Snake from MGS so here we go, it starts. Got a lo… https://t.co/ihgE1Tj7hr</td>\n",
              "      <td>Sun Apr 05 16:14:20 +0000 2020</td>\n",
              "      <td>US</td>\n",
              "      <td>Requested suggestions for sketches jacklenihanart suggested Solid Snake from MGS so here we go, it starts. Got a lo… https://t.co/ihgE1Tj7hr</td>\n",
              "    </tr>\n",
              "  </tbody>\n",
              "</table>\n",
              "</div>"
            ],
            "text/plain": [
              "                                                                                                                                             text  ...                                                                                                                                     Proper_text\n",
              "0  Don't be shy. Score a job like \\FT - Sales Floor Dept Supervisor- Flooring-Décor - Day\\\" at Lowe's by asking for ref… https://t.co/9AbO7BmeoZ\"  ...  Don't be shy. Score a job like \\FT - Sales Floor Dept Supervisor- Flooring-Décor - Day\\\" at Lowe's by asking for ref… https://t.co/9AbO7BmeoZ\"\n",
              "1                                          Join the Vail Health team! See our latest job opening here: https://t.co/zEvKmLqpVG #Nursing #Vail, CO  ...                                          Join the Vail Health team! See our latest job opening here: https://t.co/zEvKmLqpVG #Nursing #Vail, CO\n",
              "2    Thompson Health is hiring in #Canandaigua, NY! Read about our latest #Healthcare job opening via the link in our bi… https://t.co/HdfhXMhIY7  ...    Thompson Health is hiring in #Canandaigua, NY! Read about our latest #Healthcare job opening via the link in our bi… https://t.co/HdfhXMhIY7\n",
              "3   Bartending while at home because why not. I'm suppose to be on vacation in Cali so wife decided she wanted a \\stayc… https://t.co/NsJO3OVvLZ\"  ...   Bartending while at home because why not. I'm suppose to be on vacation in Cali so wife decided she wanted a \\stayc… https://t.co/NsJO3OVvLZ\"\n",
              "4    Requested suggestions for sketches jacklenihanart suggested Solid Snake from MGS so here we go, it starts. Got a lo… https://t.co/ihgE1Tj7hr  ...    Requested suggestions for sketches jacklenihanart suggested Solid Snake from MGS so here we go, it starts. Got a lo… https://t.co/ihgE1Tj7hr\n",
              "\n",
              "[5 rows x 4 columns]"
            ]
          },
          "metadata": {
            "tags": []
          },
          "execution_count": 6
        }
      ]
    },
    {
      "cell_type": "code",
      "metadata": {
        "id": "VBVPZ3nflmAe"
      },
      "source": [
        "df['Proper_text'] = df['text'].str.split('https').str[0]\n"
      ],
      "execution_count": 7,
      "outputs": []
    },
    {
      "cell_type": "code",
      "metadata": {
        "colab": {
          "base_uri": "https://localhost:8080/",
          "height": 374
        },
        "id": "Su1kIG9QXXqt",
        "outputId": "a74f2a42-fa12-4118-c947-6af508b42dd9"
      },
      "source": [
        "df.head()"
      ],
      "execution_count": 8,
      "outputs": [
        {
          "output_type": "execute_result",
          "data": {
            "text/html": [
              "<div>\n",
              "<style scoped>\n",
              "    .dataframe tbody tr th:only-of-type {\n",
              "        vertical-align: middle;\n",
              "    }\n",
              "\n",
              "    .dataframe tbody tr th {\n",
              "        vertical-align: top;\n",
              "    }\n",
              "\n",
              "    .dataframe thead th {\n",
              "        text-align: right;\n",
              "    }\n",
              "</style>\n",
              "<table border=\"1\" class=\"dataframe\">\n",
              "  <thead>\n",
              "    <tr style=\"text-align: right;\">\n",
              "      <th></th>\n",
              "      <th>text</th>\n",
              "      <th>created_at</th>\n",
              "      <th>country_code</th>\n",
              "      <th>Proper_text</th>\n",
              "    </tr>\n",
              "  </thead>\n",
              "  <tbody>\n",
              "    <tr>\n",
              "      <th>0</th>\n",
              "      <td>Don't be shy. Score a job like \\FT - Sales Floor Dept Supervisor- Flooring-Décor - Day\\\" at Lowe's by asking for ref… https://t.co/9AbO7BmeoZ\"</td>\n",
              "      <td>Sun Apr 05 16:14:27 +0000 2020</td>\n",
              "      <td>US</td>\n",
              "      <td>Don't be shy. Score a job like \\FT - Sales Floor Dept Supervisor- Flooring-Décor - Day\\\" at Lowe's by asking for ref…</td>\n",
              "    </tr>\n",
              "    <tr>\n",
              "      <th>1</th>\n",
              "      <td>Join the Vail Health team! See our latest job opening here: https://t.co/zEvKmLqpVG #Nursing #Vail, CO</td>\n",
              "      <td>Sun Apr 05 16:14:26 +0000 2020</td>\n",
              "      <td>US</td>\n",
              "      <td>Join the Vail Health team! See our latest job opening here:</td>\n",
              "    </tr>\n",
              "    <tr>\n",
              "      <th>2</th>\n",
              "      <td>Thompson Health is hiring in #Canandaigua, NY! Read about our latest #Healthcare job opening via the link in our bi… https://t.co/HdfhXMhIY7</td>\n",
              "      <td>Sun Apr 05 16:14:26 +0000 2020</td>\n",
              "      <td>US</td>\n",
              "      <td>Thompson Health is hiring in #Canandaigua, NY! Read about our latest #Healthcare job opening via the link in our bi…</td>\n",
              "    </tr>\n",
              "    <tr>\n",
              "      <th>3</th>\n",
              "      <td>Bartending while at home because why not. I'm suppose to be on vacation in Cali so wife decided she wanted a \\stayc… https://t.co/NsJO3OVvLZ\"</td>\n",
              "      <td>Sun Apr 05 16:14:22 +0000 2020</td>\n",
              "      <td>US</td>\n",
              "      <td>Bartending while at home because why not. I'm suppose to be on vacation in Cali so wife decided she wanted a \\stayc…</td>\n",
              "    </tr>\n",
              "    <tr>\n",
              "      <th>4</th>\n",
              "      <td>Requested suggestions for sketches jacklenihanart suggested Solid Snake from MGS so here we go, it starts. Got a lo… https://t.co/ihgE1Tj7hr</td>\n",
              "      <td>Sun Apr 05 16:14:20 +0000 2020</td>\n",
              "      <td>US</td>\n",
              "      <td>Requested suggestions for sketches jacklenihanart suggested Solid Snake from MGS so here we go, it starts. Got a lo…</td>\n",
              "    </tr>\n",
              "  </tbody>\n",
              "</table>\n",
              "</div>"
            ],
            "text/plain": [
              "                                                                                                                                             text  ...                                                                                                             Proper_text\n",
              "0  Don't be shy. Score a job like \\FT - Sales Floor Dept Supervisor- Flooring-Décor - Day\\\" at Lowe's by asking for ref… https://t.co/9AbO7BmeoZ\"  ...  Don't be shy. Score a job like \\FT - Sales Floor Dept Supervisor- Flooring-Décor - Day\\\" at Lowe's by asking for ref… \n",
              "1                                          Join the Vail Health team! See our latest job opening here: https://t.co/zEvKmLqpVG #Nursing #Vail, CO  ...                                                            Join the Vail Health team! See our latest job opening here: \n",
              "2    Thompson Health is hiring in #Canandaigua, NY! Read about our latest #Healthcare job opening via the link in our bi… https://t.co/HdfhXMhIY7  ...   Thompson Health is hiring in #Canandaigua, NY! Read about our latest #Healthcare job opening via the link in our bi… \n",
              "3   Bartending while at home because why not. I'm suppose to be on vacation in Cali so wife decided she wanted a \\stayc… https://t.co/NsJO3OVvLZ\"  ...   Bartending while at home because why not. I'm suppose to be on vacation in Cali so wife decided she wanted a \\stayc… \n",
              "4    Requested suggestions for sketches jacklenihanart suggested Solid Snake from MGS so here we go, it starts. Got a lo… https://t.co/ihgE1Tj7hr  ...   Requested suggestions for sketches jacklenihanart suggested Solid Snake from MGS so here we go, it starts. Got a lo… \n",
              "\n",
              "[5 rows x 4 columns]"
            ]
          },
          "metadata": {
            "tags": []
          },
          "execution_count": 8
        }
      ]
    },
    {
      "cell_type": "code",
      "metadata": {
        "id": "MLLm3492mHr0"
      },
      "source": [
        "df['Proper_text'] = df['Proper_text'].str.replace(\"I\",\"\")"
      ],
      "execution_count": 9,
      "outputs": []
    },
    {
      "cell_type": "code",
      "metadata": {
        "colab": {
          "base_uri": "https://localhost:8080/",
          "height": 374
        },
        "id": "0JaikzShXZy9",
        "outputId": "502be186-e9c8-4293-b84b-3c9cedf4078a"
      },
      "source": [
        "#removing punctuations, numbers and special characters\n",
        "\n",
        "df['Proper_text'] = df['Proper_text'].str.replace(\"[^a-zA-Z]\",\" \")\n",
        "df['Proper_text'].astype(str)\n",
        "df.head()"
      ],
      "execution_count": 10,
      "outputs": [
        {
          "output_type": "execute_result",
          "data": {
            "text/html": [
              "<div>\n",
              "<style scoped>\n",
              "    .dataframe tbody tr th:only-of-type {\n",
              "        vertical-align: middle;\n",
              "    }\n",
              "\n",
              "    .dataframe tbody tr th {\n",
              "        vertical-align: top;\n",
              "    }\n",
              "\n",
              "    .dataframe thead th {\n",
              "        text-align: right;\n",
              "    }\n",
              "</style>\n",
              "<table border=\"1\" class=\"dataframe\">\n",
              "  <thead>\n",
              "    <tr style=\"text-align: right;\">\n",
              "      <th></th>\n",
              "      <th>text</th>\n",
              "      <th>created_at</th>\n",
              "      <th>country_code</th>\n",
              "      <th>Proper_text</th>\n",
              "    </tr>\n",
              "  </thead>\n",
              "  <tbody>\n",
              "    <tr>\n",
              "      <th>0</th>\n",
              "      <td>Don't be shy. Score a job like \\FT - Sales Floor Dept Supervisor- Flooring-Décor - Day\\\" at Lowe's by asking for ref… https://t.co/9AbO7BmeoZ\"</td>\n",
              "      <td>Sun Apr 05 16:14:27 +0000 2020</td>\n",
              "      <td>US</td>\n",
              "      <td>Don t be shy  Score a job like  FT   Sales Floor Dept Supervisor  Flooring D cor   Day   at Lowe s by asking for ref</td>\n",
              "    </tr>\n",
              "    <tr>\n",
              "      <th>1</th>\n",
              "      <td>Join the Vail Health team! See our latest job opening here: https://t.co/zEvKmLqpVG #Nursing #Vail, CO</td>\n",
              "      <td>Sun Apr 05 16:14:26 +0000 2020</td>\n",
              "      <td>US</td>\n",
              "      <td>Join the Vail Health team  See our latest job opening here</td>\n",
              "    </tr>\n",
              "    <tr>\n",
              "      <th>2</th>\n",
              "      <td>Thompson Health is hiring in #Canandaigua, NY! Read about our latest #Healthcare job opening via the link in our bi… https://t.co/HdfhXMhIY7</td>\n",
              "      <td>Sun Apr 05 16:14:26 +0000 2020</td>\n",
              "      <td>US</td>\n",
              "      <td>Thompson Health is hiring in  Canandaigua  NY  Read about our latest  Healthcare job opening via the link in our bi</td>\n",
              "    </tr>\n",
              "    <tr>\n",
              "      <th>3</th>\n",
              "      <td>Bartending while at home because why not. I'm suppose to be on vacation in Cali so wife decided she wanted a \\stayc… https://t.co/NsJO3OVvLZ\"</td>\n",
              "      <td>Sun Apr 05 16:14:22 +0000 2020</td>\n",
              "      <td>US</td>\n",
              "      <td>Bartending while at home because why not   m suppose to be on vacation in Cali so wife decided she wanted a  stayc</td>\n",
              "    </tr>\n",
              "    <tr>\n",
              "      <th>4</th>\n",
              "      <td>Requested suggestions for sketches jacklenihanart suggested Solid Snake from MGS so here we go, it starts. Got a lo… https://t.co/ihgE1Tj7hr</td>\n",
              "      <td>Sun Apr 05 16:14:20 +0000 2020</td>\n",
              "      <td>US</td>\n",
              "      <td>Requested suggestions for sketches jacklenihanart suggested Solid Snake from MGS so here we go  it starts  Got a lo</td>\n",
              "    </tr>\n",
              "  </tbody>\n",
              "</table>\n",
              "</div>"
            ],
            "text/plain": [
              "                                                                                                                                             text  ...                                                                                                             Proper_text\n",
              "0  Don't be shy. Score a job like \\FT - Sales Floor Dept Supervisor- Flooring-Décor - Day\\\" at Lowe's by asking for ref… https://t.co/9AbO7BmeoZ\"  ...  Don t be shy  Score a job like  FT   Sales Floor Dept Supervisor  Flooring D cor   Day   at Lowe s by asking for ref  \n",
              "1                                          Join the Vail Health team! See our latest job opening here: https://t.co/zEvKmLqpVG #Nursing #Vail, CO  ...                                                            Join the Vail Health team  See our latest job opening here  \n",
              "2    Thompson Health is hiring in #Canandaigua, NY! Read about our latest #Healthcare job opening via the link in our bi… https://t.co/HdfhXMhIY7  ...   Thompson Health is hiring in  Canandaigua  NY  Read about our latest  Healthcare job opening via the link in our bi  \n",
              "3   Bartending while at home because why not. I'm suppose to be on vacation in Cali so wife decided she wanted a \\stayc… https://t.co/NsJO3OVvLZ\"  ...    Bartending while at home because why not   m suppose to be on vacation in Cali so wife decided she wanted a  stayc  \n",
              "4    Requested suggestions for sketches jacklenihanart suggested Solid Snake from MGS so here we go, it starts. Got a lo… https://t.co/ihgE1Tj7hr  ...   Requested suggestions for sketches jacklenihanart suggested Solid Snake from MGS so here we go  it starts  Got a lo  \n",
              "\n",
              "[5 rows x 4 columns]"
            ]
          },
          "metadata": {
            "tags": []
          },
          "execution_count": 10
        }
      ]
    },
    {
      "cell_type": "code",
      "metadata": {
        "colab": {
          "base_uri": "https://localhost:8080/"
        },
        "id": "N-1fVAotXTgM",
        "outputId": "ac8334bf-91fb-48a0-955a-824e1d53e2bd"
      },
      "source": [
        "import nltk\n",
        "nltk.download('stopwords')"
      ],
      "execution_count": 11,
      "outputs": [
        {
          "output_type": "stream",
          "text": [
            "[nltk_data] Downloading package stopwords to /root/nltk_data...\n",
            "[nltk_data]   Unzipping corpora/stopwords.zip.\n"
          ],
          "name": "stdout"
        },
        {
          "output_type": "execute_result",
          "data": {
            "text/plain": [
              "True"
            ]
          },
          "metadata": {
            "tags": []
          },
          "execution_count": 11
        }
      ]
    },
    {
      "cell_type": "code",
      "metadata": {
        "colab": {
          "base_uri": "https://localhost:8080/"
        },
        "id": "LqCtMF8gYmUY",
        "outputId": "d2887bce-1520-469e-b8be-bdda87cbb51a"
      },
      "source": [
        "from nltk.corpus import stopwords\n",
        "stop = stopwords.words('english')\n",
        "df['Proper_text'].astype(str)\n",
        "df.dtypes"
      ],
      "execution_count": 12,
      "outputs": [
        {
          "output_type": "execute_result",
          "data": {
            "text/plain": [
              "text            object\n",
              "created_at      object\n",
              "country_code    object\n",
              "Proper_text     object\n",
              "dtype: object"
            ]
          },
          "metadata": {
            "tags": []
          },
          "execution_count": 12
        }
      ]
    },
    {
      "cell_type": "code",
      "metadata": {
        "id": "R_7-pHKhyzDG"
      },
      "source": [
        "df['Proper_text'] = df['Proper_text'].astype(str).apply(lambda x: ' '.join([word for word in x.split() if word not in (stop)]))"
      ],
      "execution_count": 13,
      "outputs": []
    },
    {
      "cell_type": "code",
      "metadata": {
        "colab": {
          "base_uri": "https://localhost:8080/",
          "height": 827
        },
        "id": "yms0BsXszDVH",
        "outputId": "66158355-e15e-41cc-dec0-8db948b8af41"
      },
      "source": [
        "df"
      ],
      "execution_count": 14,
      "outputs": [
        {
          "output_type": "execute_result",
          "data": {
            "text/html": [
              "<div>\n",
              "<style scoped>\n",
              "    .dataframe tbody tr th:only-of-type {\n",
              "        vertical-align: middle;\n",
              "    }\n",
              "\n",
              "    .dataframe tbody tr th {\n",
              "        vertical-align: top;\n",
              "    }\n",
              "\n",
              "    .dataframe thead th {\n",
              "        text-align: right;\n",
              "    }\n",
              "</style>\n",
              "<table border=\"1\" class=\"dataframe\">\n",
              "  <thead>\n",
              "    <tr style=\"text-align: right;\">\n",
              "      <th></th>\n",
              "      <th>text</th>\n",
              "      <th>created_at</th>\n",
              "      <th>country_code</th>\n",
              "      <th>Proper_text</th>\n",
              "    </tr>\n",
              "  </thead>\n",
              "  <tbody>\n",
              "    <tr>\n",
              "      <th>0</th>\n",
              "      <td>Don't be shy. Score a job like \\FT - Sales Floor Dept Supervisor- Flooring-Décor - Day\\\" at Lowe's by asking for ref… https://t.co/9AbO7BmeoZ\"</td>\n",
              "      <td>Sun Apr 05 16:14:27 +0000 2020</td>\n",
              "      <td>US</td>\n",
              "      <td>Don shy Score job like FT Sales Floor Dept Supervisor Flooring D cor Day Lowe asking ref</td>\n",
              "    </tr>\n",
              "    <tr>\n",
              "      <th>1</th>\n",
              "      <td>Join the Vail Health team! See our latest job opening here: https://t.co/zEvKmLqpVG #Nursing #Vail, CO</td>\n",
              "      <td>Sun Apr 05 16:14:26 +0000 2020</td>\n",
              "      <td>US</td>\n",
              "      <td>Join Vail Health team See latest job opening</td>\n",
              "    </tr>\n",
              "    <tr>\n",
              "      <th>2</th>\n",
              "      <td>Thompson Health is hiring in #Canandaigua, NY! Read about our latest #Healthcare job opening via the link in our bi… https://t.co/HdfhXMhIY7</td>\n",
              "      <td>Sun Apr 05 16:14:26 +0000 2020</td>\n",
              "      <td>US</td>\n",
              "      <td>Thompson Health hiring Canandaigua NY Read latest Healthcare job opening via link bi</td>\n",
              "    </tr>\n",
              "    <tr>\n",
              "      <th>3</th>\n",
              "      <td>Bartending while at home because why not. I'm suppose to be on vacation in Cali so wife decided she wanted a \\stayc… https://t.co/NsJO3OVvLZ\"</td>\n",
              "      <td>Sun Apr 05 16:14:22 +0000 2020</td>\n",
              "      <td>US</td>\n",
              "      <td>Bartending home suppose vacation Cali wife decided wanted stayc</td>\n",
              "    </tr>\n",
              "    <tr>\n",
              "      <th>4</th>\n",
              "      <td>Requested suggestions for sketches jacklenihanart suggested Solid Snake from MGS so here we go, it starts. Got a lo… https://t.co/ihgE1Tj7hr</td>\n",
              "      <td>Sun Apr 05 16:14:20 +0000 2020</td>\n",
              "      <td>US</td>\n",
              "      <td>Requested suggestions sketches jacklenihanart suggested Solid Snake MGS go starts Got lo</td>\n",
              "    </tr>\n",
              "    <tr>\n",
              "      <th>...</th>\n",
              "      <td>...</td>\n",
              "      <td>...</td>\n",
              "      <td>...</td>\n",
              "      <td>...</td>\n",
              "    </tr>\n",
              "    <tr>\n",
              "      <th>31087</th>\n",
              "      <td>See our latest Springfield, MO Nursing job opportunity and click the link in our bio to apply: Registered Nurse-Med… https://t.co/MbrZzCHPvV</td>\n",
              "      <td>Tue Apr 07 18:57:07 +0000 2020</td>\n",
              "      <td>US</td>\n",
              "      <td>See latest Springfield MO Nursing job opportunity click link bio apply Registered Nurse Med</td>\n",
              "    </tr>\n",
              "    <tr>\n",
              "      <th>31088</th>\n",
              "      <td>Nervous to apply for a job like \\Wireless - Retail Sales Associate - Homewood</td>\n",
              "      <td>IL\\\" at OSL? Apply even if you're not… https://t.co/ZTIma4CKBl\"</td>\n",
              "      <td>en</td>\n",
              "      <td>Nervous apply job like Wireless Retail Sales Associate Homewood</td>\n",
              "    </tr>\n",
              "    <tr>\n",
              "      <th>31089</th>\n",
              "      <td>This job is now open at Banner Health in #Greeley, CO. Follow us and turn on mobile alerts to hear about jobs like… https://t.co/5kII3nM47b</td>\n",
              "      <td>Tue Apr 07 18:57:02 +0000 2020</td>\n",
              "      <td>US</td>\n",
              "      <td>This job open Banner Health Greeley CO Follow us turn mobile alerts hear jobs like</td>\n",
              "    </tr>\n",
              "    <tr>\n",
              "      <th>31090</th>\n",
              "      <td>Kindness rocks!  These are rocks from our ECI Oasis Summer Camp!  The idea is to put them around your neighborhood… https://t.co/dYcWWHa6Pg</td>\n",
              "      <td>Tue Apr 07 18:57:00 +0000 2020</td>\n",
              "      <td>US</td>\n",
              "      <td>Kindness rocks These rocks EC Oasis Summer Camp The idea put around neighborhood</td>\n",
              "    </tr>\n",
              "    <tr>\n",
              "      <th>31091</th>\n",
              "      <td>Can you recommend anyone for this #Retail job in #Gatesville, NC? Click the link in our bio to see it and more. SAL… https://t.co/FoEzdHWFxn</td>\n",
              "      <td>Tue Apr 07 18:56:54 +0000 2020</td>\n",
              "      <td>US</td>\n",
              "      <td>Can recommend anyone Retail job Gatesville NC Click link bio see SAL</td>\n",
              "    </tr>\n",
              "  </tbody>\n",
              "</table>\n",
              "<p>31092 rows × 4 columns</p>\n",
              "</div>"
            ],
            "text/plain": [
              "                                                                                                                                                 text  ...                                                                                  Proper_text\n",
              "0      Don't be shy. Score a job like \\FT - Sales Floor Dept Supervisor- Flooring-Décor - Day\\\" at Lowe's by asking for ref… https://t.co/9AbO7BmeoZ\"  ...     Don shy Score job like FT Sales Floor Dept Supervisor Flooring D cor Day Lowe asking ref\n",
              "1                                              Join the Vail Health team! See our latest job opening here: https://t.co/zEvKmLqpVG #Nursing #Vail, CO  ...                                                 Join Vail Health team See latest job opening\n",
              "2        Thompson Health is hiring in #Canandaigua, NY! Read about our latest #Healthcare job opening via the link in our bi… https://t.co/HdfhXMhIY7  ...         Thompson Health hiring Canandaigua NY Read latest Healthcare job opening via link bi\n",
              "3       Bartending while at home because why not. I'm suppose to be on vacation in Cali so wife decided she wanted a \\stayc… https://t.co/NsJO3OVvLZ\"  ...                              Bartending home suppose vacation Cali wife decided wanted stayc\n",
              "4        Requested suggestions for sketches jacklenihanart suggested Solid Snake from MGS so here we go, it starts. Got a lo… https://t.co/ihgE1Tj7hr  ...     Requested suggestions sketches jacklenihanart suggested Solid Snake MGS go starts Got lo\n",
              "...                                                                                                                                               ...  ...                                                                                          ...\n",
              "31087    See our latest Springfield, MO Nursing job opportunity and click the link in our bio to apply: Registered Nurse-Med… https://t.co/MbrZzCHPvV  ...  See latest Springfield MO Nursing job opportunity click link bio apply Registered Nurse Med\n",
              "31088                                                                   Nervous to apply for a job like \\Wireless - Retail Sales Associate - Homewood  ...                              Nervous apply job like Wireless Retail Sales Associate Homewood\n",
              "31089     This job is now open at Banner Health in #Greeley, CO. Follow us and turn on mobile alerts to hear about jobs like… https://t.co/5kII3nM47b  ...           This job open Banner Health Greeley CO Follow us turn mobile alerts hear jobs like\n",
              "31090     Kindness rocks!  These are rocks from our ECI Oasis Summer Camp!  The idea is to put them around your neighborhood… https://t.co/dYcWWHa6Pg  ...             Kindness rocks These rocks EC Oasis Summer Camp The idea put around neighborhood\n",
              "31091    Can you recommend anyone for this #Retail job in #Gatesville, NC? Click the link in our bio to see it and more. SAL… https://t.co/FoEzdHWFxn  ...                         Can recommend anyone Retail job Gatesville NC Click link bio see SAL\n",
              "\n",
              "[31092 rows x 4 columns]"
            ]
          },
          "metadata": {
            "tags": []
          },
          "execution_count": 14
        }
      ]
    },
    {
      "cell_type": "code",
      "metadata": {
        "colab": {
          "base_uri": "https://localhost:8080/",
          "height": 374
        },
        "id": "0Pl9nI1czOuO",
        "outputId": "b8409dda-7554-49c3-c37e-ecffe5fa95ac"
      },
      "source": [
        "df['Proper_text'] = df['Proper_text'].astype(str).apply(lambda x: x.split())\n",
        "df.head()"
      ],
      "execution_count": 15,
      "outputs": [
        {
          "output_type": "execute_result",
          "data": {
            "text/html": [
              "<div>\n",
              "<style scoped>\n",
              "    .dataframe tbody tr th:only-of-type {\n",
              "        vertical-align: middle;\n",
              "    }\n",
              "\n",
              "    .dataframe tbody tr th {\n",
              "        vertical-align: top;\n",
              "    }\n",
              "\n",
              "    .dataframe thead th {\n",
              "        text-align: right;\n",
              "    }\n",
              "</style>\n",
              "<table border=\"1\" class=\"dataframe\">\n",
              "  <thead>\n",
              "    <tr style=\"text-align: right;\">\n",
              "      <th></th>\n",
              "      <th>text</th>\n",
              "      <th>created_at</th>\n",
              "      <th>country_code</th>\n",
              "      <th>Proper_text</th>\n",
              "    </tr>\n",
              "  </thead>\n",
              "  <tbody>\n",
              "    <tr>\n",
              "      <th>0</th>\n",
              "      <td>Don't be shy. Score a job like \\FT - Sales Floor Dept Supervisor- Flooring-Décor - Day\\\" at Lowe's by asking for ref… https://t.co/9AbO7BmeoZ\"</td>\n",
              "      <td>Sun Apr 05 16:14:27 +0000 2020</td>\n",
              "      <td>US</td>\n",
              "      <td>[Don, shy, Score, job, like, FT, Sales, Floor, Dept, Supervisor, Flooring, D, cor, Day, Lowe, asking, ref]</td>\n",
              "    </tr>\n",
              "    <tr>\n",
              "      <th>1</th>\n",
              "      <td>Join the Vail Health team! See our latest job opening here: https://t.co/zEvKmLqpVG #Nursing #Vail, CO</td>\n",
              "      <td>Sun Apr 05 16:14:26 +0000 2020</td>\n",
              "      <td>US</td>\n",
              "      <td>[Join, Vail, Health, team, See, latest, job, opening]</td>\n",
              "    </tr>\n",
              "    <tr>\n",
              "      <th>2</th>\n",
              "      <td>Thompson Health is hiring in #Canandaigua, NY! Read about our latest #Healthcare job opening via the link in our bi… https://t.co/HdfhXMhIY7</td>\n",
              "      <td>Sun Apr 05 16:14:26 +0000 2020</td>\n",
              "      <td>US</td>\n",
              "      <td>[Thompson, Health, hiring, Canandaigua, NY, Read, latest, Healthcare, job, opening, via, link, bi]</td>\n",
              "    </tr>\n",
              "    <tr>\n",
              "      <th>3</th>\n",
              "      <td>Bartending while at home because why not. I'm suppose to be on vacation in Cali so wife decided she wanted a \\stayc… https://t.co/NsJO3OVvLZ\"</td>\n",
              "      <td>Sun Apr 05 16:14:22 +0000 2020</td>\n",
              "      <td>US</td>\n",
              "      <td>[Bartending, home, suppose, vacation, Cali, wife, decided, wanted, stayc]</td>\n",
              "    </tr>\n",
              "    <tr>\n",
              "      <th>4</th>\n",
              "      <td>Requested suggestions for sketches jacklenihanart suggested Solid Snake from MGS so here we go, it starts. Got a lo… https://t.co/ihgE1Tj7hr</td>\n",
              "      <td>Sun Apr 05 16:14:20 +0000 2020</td>\n",
              "      <td>US</td>\n",
              "      <td>[Requested, suggestions, sketches, jacklenihanart, suggested, Solid, Snake, MGS, go, starts, Got, lo]</td>\n",
              "    </tr>\n",
              "  </tbody>\n",
              "</table>\n",
              "</div>"
            ],
            "text/plain": [
              "                                                                                                                                             text  ...                                                                                                 Proper_text\n",
              "0  Don't be shy. Score a job like \\FT - Sales Floor Dept Supervisor- Flooring-Décor - Day\\\" at Lowe's by asking for ref… https://t.co/9AbO7BmeoZ\"  ...  [Don, shy, Score, job, like, FT, Sales, Floor, Dept, Supervisor, Flooring, D, cor, Day, Lowe, asking, ref]\n",
              "1                                          Join the Vail Health team! See our latest job opening here: https://t.co/zEvKmLqpVG #Nursing #Vail, CO  ...                                                       [Join, Vail, Health, team, See, latest, job, opening]\n",
              "2    Thompson Health is hiring in #Canandaigua, NY! Read about our latest #Healthcare job opening via the link in our bi… https://t.co/HdfhXMhIY7  ...          [Thompson, Health, hiring, Canandaigua, NY, Read, latest, Healthcare, job, opening, via, link, bi]\n",
              "3   Bartending while at home because why not. I'm suppose to be on vacation in Cali so wife decided she wanted a \\stayc… https://t.co/NsJO3OVvLZ\"  ...                                   [Bartending, home, suppose, vacation, Cali, wife, decided, wanted, stayc]\n",
              "4    Requested suggestions for sketches jacklenihanart suggested Solid Snake from MGS so here we go, it starts. Got a lo… https://t.co/ihgE1Tj7hr  ...       [Requested, suggestions, sketches, jacklenihanart, suggested, Solid, Snake, MGS, go, starts, Got, lo]\n",
              "\n",
              "[5 rows x 4 columns]"
            ]
          },
          "metadata": {
            "tags": []
          },
          "execution_count": 15
        }
      ]
    },
    {
      "cell_type": "code",
      "metadata": {
        "colab": {
          "base_uri": "https://localhost:8080/",
          "height": 374
        },
        "id": "GpQY59ygz3DU",
        "outputId": "a470f1c5-edfd-4612-c832-2eaefdf0287e"
      },
      "source": [
        "df['Proper_text'] = df['Proper_text'].apply(lambda x: ' '.join([w for w in x]))\n",
        "df.head()"
      ],
      "execution_count": 16,
      "outputs": [
        {
          "output_type": "execute_result",
          "data": {
            "text/html": [
              "<div>\n",
              "<style scoped>\n",
              "    .dataframe tbody tr th:only-of-type {\n",
              "        vertical-align: middle;\n",
              "    }\n",
              "\n",
              "    .dataframe tbody tr th {\n",
              "        vertical-align: top;\n",
              "    }\n",
              "\n",
              "    .dataframe thead th {\n",
              "        text-align: right;\n",
              "    }\n",
              "</style>\n",
              "<table border=\"1\" class=\"dataframe\">\n",
              "  <thead>\n",
              "    <tr style=\"text-align: right;\">\n",
              "      <th></th>\n",
              "      <th>text</th>\n",
              "      <th>created_at</th>\n",
              "      <th>country_code</th>\n",
              "      <th>Proper_text</th>\n",
              "    </tr>\n",
              "  </thead>\n",
              "  <tbody>\n",
              "    <tr>\n",
              "      <th>0</th>\n",
              "      <td>Don't be shy. Score a job like \\FT - Sales Floor Dept Supervisor- Flooring-Décor - Day\\\" at Lowe's by asking for ref… https://t.co/9AbO7BmeoZ\"</td>\n",
              "      <td>Sun Apr 05 16:14:27 +0000 2020</td>\n",
              "      <td>US</td>\n",
              "      <td>Don shy Score job like FT Sales Floor Dept Supervisor Flooring D cor Day Lowe asking ref</td>\n",
              "    </tr>\n",
              "    <tr>\n",
              "      <th>1</th>\n",
              "      <td>Join the Vail Health team! See our latest job opening here: https://t.co/zEvKmLqpVG #Nursing #Vail, CO</td>\n",
              "      <td>Sun Apr 05 16:14:26 +0000 2020</td>\n",
              "      <td>US</td>\n",
              "      <td>Join Vail Health team See latest job opening</td>\n",
              "    </tr>\n",
              "    <tr>\n",
              "      <th>2</th>\n",
              "      <td>Thompson Health is hiring in #Canandaigua, NY! Read about our latest #Healthcare job opening via the link in our bi… https://t.co/HdfhXMhIY7</td>\n",
              "      <td>Sun Apr 05 16:14:26 +0000 2020</td>\n",
              "      <td>US</td>\n",
              "      <td>Thompson Health hiring Canandaigua NY Read latest Healthcare job opening via link bi</td>\n",
              "    </tr>\n",
              "    <tr>\n",
              "      <th>3</th>\n",
              "      <td>Bartending while at home because why not. I'm suppose to be on vacation in Cali so wife decided she wanted a \\stayc… https://t.co/NsJO3OVvLZ\"</td>\n",
              "      <td>Sun Apr 05 16:14:22 +0000 2020</td>\n",
              "      <td>US</td>\n",
              "      <td>Bartending home suppose vacation Cali wife decided wanted stayc</td>\n",
              "    </tr>\n",
              "    <tr>\n",
              "      <th>4</th>\n",
              "      <td>Requested suggestions for sketches jacklenihanart suggested Solid Snake from MGS so here we go, it starts. Got a lo… https://t.co/ihgE1Tj7hr</td>\n",
              "      <td>Sun Apr 05 16:14:20 +0000 2020</td>\n",
              "      <td>US</td>\n",
              "      <td>Requested suggestions sketches jacklenihanart suggested Solid Snake MGS go starts Got lo</td>\n",
              "    </tr>\n",
              "  </tbody>\n",
              "</table>\n",
              "</div>"
            ],
            "text/plain": [
              "                                                                                                                                             text  ...                                                                               Proper_text\n",
              "0  Don't be shy. Score a job like \\FT - Sales Floor Dept Supervisor- Flooring-Décor - Day\\\" at Lowe's by asking for ref… https://t.co/9AbO7BmeoZ\"  ...  Don shy Score job like FT Sales Floor Dept Supervisor Flooring D cor Day Lowe asking ref\n",
              "1                                          Join the Vail Health team! See our latest job opening here: https://t.co/zEvKmLqpVG #Nursing #Vail, CO  ...                                              Join Vail Health team See latest job opening\n",
              "2    Thompson Health is hiring in #Canandaigua, NY! Read about our latest #Healthcare job opening via the link in our bi… https://t.co/HdfhXMhIY7  ...      Thompson Health hiring Canandaigua NY Read latest Healthcare job opening via link bi\n",
              "3   Bartending while at home because why not. I'm suppose to be on vacation in Cali so wife decided she wanted a \\stayc… https://t.co/NsJO3OVvLZ\"  ...                           Bartending home suppose vacation Cali wife decided wanted stayc\n",
              "4    Requested suggestions for sketches jacklenihanart suggested Solid Snake from MGS so here we go, it starts. Got a lo… https://t.co/ihgE1Tj7hr  ...  Requested suggestions sketches jacklenihanart suggested Solid Snake MGS go starts Got lo\n",
              "\n",
              "[5 rows x 4 columns]"
            ]
          },
          "metadata": {
            "tags": []
          },
          "execution_count": 16
        }
      ]
    },
    {
      "cell_type": "code",
      "metadata": {
        "colab": {
          "base_uri": "https://localhost:8080/",
          "height": 380
        },
        "id": "_-mobHWP0Wj9",
        "outputId": "de2c4efb-c808-4261-d535-f93f7997793e"
      },
      "source": [
        "all_words = ' '.join([text for text in df['Proper_text']])\n",
        "\n",
        "from wordcloud import WordCloud \n",
        "wordcloud = WordCloud(width=800, height=500, random_state=21, max_font_size=110).generate(all_words) \n",
        "\n",
        "plt.figure(figsize=(10, 7)) \n",
        "plt.imshow(wordcloud, interpolation=\"bilinear\") \n",
        "plt.axis('off') \n",
        "plt.show()"
      ],
      "execution_count": 17,
      "outputs": [
        {
          "output_type": "display_data",
          "data": {
            "image/png": "[encoded data removed]",
            "text/plain": [
              "<Figure size 720x504 with 1 Axes>"
            ]
          },
          "metadata": {
            "tags": [],
            "needs_background": "light"
          }
        }
      ]
    },
    {
      "cell_type": "code",
      "metadata": {
        "colab": {
          "base_uri": "https://localhost:8080/",
          "height": 810
        },
        "id": "yH9Rdlkx7L7i",
        "outputId": "0f6e74cf-8cd3-4daf-a8f5-2fad71ab23bf"
      },
      "source": [
        "df['Day'] = df['created_at'].str[0:7]\n",
        "df.head(1000)"
      ],
      "execution_count": 18,
      "outputs": [
        {
          "output_type": "execute_result",
          "data": {
            "text/html": [
              "<div>\n",
              "<style scoped>\n",
              "    .dataframe tbody tr th:only-of-type {\n",
              "        vertical-align: middle;\n",
              "    }\n",
              "\n",
              "    .dataframe tbody tr th {\n",
              "        vertical-align: top;\n",
              "    }\n",
              "\n",
              "    .dataframe thead th {\n",
              "        text-align: right;\n",
              "    }\n",
              "</style>\n",
              "<table border=\"1\" class=\"dataframe\">\n",
              "  <thead>\n",
              "    <tr style=\"text-align: right;\">\n",
              "      <th></th>\n",
              "      <th>text</th>\n",
              "      <th>created_at</th>\n",
              "      <th>country_code</th>\n",
              "      <th>Proper_text</th>\n",
              "      <th>Day</th>\n",
              "    </tr>\n",
              "  </thead>\n",
              "  <tbody>\n",
              "    <tr>\n",
              "      <th>0</th>\n",
              "      <td>Don't be shy. Score a job like \\FT - Sales Floor Dept Supervisor- Flooring-Décor - Day\\\" at Lowe's by asking for ref… https://t.co/9AbO7BmeoZ\"</td>\n",
              "      <td>Sun Apr 05 16:14:27 +0000 2020</td>\n",
              "      <td>US</td>\n",
              "      <td>Don shy Score job like FT Sales Floor Dept Supervisor Flooring D cor Day Lowe asking ref</td>\n",
              "      <td>Sun Apr</td>\n",
              "    </tr>\n",
              "    <tr>\n",
              "      <th>1</th>\n",
              "      <td>Join the Vail Health team! See our latest job opening here: https://t.co/zEvKmLqpVG #Nursing #Vail, CO</td>\n",
              "      <td>Sun Apr 05 16:14:26 +0000 2020</td>\n",
              "      <td>US</td>\n",
              "      <td>Join Vail Health team See latest job opening</td>\n",
              "      <td>Sun Apr</td>\n",
              "    </tr>\n",
              "    <tr>\n",
              "      <th>2</th>\n",
              "      <td>Thompson Health is hiring in #Canandaigua, NY! Read about our latest #Healthcare job opening via the link in our bi… https://t.co/HdfhXMhIY7</td>\n",
              "      <td>Sun Apr 05 16:14:26 +0000 2020</td>\n",
              "      <td>US</td>\n",
              "      <td>Thompson Health hiring Canandaigua NY Read latest Healthcare job opening via link bi</td>\n",
              "      <td>Sun Apr</td>\n",
              "    </tr>\n",
              "    <tr>\n",
              "      <th>3</th>\n",
              "      <td>Bartending while at home because why not. I'm suppose to be on vacation in Cali so wife decided she wanted a \\stayc… https://t.co/NsJO3OVvLZ\"</td>\n",
              "      <td>Sun Apr 05 16:14:22 +0000 2020</td>\n",
              "      <td>US</td>\n",
              "      <td>Bartending home suppose vacation Cali wife decided wanted stayc</td>\n",
              "      <td>Sun Apr</td>\n",
              "    </tr>\n",
              "    <tr>\n",
              "      <th>4</th>\n",
              "      <td>Requested suggestions for sketches jacklenihanart suggested Solid Snake from MGS so here we go, it starts. Got a lo… https://t.co/ihgE1Tj7hr</td>\n",
              "      <td>Sun Apr 05 16:14:20 +0000 2020</td>\n",
              "      <td>US</td>\n",
              "      <td>Requested suggestions sketches jacklenihanart suggested Solid Snake MGS go starts Got lo</td>\n",
              "      <td>Sun Apr</td>\n",
              "    </tr>\n",
              "    <tr>\n",
              "      <th>...</th>\n",
              "      <td>...</td>\n",
              "      <td>...</td>\n",
              "      <td>...</td>\n",
              "      <td>...</td>\n",
              "      <td>...</td>\n",
              "    </tr>\n",
              "    <tr>\n",
              "      <th>995</th>\n",
              "      <td>Have you ever had a role like \\Clinical Supervisor\\\"? What did you like most about that job? #SocialSciences #Weymouth</td>\n",
              "      <td>MA\"</td>\n",
              "      <td>en</td>\n",
              "      <td>Have ever role like Clinical Supervisor What like job SocialSciences Weymouth</td>\n",
              "      <td>MA\"</td>\n",
              "    </tr>\n",
              "    <tr>\n",
              "      <th>996</th>\n",
              "      <td>Don't be shy. Score a job like \\Wireless - Retail Sales Associate - Plymouth</td>\n",
              "      <td>WI\\\" at OSL by asking for referrals. I… https://t.co/5XFMStZJjn\"</td>\n",
              "      <td>en</td>\n",
              "      <td>Don shy Score job like Wireless Retail Sales Associate Plymouth</td>\n",
              "      <td>WI\\\" a</td>\n",
              "    </tr>\n",
              "    <tr>\n",
              "      <th>997</th>\n",
              "      <td>Harbor Freight Tools is hiring in #Lawrence, KS! Read about our latest #SupplyChain job opening via the link in our… https://t.co/XBucaFA5Du</td>\n",
              "      <td>Sun Apr 05 15:29:52 +0000 2020</td>\n",
              "      <td>US</td>\n",
              "      <td>Harbor Freight Tools hiring Lawrence KS Read latest SupplyChain job opening via link</td>\n",
              "      <td>Sun Apr</td>\n",
              "    </tr>\n",
              "    <tr>\n",
              "      <th>998</th>\n",
              "      <td>Looking to score a job at Follett Corporation? You're in luck. Click the link in our bio for the job description an… https://t.co/J4AICKBg3K</td>\n",
              "      <td>Sun Apr 05 15:29:52 +0000 2020</td>\n",
              "      <td>US</td>\n",
              "      <td>Looking score job Follett Corporation You luck Click link bio job description</td>\n",
              "      <td>Sun Apr</td>\n",
              "    </tr>\n",
              "    <tr>\n",
              "      <th>999</th>\n",
              "      <td>Interested in a job in #NewHope, MN? This could be a great fit. Click the link in our bio to apply: Full Time Careg… https://t.co/MR7ukAhX3D</td>\n",
              "      <td>Sun Apr 05 15:29:43 +0000 2020</td>\n",
              "      <td>US</td>\n",
              "      <td>nterested job NewHope MN This could great fit Click link bio apply Full Time Careg</td>\n",
              "      <td>Sun Apr</td>\n",
              "    </tr>\n",
              "  </tbody>\n",
              "</table>\n",
              "<p>1000 rows × 5 columns</p>\n",
              "</div>"
            ],
            "text/plain": [
              "                                                                                                                                               text  ...      Day\n",
              "0    Don't be shy. Score a job like \\FT - Sales Floor Dept Supervisor- Flooring-Décor - Day\\\" at Lowe's by asking for ref… https://t.co/9AbO7BmeoZ\"  ...  Sun Apr\n",
              "1                                            Join the Vail Health team! See our latest job opening here: https://t.co/zEvKmLqpVG #Nursing #Vail, CO  ...  Sun Apr\n",
              "2      Thompson Health is hiring in #Canandaigua, NY! Read about our latest #Healthcare job opening via the link in our bi… https://t.co/HdfhXMhIY7  ...  Sun Apr\n",
              "3     Bartending while at home because why not. I'm suppose to be on vacation in Cali so wife decided she wanted a \\stayc… https://t.co/NsJO3OVvLZ\"  ...  Sun Apr\n",
              "4      Requested suggestions for sketches jacklenihanart suggested Solid Snake from MGS so here we go, it starts. Got a lo… https://t.co/ihgE1Tj7hr  ...  Sun Apr\n",
              "..                                                                                                                                              ...  ...      ...\n",
              "995                          Have you ever had a role like \\Clinical Supervisor\\\"? What did you like most about that job? #SocialSciences #Weymouth  ...      MA\"\n",
              "996                                                                    Don't be shy. Score a job like \\Wireless - Retail Sales Associate - Plymouth  ...   WI\\\" a\n",
              "997    Harbor Freight Tools is hiring in #Lawrence, KS! Read about our latest #SupplyChain job opening via the link in our… https://t.co/XBucaFA5Du  ...  Sun Apr\n",
              "998    Looking to score a job at Follett Corporation? You're in luck. Click the link in our bio for the job description an… https://t.co/J4AICKBg3K  ...  Sun Apr\n",
              "999    Interested in a job in #NewHope, MN? This could be a great fit. Click the link in our bio to apply: Full Time Careg… https://t.co/MR7ukAhX3D  ...  Sun Apr\n",
              "\n",
              "[1000 rows x 5 columns]"
            ]
          },
          "metadata": {
            "tags": []
          },
          "execution_count": 18
        }
      ]
    },
    {
      "cell_type": "code",
      "metadata": {
        "colab": {
          "base_uri": "https://localhost:8080/",
          "height": 190
        },
        "id": "23hq6-uGcoMA",
        "outputId": "0d1ef0f2-5270-4f40-ba1a-6aeaa8dc7061"
      },
      "source": [
        "temp_df = df.loc[(df['Day'] == 'Sun Apr') | (df['Day']=='Sat Apr') | (df['Day']=='Mon Apr') | (df['Day'] == 'Tue Apr') | (df['Day'] == 'Wed Apr') | (df['Day']=='Thur Apr') | (df['Day']=='Fri Apr')] #Take only rows with valid date value. All values are frm Apr\n",
        "temp_df.describe()"
      ],
      "execution_count": 19,
      "outputs": [
        {
          "output_type": "execute_result",
          "data": {
            "text/html": [
              "<div>\n",
              "<style scoped>\n",
              "    .dataframe tbody tr th:only-of-type {\n",
              "        vertical-align: middle;\n",
              "    }\n",
              "\n",
              "    .dataframe tbody tr th {\n",
              "        vertical-align: top;\n",
              "    }\n",
              "\n",
              "    .dataframe thead th {\n",
              "        text-align: right;\n",
              "    }\n",
              "</style>\n",
              "<table border=\"1\" class=\"dataframe\">\n",
              "  <thead>\n",
              "    <tr style=\"text-align: right;\">\n",
              "      <th></th>\n",
              "      <th>text</th>\n",
              "      <th>created_at</th>\n",
              "      <th>country_code</th>\n",
              "      <th>Proper_text</th>\n",
              "      <th>Day</th>\n",
              "    </tr>\n",
              "  </thead>\n",
              "  <tbody>\n",
              "    <tr>\n",
              "      <th>count</th>\n",
              "      <td>30130</td>\n",
              "      <td>30130</td>\n",
              "      <td>30120</td>\n",
              "      <td>30130</td>\n",
              "      <td>30130</td>\n",
              "    </tr>\n",
              "    <tr>\n",
              "      <th>unique</th>\n",
              "      <td>29968</td>\n",
              "      <td>25046</td>\n",
              "      <td>5</td>\n",
              "      <td>28019</td>\n",
              "      <td>5</td>\n",
              "    </tr>\n",
              "    <tr>\n",
              "      <th>top</th>\n",
              "      <td>Cleared: Road Work - ORANGE #RT15 South at Exit 58 (RTE 34) at 4/7/2020 3:20:09 PM</td>\n",
              "      <td>Tue Apr 07 19:21:33 +0000 2020</td>\n",
              "      <td>US</td>\n",
              "      <td></td>\n",
              "      <td>Sun Apr</td>\n",
              "    </tr>\n",
              "    <tr>\n",
              "      <th>freq</th>\n",
              "      <td>2</td>\n",
              "      <td>9</td>\n",
              "      <td>28171</td>\n",
              "      <td>36</td>\n",
              "      <td>7786</td>\n",
              "    </tr>\n",
              "  </tbody>\n",
              "</table>\n",
              "</div>"
            ],
            "text/plain": [
              "                                                                                      text  ...      Day\n",
              "count                                                                                30130  ...    30130\n",
              "unique                                                                               29968  ...        5\n",
              "top     Cleared: Road Work - ORANGE #RT15 South at Exit 58 (RTE 34) at 4/7/2020 3:20:09 PM  ...  Sun Apr\n",
              "freq                                                                                     2  ...     7786\n",
              "\n",
              "[4 rows x 5 columns]"
            ]
          },
          "metadata": {
            "tags": []
          },
          "execution_count": 19
        }
      ]
    },
    {
      "cell_type": "code",
      "metadata": {
        "colab": {
          "base_uri": "https://localhost:8080/",
          "height": 190
        },
        "id": "1NuftvojfeFZ",
        "outputId": "b18dfc63-f4be-4031-9a85-32a97598a2e0"
      },
      "source": [
        "final_df = temp_df.loc[(df['country_code']== 'US') | (df['country_code']=='CA') | (df['country_code']=='MX')] #take only 3 countries other rows are discarded\n",
        "final_df.head(500)\n",
        "final_df.describe()"
      ],
      "execution_count": 20,
      "outputs": [
        {
          "output_type": "execute_result",
          "data": {
            "text/html": [
              "<div>\n",
              "<style scoped>\n",
              "    .dataframe tbody tr th:only-of-type {\n",
              "        vertical-align: middle;\n",
              "    }\n",
              "\n",
              "    .dataframe tbody tr th {\n",
              "        vertical-align: top;\n",
              "    }\n",
              "\n",
              "    .dataframe thead th {\n",
              "        text-align: right;\n",
              "    }\n",
              "</style>\n",
              "<table border=\"1\" class=\"dataframe\">\n",
              "  <thead>\n",
              "    <tr style=\"text-align: right;\">\n",
              "      <th></th>\n",
              "      <th>text</th>\n",
              "      <th>created_at</th>\n",
              "      <th>country_code</th>\n",
              "      <th>Proper_text</th>\n",
              "      <th>Day</th>\n",
              "    </tr>\n",
              "  </thead>\n",
              "  <tbody>\n",
              "    <tr>\n",
              "      <th>count</th>\n",
              "      <td>30102</td>\n",
              "      <td>30102</td>\n",
              "      <td>30102</td>\n",
              "      <td>30102</td>\n",
              "      <td>30102</td>\n",
              "    </tr>\n",
              "    <tr>\n",
              "      <th>unique</th>\n",
              "      <td>29940</td>\n",
              "      <td>25022</td>\n",
              "      <td>3</td>\n",
              "      <td>27991</td>\n",
              "      <td>5</td>\n",
              "    </tr>\n",
              "    <tr>\n",
              "      <th>top</th>\n",
              "      <td>Cleared: Road Work - ROCKY HILL #I91 North at Exit 24 (RTE 99) at 4/8/2020 1:06:06 PM</td>\n",
              "      <td>Tue Apr 07 19:21:33 +0000 2020</td>\n",
              "      <td>US</td>\n",
              "      <td></td>\n",
              "      <td>Sun Apr</td>\n",
              "    </tr>\n",
              "    <tr>\n",
              "      <th>freq</th>\n",
              "      <td>2</td>\n",
              "      <td>9</td>\n",
              "      <td>28171</td>\n",
              "      <td>36</td>\n",
              "      <td>7778</td>\n",
              "    </tr>\n",
              "  </tbody>\n",
              "</table>\n",
              "</div>"
            ],
            "text/plain": [
              "                                                                                         text  ...      Day\n",
              "count                                                                                   30102  ...    30102\n",
              "unique                                                                                  29940  ...        5\n",
              "top     Cleared: Road Work - ROCKY HILL #I91 North at Exit 24 (RTE 99) at 4/8/2020 1:06:06 PM  ...  Sun Apr\n",
              "freq                                                                                        2  ...     7778\n",
              "\n",
              "[4 rows x 5 columns]"
            ]
          },
          "metadata": {
            "tags": []
          },
          "execution_count": 20
        }
      ]
    },
    {
      "cell_type": "code",
      "metadata": {
        "colab": {
          "base_uri": "https://localhost:8080/",
          "height": 459
        },
        "id": "pk33-IWge-u_",
        "outputId": "3bfc78ff-9a09-47c9-f140-1cf633344a26"
      },
      "source": [
        "final_df['Day'] =df['created_at'].str[0:13] #take upto day,hrs\n",
        "final_df.head()"
      ],
      "execution_count": 21,
      "outputs": [
        {
          "output_type": "execute_result",
          "data": {
            "text/html": [
              "<div>\n",
              "<style scoped>\n",
              "    .dataframe tbody tr th:only-of-type {\n",
              "        vertical-align: middle;\n",
              "    }\n",
              "\n",
              "    .dataframe tbody tr th {\n",
              "        vertical-align: top;\n",
              "    }\n",
              "\n",
              "    .dataframe thead th {\n",
              "        text-align: right;\n",
              "    }\n",
              "</style>\n",
              "<table border=\"1\" class=\"dataframe\">\n",
              "  <thead>\n",
              "    <tr style=\"text-align: right;\">\n",
              "      <th></th>\n",
              "      <th>text</th>\n",
              "      <th>created_at</th>\n",
              "      <th>country_code</th>\n",
              "      <th>Proper_text</th>\n",
              "      <th>Day</th>\n",
              "    </tr>\n",
              "  </thead>\n",
              "  <tbody>\n",
              "    <tr>\n",
              "      <th>0</th>\n",
              "      <td>Don't be shy. Score a job like \\FT - Sales Floor Dept Supervisor- Flooring-Décor - Day\\\" at Lowe's by asking for ref… https://t.co/9AbO7BmeoZ\"</td>\n",
              "      <td>Sun Apr 05 16:14:27 +0000 2020</td>\n",
              "      <td>US</td>\n",
              "      <td>Don shy Score job like FT Sales Floor Dept Supervisor Flooring D cor Day Lowe asking ref</td>\n",
              "      <td>Sun Apr 05 16</td>\n",
              "    </tr>\n",
              "    <tr>\n",
              "      <th>1</th>\n",
              "      <td>Join the Vail Health team! See our latest job opening here: https://t.co/zEvKmLqpVG #Nursing #Vail, CO</td>\n",
              "      <td>Sun Apr 05 16:14:26 +0000 2020</td>\n",
              "      <td>US</td>\n",
              "      <td>Join Vail Health team See latest job opening</td>\n",
              "      <td>Sun Apr 05 16</td>\n",
              "    </tr>\n",
              "    <tr>\n",
              "      <th>2</th>\n",
              "      <td>Thompson Health is hiring in #Canandaigua, NY! Read about our latest #Healthcare job opening via the link in our bi… https://t.co/HdfhXMhIY7</td>\n",
              "      <td>Sun Apr 05 16:14:26 +0000 2020</td>\n",
              "      <td>US</td>\n",
              "      <td>Thompson Health hiring Canandaigua NY Read latest Healthcare job opening via link bi</td>\n",
              "      <td>Sun Apr 05 16</td>\n",
              "    </tr>\n",
              "    <tr>\n",
              "      <th>3</th>\n",
              "      <td>Bartending while at home because why not. I'm suppose to be on vacation in Cali so wife decided she wanted a \\stayc… https://t.co/NsJO3OVvLZ\"</td>\n",
              "      <td>Sun Apr 05 16:14:22 +0000 2020</td>\n",
              "      <td>US</td>\n",
              "      <td>Bartending home suppose vacation Cali wife decided wanted stayc</td>\n",
              "      <td>Sun Apr 05 16</td>\n",
              "    </tr>\n",
              "    <tr>\n",
              "      <th>4</th>\n",
              "      <td>Requested suggestions for sketches jacklenihanart suggested Solid Snake from MGS so here we go, it starts. Got a lo… https://t.co/ihgE1Tj7hr</td>\n",
              "      <td>Sun Apr 05 16:14:20 +0000 2020</td>\n",
              "      <td>US</td>\n",
              "      <td>Requested suggestions sketches jacklenihanart suggested Solid Snake MGS go starts Got lo</td>\n",
              "      <td>Sun Apr 05 16</td>\n",
              "    </tr>\n",
              "  </tbody>\n",
              "</table>\n",
              "</div>"
            ],
            "text/plain": [
              "                                                                                                                                             text  ...            Day\n",
              "0  Don't be shy. Score a job like \\FT - Sales Floor Dept Supervisor- Flooring-Décor - Day\\\" at Lowe's by asking for ref… https://t.co/9AbO7BmeoZ\"  ...  Sun Apr 05 16\n",
              "1                                          Join the Vail Health team! See our latest job opening here: https://t.co/zEvKmLqpVG #Nursing #Vail, CO  ...  Sun Apr 05 16\n",
              "2    Thompson Health is hiring in #Canandaigua, NY! Read about our latest #Healthcare job opening via the link in our bi… https://t.co/HdfhXMhIY7  ...  Sun Apr 05 16\n",
              "3   Bartending while at home because why not. I'm suppose to be on vacation in Cali so wife decided she wanted a \\stayc… https://t.co/NsJO3OVvLZ\"  ...  Sun Apr 05 16\n",
              "4    Requested suggestions for sketches jacklenihanart suggested Solid Snake from MGS so here we go, it starts. Got a lo… https://t.co/ihgE1Tj7hr  ...  Sun Apr 05 16\n",
              "\n",
              "[5 rows x 5 columns]"
            ]
          },
          "metadata": {
            "tags": []
          },
          "execution_count": 21
        }
      ]
    },
    {
      "cell_type": "code",
      "metadata": {
        "colab": {
          "base_uri": "https://localhost:8080/",
          "height": 929
        },
        "id": "0ta6vhCoiyhZ",
        "outputId": "dd182b63-a996-48f8-841b-aea092b9f957"
      },
      "source": [
        "grpby = final_df.groupby(['country_code','Day']) #using groupby\n",
        "grpby.head()"
      ],
      "execution_count": 22,
      "outputs": [
        {
          "output_type": "execute_result",
          "data": {
            "text/html": [
              "<div>\n",
              "<style scoped>\n",
              "    .dataframe tbody tr th:only-of-type {\n",
              "        vertical-align: middle;\n",
              "    }\n",
              "\n",
              "    .dataframe tbody tr th {\n",
              "        vertical-align: top;\n",
              "    }\n",
              "\n",
              "    .dataframe thead th {\n",
              "        text-align: right;\n",
              "    }\n",
              "</style>\n",
              "<table border=\"1\" class=\"dataframe\">\n",
              "  <thead>\n",
              "    <tr style=\"text-align: right;\">\n",
              "      <th></th>\n",
              "      <th>text</th>\n",
              "      <th>created_at</th>\n",
              "      <th>country_code</th>\n",
              "      <th>Proper_text</th>\n",
              "      <th>Day</th>\n",
              "    </tr>\n",
              "  </thead>\n",
              "  <tbody>\n",
              "    <tr>\n",
              "      <th>0</th>\n",
              "      <td>Don't be shy. Score a job like \\FT - Sales Floor Dept Supervisor- Flooring-Décor - Day\\\" at Lowe's by asking for ref… https://t.co/9AbO7BmeoZ\"</td>\n",
              "      <td>Sun Apr 05 16:14:27 +0000 2020</td>\n",
              "      <td>US</td>\n",
              "      <td>Don shy Score job like FT Sales Floor Dept Supervisor Flooring D cor Day Lowe asking ref</td>\n",
              "      <td>Sun Apr 05 16</td>\n",
              "    </tr>\n",
              "    <tr>\n",
              "      <th>1</th>\n",
              "      <td>Join the Vail Health team! See our latest job opening here: https://t.co/zEvKmLqpVG #Nursing #Vail, CO</td>\n",
              "      <td>Sun Apr 05 16:14:26 +0000 2020</td>\n",
              "      <td>US</td>\n",
              "      <td>Join Vail Health team See latest job opening</td>\n",
              "      <td>Sun Apr 05 16</td>\n",
              "    </tr>\n",
              "    <tr>\n",
              "      <th>2</th>\n",
              "      <td>Thompson Health is hiring in #Canandaigua, NY! Read about our latest #Healthcare job opening via the link in our bi… https://t.co/HdfhXMhIY7</td>\n",
              "      <td>Sun Apr 05 16:14:26 +0000 2020</td>\n",
              "      <td>US</td>\n",
              "      <td>Thompson Health hiring Canandaigua NY Read latest Healthcare job opening via link bi</td>\n",
              "      <td>Sun Apr 05 16</td>\n",
              "    </tr>\n",
              "    <tr>\n",
              "      <th>3</th>\n",
              "      <td>Bartending while at home because why not. I'm suppose to be on vacation in Cali so wife decided she wanted a \\stayc… https://t.co/NsJO3OVvLZ\"</td>\n",
              "      <td>Sun Apr 05 16:14:22 +0000 2020</td>\n",
              "      <td>US</td>\n",
              "      <td>Bartending home suppose vacation Cali wife decided wanted stayc</td>\n",
              "      <td>Sun Apr 05 16</td>\n",
              "    </tr>\n",
              "    <tr>\n",
              "      <th>4</th>\n",
              "      <td>Requested suggestions for sketches jacklenihanart suggested Solid Snake from MGS so here we go, it starts. Got a lo… https://t.co/ihgE1Tj7hr</td>\n",
              "      <td>Sun Apr 05 16:14:20 +0000 2020</td>\n",
              "      <td>US</td>\n",
              "      <td>Requested suggestions sketches jacklenihanart suggested Solid Snake MGS go starts Got lo</td>\n",
              "      <td>Sun Apr 05 16</td>\n",
              "    </tr>\n",
              "    <tr>\n",
              "      <th>...</th>\n",
              "      <td>...</td>\n",
              "      <td>...</td>\n",
              "      <td>...</td>\n",
              "      <td>...</td>\n",
              "      <td>...</td>\n",
              "    </tr>\n",
              "    <tr>\n",
              "      <th>31022</th>\n",
              "      <td>Ok I get it, we have our moments as well. But catch my morning cardio video at 9am. Then clients get training video… https://t.co/WO8CoAgedG</td>\n",
              "      <td>Tue Apr 07 18:59:46 +0000 2020</td>\n",
              "      <td>US</td>\n",
              "      <td>Ok get moments well But catch morning cardio video Then clients get training video</td>\n",
              "      <td>Tue Apr 07 18</td>\n",
              "    </tr>\n",
              "    <tr>\n",
              "      <th>31023</th>\n",
              "      <td>Interested in a job in New Orleans, LA? This could be a great fit. Click the link in our bio to apply: Outside Sale… https://t.co/sfgaXwgK3D</td>\n",
              "      <td>Tue Apr 07 18:59:43 +0000 2020</td>\n",
              "      <td>US</td>\n",
              "      <td>nterested job New Orleans LA This could great fit Click link bio apply Outside Sale</td>\n",
              "      <td>Tue Apr 07 18</td>\n",
              "    </tr>\n",
              "    <tr>\n",
              "      <th>31024</th>\n",
              "      <td>Take home 2 pint Crowler. - Drinking a Shakedown Street by @melwoodbeerco @ Untappd at Home  — https://t.co/WjTYRwLsb7</td>\n",
              "      <td>Tue Apr 07 18:59:41 +0000 2020</td>\n",
              "      <td>US</td>\n",
              "      <td>Take home pint Crowler Drinking Shakedown Street melwoodbeerco Untappd Home</td>\n",
              "      <td>Tue Apr 07 18</td>\n",
              "    </tr>\n",
              "    <tr>\n",
              "      <th>31025</th>\n",
              "      <td>Drinking a Jamestown by @thornbridge @ Untappd at Home — https://t.co/zJEhncmoXt</td>\n",
              "      <td>Tue Apr 07 18:59:39 +0000 2020</td>\n",
              "      <td>US</td>\n",
              "      <td>Drinking Jamestown thornbridge Untappd Home</td>\n",
              "      <td>Tue Apr 07 18</td>\n",
              "    </tr>\n",
              "    <tr>\n",
              "      <th>31085</th>\n",
              "      <td>We have our pylons up and ready to snap into action if we deem our store too busy. #Social_Distancing #COVID19… https://t.co/09zMlHxf9q</td>\n",
              "      <td>Tue Apr 07 18:57:12 +0000 2020</td>\n",
              "      <td>CA</td>\n",
              "      <td>We pylons ready snap action deem store busy Social Distancing COVD</td>\n",
              "      <td>Tue Apr 07 18</td>\n",
              "    </tr>\n",
              "  </tbody>\n",
              "</table>\n",
              "<p>715 rows × 5 columns</p>\n",
              "</div>"
            ],
            "text/plain": [
              "                                                                                                                                                 text  ...            Day\n",
              "0      Don't be shy. Score a job like \\FT - Sales Floor Dept Supervisor- Flooring-Décor - Day\\\" at Lowe's by asking for ref… https://t.co/9AbO7BmeoZ\"  ...  Sun Apr 05 16\n",
              "1                                              Join the Vail Health team! See our latest job opening here: https://t.co/zEvKmLqpVG #Nursing #Vail, CO  ...  Sun Apr 05 16\n",
              "2        Thompson Health is hiring in #Canandaigua, NY! Read about our latest #Healthcare job opening via the link in our bi… https://t.co/HdfhXMhIY7  ...  Sun Apr 05 16\n",
              "3       Bartending while at home because why not. I'm suppose to be on vacation in Cali so wife decided she wanted a \\stayc… https://t.co/NsJO3OVvLZ\"  ...  Sun Apr 05 16\n",
              "4        Requested suggestions for sketches jacklenihanart suggested Solid Snake from MGS so here we go, it starts. Got a lo… https://t.co/ihgE1Tj7hr  ...  Sun Apr 05 16\n",
              "...                                                                                                                                               ...  ...            ...\n",
              "31022    Ok I get it, we have our moments as well. But catch my morning cardio video at 9am. Then clients get training video… https://t.co/WO8CoAgedG  ...  Tue Apr 07 18\n",
              "31023    Interested in a job in New Orleans, LA? This could be a great fit. Click the link in our bio to apply: Outside Sale… https://t.co/sfgaXwgK3D  ...  Tue Apr 07 18\n",
              "31024                          Take home 2 pint Crowler. - Drinking a Shakedown Street by @melwoodbeerco @ Untappd at Home  — https://t.co/WjTYRwLsb7  ...  Tue Apr 07 18\n",
              "31025                                                                Drinking a Jamestown by @thornbridge @ Untappd at Home — https://t.co/zJEhncmoXt  ...  Tue Apr 07 18\n",
              "31085         We have our pylons up and ready to snap into action if we deem our store too busy. #Social_Distancing #COVID19… https://t.co/09zMlHxf9q  ...  Tue Apr 07 18\n",
              "\n",
              "[715 rows x 5 columns]"
            ]
          },
          "metadata": {
            "tags": []
          },
          "execution_count": 22
        }
      ]
    },
    {
      "cell_type": "code",
      "metadata": {
        "id": "eQ9Pn6myvRum"
      },
      "source": [
        "df2 = grpby.sum()"
      ],
      "execution_count": 23,
      "outputs": []
    },
    {
      "cell_type": "code",
      "metadata": {
        "colab": {
          "base_uri": "https://localhost:8080/",
          "height": 1000
        },
        "id": "fIrGDZ9rzJiS",
        "outputId": "a1ec6f97-be69-427f-c7c1-f4f2332feade"
      },
      "source": [
        "df2.head(4000)"
      ],
      "execution_count": 24,
      "outputs": [
        {
          "output_type": "execute_result",
          "data": {
            "text/html": [
              "<div>\n",
              "<style scoped>\n",
              "    .dataframe tbody tr th:only-of-type {\n",
              "        vertical-align: middle;\n",
              "    }\n",
              "\n",
              "    .dataframe tbody tr th {\n",
              "        vertical-align: top;\n",
              "    }\n",
              "\n",
              "    .dataframe thead th {\n",
              "        text-align: right;\n",
              "    }\n",
              "</style>\n",
              "<table border=\"1\" class=\"dataframe\">\n",
              "  <thead>\n",
              "    <tr style=\"text-align: right;\">\n",
              "      <th></th>\n",
              "      <th></th>\n",
              "      <th>text</th>\n",
              "      <th>created_at</th>\n",
              "      <th>Proper_text</th>\n",
              "    </tr>\n",
              "    <tr>\n",
              "      <th>country_code</th>\n",
              "      <th>Day</th>\n",
              "      <th></th>\n",
              "      <th></th>\n",
              "      <th></th>\n",
              "    </tr>\n",
              "  </thead>\n",
              "  <tbody>\n",
              "    <tr>\n",
              "      <th rowspan=\"5\" valign=\"top\">CA</th>\n",
              "      <th>Mon Apr 06 02</th>\n",
              "      <td>@stroughtonsmith Great job steve!No food makes me as happy as rice does! Naturally, been wanting to make cooking Dum Biryani, and when I stumbled up… https://t.co/mZwuoBAz6b🌙 #nightnight #linashek...</td>\n",
              "      <td>Mon Apr 06 02:58:54 +0000 2020Mon Apr 06 02:56:16 +0000 2020Mon Apr 06 02:52:32 +0000 2020Mon Apr 06 02:51:47 +0000 2020Mon Apr 06 02:46:20 +0000 2020Mon Apr 06 02:45:56 +0000 2020Mon Apr 06 02:44...</td>\n",
              "      <td>stroughtonsmith Great job steveNo food makes happy rice Naturally wanting make cooking Dum Biryani stumblednightnight linashek stayhome Toronto Ontariobees With COVD situation full effect taking p...</td>\n",
              "    </tr>\n",
              "    <tr>\n",
              "      <th>Mon Apr 06 03</th>\n",
              "      <td>Made waffles for y'all. Who wants them? Two waffles per bag. Primarily for the kids though (and not adultish age ki… https://t.co/00b8za95ieThe countdown to the kid’s bedtime is on!! 🙌🏻 In just a ...</td>\n",
              "      <td>Mon Apr 06 03:58:33 +0000 2020Mon Apr 06 03:53:27 +0000 2020Mon Apr 06 03:52:10 +0000 2020Mon Apr 06 03:51:05 +0000 2020Mon Apr 06 03:51:00 +0000 2020Mon Apr 06 03:48:32 +0000 2020Mon Apr 06 03:44...</td>\n",
              "      <td>Made waffles Who wants Two waffles per bag Primarily kids though adultish age kiThe countdown kid bedtime n minutes free snack making amp lookingThank shopping us find HARBYLAWLAR etsy tap pre ord...</td>\n",
              "    </tr>\n",
              "    <tr>\n",
              "      <th>Mon Apr 06 04</th>\n",
              "      <td>#betterbiggerbusier @soojandra @century21canada @Reachbandleader join us live April 6 at 1:00pm to be inspired and… https://t.co/adxeDa1hsSWork isn't the only thing I brought home with me... :-) @...</td>\n",
              "      <td>Mon Apr 06 04:56:45 +0000 2020Mon Apr 06 04:55:16 +0000 2020Mon Apr 06 04:52:49 +0000 2020Mon Apr 06 04:49:51 +0000 2020Mon Apr 06 04:45:35 +0000 2020Mon Apr 06 04:43:10 +0000 2020Mon Apr 06 04:40...</td>\n",
              "      <td>betterbiggerbusier soojandra century canada Reachbandleader join us live April pm inspiredWork thing brought home Lethbridge AlbertaAn update Sylvan Food Bank peoplehelpingpeople inittogether thes...</td>\n",
              "    </tr>\n",
              "    <tr>\n",
              "      <th>Mon Apr 06 05</th>\n",
              "      <td>This weekend was so much better than the others. We seem to have slowed down enough to just enjoy being home. We ma… https://t.co/1J3fM4lSACFirst thing I’m doing when we are cleared to go back out...</td>\n",
              "      <td>Mon Apr 06 05:38:01 +0000 2020Mon Apr 06 05:30:39 +0000 2020Mon Apr 06 05:30:23 +0000 2020Mon Apr 06 05:30:02 +0000 2020Mon Apr 06 05:29:02 +0000 2020Mon Apr 06 05:26:47 +0000 2020Mon Apr 06 05:19...</td>\n",
              "      <td>This weekend much better others We seem slowed enough enjoy home WeFirst thing cleared go back hosting sick car cruise seatosky highway cruiseLiterally procrastinating school work days continuousl...</td>\n",
              "    </tr>\n",
              "    <tr>\n",
              "      <th>Mon Apr 06 06</th>\n",
              "      <td>What NOT to do in a pandemic...\\nCover your mouth, Eddie, jeeze!\\n#venom #eddiebrock #marvel #monster #teeth #tongue… https://t.co/BQpdFqiyv9Stay home!🏡Stay safe!😷Save a life!💕 Flatten the curve!⚠...</td>\n",
              "      <td>Mon Apr 06 06:55:56 +0000 2020Mon Apr 06 06:51:51 +0000 2020Mon Apr 06 06:28:42 +0000 2020Mon Apr 06 06:23:49 +0000 2020Mon Apr 06 06:08:00 +0000 2020Mon Apr 06 06:05:50 +0000 2020</td>\n",
              "      <td>What NOT pandemic Cover mouth Eddie jeeze venom eddiebrock marvel monster teeth tongueStay home Stay safe Save life Flatten curve Covid Day home safe blessed thankful ReginThere toilet paper short...</td>\n",
              "    </tr>\n",
              "    <tr>\n",
              "      <th>...</th>\n",
              "      <th>...</th>\n",
              "      <td>...</td>\n",
              "      <td>...</td>\n",
              "      <td>...</td>\n",
              "    </tr>\n",
              "    <tr>\n",
              "      <th rowspan=\"5\" valign=\"top\">US</th>\n",
              "      <th>Wed Apr 08 16</th>\n",
              "      <td>Fresh roasting continues for special orders and Subscription. Stay home and make delicious coffee! ⛾❤ @ caffe d'bol… https://t.co/AjwTEzwWDsCheck out our #listing in #Circleville #OH  #realestate ...</td>\n",
              "      <td>Wed Apr 08 16:59:42 +0000 2020Wed Apr 08 16:59:40 +0000 2020Wed Apr 08 16:59:29 +0000 2020Wed Apr 08 16:59:19 +0000 2020Wed Apr 08 16:59:19 +0000 2020Wed Apr 08 16:59:18 +0000 2020Wed Apr 08 16:59...</td>\n",
              "      <td>Fresh roasting continues special orders Subscription Stay home make delicious coffee caffe bolCheck listing Circleville OH realestate realtorThis job open The Everett Clinic part Optum Everett WA ...</td>\n",
              "    </tr>\n",
              "    <tr>\n",
              "      <th>Wed Apr 08 17</th>\n",
              "      <td>Interested in a job in #Ontario, CA? This could be a great fit: https://t.co/68wqY8CflA #FacilitiesMgmtPollo tropical at night doing conovruis oof imagine 🤔 #miamiflorida #miami #home #miamiflorid...</td>\n",
              "      <td>Wed Apr 08 17:59:55 +0000 2020Wed Apr 08 17:59:54 +0000 2020Wed Apr 08 17:59:51 +0000 2020Wed Apr 08 17:59:49 +0000 2020Wed Apr 08 17:59:48 +0000 2020Wed Apr 08 17:59:42 +0000 2020Wed Apr 08 17:59...</td>\n",
              "      <td>nterested job Ontario CA This could great fitPollo tropical night conovruis oof imagine miamiflorida miami home miamiflorida house friendsf looking work Austin TX check Accounting job via link bio...</td>\n",
              "    </tr>\n",
              "    <tr>\n",
              "      <th>Wed Apr 08 18</th>\n",
              "      <td>BIG shout to @eviemaesbbq  for lunch for NSS today! Y’all are the best! #teamumc #nourishment @ UMC Health System https://t.co/qWV8hwNfOcIf you're looking for work in #Nampa, ID, check out this jo...</td>\n",
              "      <td>Wed Apr 08 18:59:58 +0000 2020Wed Apr 08 18:59:57 +0000 2020Wed Apr 08 18:59:56 +0000 2020Wed Apr 08 18:59:56 +0000 2020Wed Apr 08 18:59:56 +0000 2020Wed Apr 08 18:59:56 +0000 2020Wed Apr 08 18:59...</td>\n",
              "      <td>BG shout eviemaesbbq lunch NSS today Y best teamumc nourishment UMC Health Systemf looking work Nampa D check jobHave ever role like Part Time Night Trash Collector Truck Required hr What liNervou...</td>\n",
              "    </tr>\n",
              "    <tr>\n",
              "      <th>Wed Apr 08 19</th>\n",
              "      <td>Scenes from quarantine, day eleventy-billion: a brief taste of summer in early April. @ Eureka, Missouri https://t.co/FJtmwEvSWuDirect from the brewery #BuyLocal - Drinking a Wanderlust by Allenda...</td>\n",
              "      <td>Wed Apr 08 19:59:51 +0000 2020Wed Apr 08 19:59:51 +0000 2020Wed Apr 08 19:59:51 +0000 2020Wed Apr 08 19:59:50 +0000 2020Wed Apr 08 19:59:49 +0000 2020Wed Apr 08 19:59:49 +0000 2020Wed Apr 08 19:59...</td>\n",
              "      <td>Scenes quarantine day eleventy billion brief taste summer early April Eureka MissouriDirect brewery BuyLocal Drinking Wanderlust Allendale Brewery Co Ltd Untappd HomeThis BusinessMgmt job might gr...</td>\n",
              "    </tr>\n",
              "    <tr>\n",
              "      <th>Wed Apr 08 20</th>\n",
              "      <td>This job is now open at Oakwood Worldwide in #CrystalCity, VA. Follow us and turn on mobile alerts to hear about jo… https://t.co/iubTAnZET1We're hiring in #NewYork, NY! Click the link in our bio ...</td>\n",
              "      <td>Wed Apr 08 20:12:31 +0000 2020Wed Apr 08 20:12:30 +0000 2020Wed Apr 08 20:12:29 +0000 2020Wed Apr 08 20:12:29 +0000 2020Wed Apr 08 20:12:28 +0000 2020Wed Apr 08 20:12:19 +0000 2020Wed Apr 08 20:12...</td>\n",
              "      <td>This job open Oakwood Worldwide CrystalCity VA Follow us turn mobile alerts hear joWe hiring NewYork NY Click link bio apply job Senior Analyst Production SWant work Cellular Sales We hiring PineB...</td>\n",
              "    </tr>\n",
              "  </tbody>\n",
              "</table>\n",
              "<p>154 rows × 3 columns</p>\n",
              "</div>"
            ],
            "text/plain": [
              "                                                                                                                                                                                                                               text  ...                                                                                                                                                                                              Proper_text\n",
              "country_code Day                                                                                                                                                                                                                     ...                                                                                                                                                                                                         \n",
              "CA           Mon Apr 06 02  @stroughtonsmith Great job steve!No food makes me as happy as rice does! Naturally, been wanting to make cooking Dum Biryani, and when I stumbled up… https://t.co/mZwuoBAz6b🌙 #nightnight #linashek...  ...  stroughtonsmith Great job steveNo food makes happy rice Naturally wanting make cooking Dum Biryani stumblednightnight linashek stayhome Toronto Ontariobees With COVD situation full effect taking p...\n",
              "             Mon Apr 06 03  Made waffles for y'all. Who wants them? Two waffles per bag. Primarily for the kids though (and not adultish age ki… https://t.co/00b8za95ieThe countdown to the kid’s bedtime is on!! 🙌🏻 In just a ...  ...  Made waffles Who wants Two waffles per bag Primarily kids though adultish age kiThe countdown kid bedtime n minutes free snack making amp lookingThank shopping us find HARBYLAWLAR etsy tap pre ord...\n",
              "             Mon Apr 06 04  #betterbiggerbusier @soojandra @century21canada @Reachbandleader join us live April 6 at 1:00pm to be inspired and… https://t.co/adxeDa1hsSWork isn't the only thing I brought home with me... :-) @...  ...  betterbiggerbusier soojandra century canada Reachbandleader join us live April pm inspiredWork thing brought home Lethbridge AlbertaAn update Sylvan Food Bank peoplehelpingpeople inittogether thes...\n",
              "             Mon Apr 06 05  This weekend was so much better than the others. We seem to have slowed down enough to just enjoy being home. We ma… https://t.co/1J3fM4lSACFirst thing I’m doing when we are cleared to go back out...  ...  This weekend much better others We seem slowed enough enjoy home WeFirst thing cleared go back hosting sick car cruise seatosky highway cruiseLiterally procrastinating school work days continuousl...\n",
              "             Mon Apr 06 06  What NOT to do in a pandemic...\\nCover your mouth, Eddie, jeeze!\\n#venom #eddiebrock #marvel #monster #teeth #tongue… https://t.co/BQpdFqiyv9Stay home!🏡Stay safe!😷Save a life!💕 Flatten the curve!⚠...  ...  What NOT pandemic Cover mouth Eddie jeeze venom eddiebrock marvel monster teeth tongueStay home Stay safe Save life Flatten curve Covid Day home safe blessed thankful ReginThere toilet paper short...\n",
              "...                                                                                                                                                                                                                             ...  ...                                                                                                                                                                                                      ...\n",
              "US           Wed Apr 08 16  Fresh roasting continues for special orders and Subscription. Stay home and make delicious coffee! ⛾❤ @ caffe d'bol… https://t.co/AjwTEzwWDsCheck out our #listing in #Circleville #OH  #realestate ...  ...  Fresh roasting continues special orders Subscription Stay home make delicious coffee caffe bolCheck listing Circleville OH realestate realtorThis job open The Everett Clinic part Optum Everett WA ...\n",
              "             Wed Apr 08 17  Interested in a job in #Ontario, CA? This could be a great fit: https://t.co/68wqY8CflA #FacilitiesMgmtPollo tropical at night doing conovruis oof imagine 🤔 #miamiflorida #miami #home #miamiflorid...  ...  nterested job Ontario CA This could great fitPollo tropical night conovruis oof imagine miamiflorida miami home miamiflorida house friendsf looking work Austin TX check Accounting job via link bio...\n",
              "             Wed Apr 08 18  BIG shout to @eviemaesbbq  for lunch for NSS today! Y’all are the best! #teamumc #nourishment @ UMC Health System https://t.co/qWV8hwNfOcIf you're looking for work in #Nampa, ID, check out this jo...  ...  BG shout eviemaesbbq lunch NSS today Y best teamumc nourishment UMC Health Systemf looking work Nampa D check jobHave ever role like Part Time Night Trash Collector Truck Required hr What liNervou...\n",
              "             Wed Apr 08 19  Scenes from quarantine, day eleventy-billion: a brief taste of summer in early April. @ Eureka, Missouri https://t.co/FJtmwEvSWuDirect from the brewery #BuyLocal - Drinking a Wanderlust by Allenda...  ...  Scenes quarantine day eleventy billion brief taste summer early April Eureka MissouriDirect brewery BuyLocal Drinking Wanderlust Allendale Brewery Co Ltd Untappd HomeThis BusinessMgmt job might gr...\n",
              "             Wed Apr 08 20  This job is now open at Oakwood Worldwide in #CrystalCity, VA. Follow us and turn on mobile alerts to hear about jo… https://t.co/iubTAnZET1We're hiring in #NewYork, NY! Click the link in our bio ...  ...  This job open Oakwood Worldwide CrystalCity VA Follow us turn mobile alerts hear joWe hiring NewYork NY Click link bio apply job Senior Analyst Production SWant work Cellular Sales We hiring PineB...\n",
              "\n",
              "[154 rows x 3 columns]"
            ]
          },
          "metadata": {
            "tags": []
          },
          "execution_count": 24
        }
      ]
    },
    {
      "cell_type": "code",
      "metadata": {
        "colab": {
          "base_uri": "https://localhost:8080/",
          "height": 241
        },
        "id": "lI6hJJ0_Q99-",
        "outputId": "f0796904-43b6-4155-855e-e503f6a2607c"
      },
      "source": [
        " df2.describe()"
      ],
      "execution_count": 25,
      "outputs": [
        {
          "output_type": "execute_result",
          "data": {
            "text/html": [
              "<div>\n",
              "<style scoped>\n",
              "    .dataframe tbody tr th:only-of-type {\n",
              "        vertical-align: middle;\n",
              "    }\n",
              "\n",
              "    .dataframe tbody tr th {\n",
              "        vertical-align: top;\n",
              "    }\n",
              "\n",
              "    .dataframe thead th {\n",
              "        text-align: right;\n",
              "    }\n",
              "</style>\n",
              "<table border=\"1\" class=\"dataframe\">\n",
              "  <thead>\n",
              "    <tr style=\"text-align: right;\">\n",
              "      <th></th>\n",
              "      <th>text</th>\n",
              "      <th>created_at</th>\n",
              "      <th>Proper_text</th>\n",
              "    </tr>\n",
              "  </thead>\n",
              "  <tbody>\n",
              "    <tr>\n",
              "      <th>count</th>\n",
              "      <td>154</td>\n",
              "      <td>154</td>\n",
              "      <td>154</td>\n",
              "    </tr>\n",
              "    <tr>\n",
              "      <th>unique</th>\n",
              "      <td>154</td>\n",
              "      <td>154</td>\n",
              "      <td>154</td>\n",
              "    </tr>\n",
              "    <tr>\n",
              "      <th>top</th>\n",
              "      <td>This weekend was so much better than the others. We seem to have slowed down enough to just enjoy being home. We ma… https://t.co/1J3fM4lSACFirst thing I’m doing when we are cleared to go back out...</td>\n",
              "      <td>Mon Apr 06 03:58:39 +0000 2020Mon Apr 06 03:54:33 +0000 2020Mon Apr 06 03:48:12 +0000 2020Mon Apr 06 03:32:03 +0000 2020Mon Apr 06 03:26:31 +0000 2020Mon Apr 06 03:20:10 +0000 2020Mon Apr 06 03:12...</td>\n",
              "      <td>When skills years quarantine Quarantine ke dream come true ToronSocial distancing going conversation havent done Unfriendly mage VERY long timTo prevent spread COVD decided serve customers appoint...</td>\n",
              "    </tr>\n",
              "    <tr>\n",
              "      <th>freq</th>\n",
              "      <td>1</td>\n",
              "      <td>1</td>\n",
              "      <td>1</td>\n",
              "    </tr>\n",
              "  </tbody>\n",
              "</table>\n",
              "</div>"
            ],
            "text/plain": [
              "                                                                                                                                                                                                           text  ...                                                                                                                                                                                              Proper_text\n",
              "count                                                                                                                                                                                                       154  ...                                                                                                                                                                                                      154\n",
              "unique                                                                                                                                                                                                      154  ...                                                                                                                                                                                                      154\n",
              "top     This weekend was so much better than the others. We seem to have slowed down enough to just enjoy being home. We ma… https://t.co/1J3fM4lSACFirst thing I’m doing when we are cleared to go back out...  ...  When skills years quarantine Quarantine ke dream come true ToronSocial distancing going conversation havent done Unfriendly mage VERY long timTo prevent spread COVD decided serve customers appoint...\n",
              "freq                                                                                                                                                                                                          1  ...                                                                                                                                                                                                        1\n",
              "\n",
              "[4 rows x 3 columns]"
            ]
          },
          "metadata": {
            "tags": []
          },
          "execution_count": 25
        }
      ]
    },
    {
      "cell_type": "code",
      "metadata": {
        "id": "awzBBuhUgREC"
      },
      "source": [
        "from collections import Counter\n"
      ],
      "execution_count": 26,
      "outputs": []
    },
    {
      "cell_type": "code",
      "metadata": {
        "id": "Hy3dJuMagfI2"
      },
      "source": [
        "max_word = []\n"
      ],
      "execution_count": 27,
      "outputs": []
    },
    {
      "cell_type": "code",
      "metadata": {
        "id": "52Y58s7mgsTS"
      },
      "source": [
        "for i in range(0,len(df2['Proper_text'])):\n",
        "  temp_word =  Counter(df2['Proper_text'].iloc[i].split()).most_common(1)\n",
        "  max_word.append(temp_word) #will find max_word and store it in list"
      ],
      "execution_count": 28,
      "outputs": []
    },
    {
      "cell_type": "code",
      "metadata": {
        "id": "JbizFNJYidS0"
      },
      "source": [
        "df2['max_word'] = max_word #creates new column and adds the maximum occurring word "
      ],
      "execution_count": 29,
      "outputs": []
    },
    {
      "cell_type": "code",
      "metadata": {
        "id": "igvz8mWhwcmn"
      },
      "source": [
        "list_each_word = []\n",
        "list_each_count = []\n",
        "c = 0\n",
        "for i in df2['max_word']:\n",
        "  for j in i[0]:\n",
        "    if c % 2 == 0:\n",
        "      list_each_word.append(j)\n",
        "      c += 1\n",
        "    else:\n",
        "      list_each_count.append(j)\n",
        "      c += 1\n",
        "\n",
        "df2['each_word'] = list_each_word\n",
        "df2['each_count'] = list_each_count\n"
      ],
      "execution_count": 30,
      "outputs": []
    },
    {
      "cell_type": "code",
      "metadata": {
        "colab": {
          "base_uri": "https://localhost:8080/",
          "height": 1000
        },
        "id": "fAGqYE-8ijOm",
        "outputId": "9c8c1f51-869e-42f1-c4ac-812cba11f6d1"
      },
      "source": [
        "df2.head(4000)"
      ],
      "execution_count": 31,
      "outputs": [
        {
          "output_type": "execute_result",
          "data": {
            "text/html": [
              "<div>\n",
              "<style scoped>\n",
              "    .dataframe tbody tr th:only-of-type {\n",
              "        vertical-align: middle;\n",
              "    }\n",
              "\n",
              "    .dataframe tbody tr th {\n",
              "        vertical-align: top;\n",
              "    }\n",
              "\n",
              "    .dataframe thead th {\n",
              "        text-align: right;\n",
              "    }\n",
              "</style>\n",
              "<table border=\"1\" class=\"dataframe\">\n",
              "  <thead>\n",
              "    <tr style=\"text-align: right;\">\n",
              "      <th></th>\n",
              "      <th></th>\n",
              "      <th>text</th>\n",
              "      <th>created_at</th>\n",
              "      <th>Proper_text</th>\n",
              "      <th>max_word</th>\n",
              "      <th>each_word</th>\n",
              "      <th>each_count</th>\n",
              "    </tr>\n",
              "    <tr>\n",
              "      <th>country_code</th>\n",
              "      <th>Day</th>\n",
              "      <th></th>\n",
              "      <th></th>\n",
              "      <th></th>\n",
              "      <th></th>\n",
              "      <th></th>\n",
              "      <th></th>\n",
              "    </tr>\n",
              "  </thead>\n",
              "  <tbody>\n",
              "    <tr>\n",
              "      <th rowspan=\"5\" valign=\"top\">CA</th>\n",
              "      <th>Mon Apr 06 02</th>\n",
              "      <td>@stroughtonsmith Great job steve!No food makes me as happy as rice does! Naturally, been wanting to make cooking Dum Biryani, and when I stumbled up… https://t.co/mZwuoBAz6b🌙 #nightnight #linashek...</td>\n",
              "      <td>Mon Apr 06 02:58:54 +0000 2020Mon Apr 06 02:56:16 +0000 2020Mon Apr 06 02:52:32 +0000 2020Mon Apr 06 02:51:47 +0000 2020Mon Apr 06 02:46:20 +0000 2020Mon Apr 06 02:45:56 +0000 2020Mon Apr 06 02:44...</td>\n",
              "      <td>stroughtonsmith Great job steveNo food makes happy rice Naturally wanting make cooking Dum Biryani stumblednightnight linashek stayhome Toronto Ontariobees With COVD situation full effect taking p...</td>\n",
              "      <td>[(get, 3)]</td>\n",
              "      <td>get</td>\n",
              "      <td>3</td>\n",
              "    </tr>\n",
              "    <tr>\n",
              "      <th>Mon Apr 06 03</th>\n",
              "      <td>Made waffles for y'all. Who wants them? Two waffles per bag. Primarily for the kids though (and not adultish age ki… https://t.co/00b8za95ieThe countdown to the kid’s bedtime is on!! 🙌🏻 In just a ...</td>\n",
              "      <td>Mon Apr 06 03:58:33 +0000 2020Mon Apr 06 03:53:27 +0000 2020Mon Apr 06 03:52:10 +0000 2020Mon Apr 06 03:51:05 +0000 2020Mon Apr 06 03:51:00 +0000 2020Mon Apr 06 03:48:32 +0000 2020Mon Apr 06 03:44...</td>\n",
              "      <td>Made waffles Who wants Two waffles per bag Primarily kids though adultish age kiThe countdown kid bedtime n minutes free snack making amp lookingThank shopping us find HARBYLAWLAR etsy tap pre ord...</td>\n",
              "      <td>[(amp, 3)]</td>\n",
              "      <td>amp</td>\n",
              "      <td>3</td>\n",
              "    </tr>\n",
              "    <tr>\n",
              "      <th>Mon Apr 06 04</th>\n",
              "      <td>#betterbiggerbusier @soojandra @century21canada @Reachbandleader join us live April 6 at 1:00pm to be inspired and… https://t.co/adxeDa1hsSWork isn't the only thing I brought home with me... :-) @...</td>\n",
              "      <td>Mon Apr 06 04:56:45 +0000 2020Mon Apr 06 04:55:16 +0000 2020Mon Apr 06 04:52:49 +0000 2020Mon Apr 06 04:49:51 +0000 2020Mon Apr 06 04:45:35 +0000 2020Mon Apr 06 04:43:10 +0000 2020Mon Apr 06 04:40...</td>\n",
              "      <td>betterbiggerbusier soojandra century canada Reachbandleader join us live April pm inspiredWork thing brought home Lethbridge AlbertaAn update Sylvan Food Bank peoplehelpingpeople inittogether thes...</td>\n",
              "      <td>[(home, 4)]</td>\n",
              "      <td>home</td>\n",
              "      <td>4</td>\n",
              "    </tr>\n",
              "    <tr>\n",
              "      <th>Mon Apr 06 05</th>\n",
              "      <td>This weekend was so much better than the others. We seem to have slowed down enough to just enjoy being home. We ma… https://t.co/1J3fM4lSACFirst thing I’m doing when we are cleared to go back out...</td>\n",
              "      <td>Mon Apr 06 05:38:01 +0000 2020Mon Apr 06 05:30:39 +0000 2020Mon Apr 06 05:30:23 +0000 2020Mon Apr 06 05:30:02 +0000 2020Mon Apr 06 05:29:02 +0000 2020Mon Apr 06 05:26:47 +0000 2020Mon Apr 06 05:19...</td>\n",
              "      <td>This weekend much better others We seem slowed enough enjoy home WeFirst thing cleared go back hosting sick car cruise seatosky highway cruiseLiterally procrastinating school work days continuousl...</td>\n",
              "      <td>[(car, 2)]</td>\n",
              "      <td>car</td>\n",
              "      <td>2</td>\n",
              "    </tr>\n",
              "    <tr>\n",
              "      <th>Mon Apr 06 06</th>\n",
              "      <td>What NOT to do in a pandemic...\\nCover your mouth, Eddie, jeeze!\\n#venom #eddiebrock #marvel #monster #teeth #tongue… https://t.co/BQpdFqiyv9Stay home!🏡Stay safe!😷Save a life!💕 Flatten the curve!⚠...</td>\n",
              "      <td>Mon Apr 06 06:55:56 +0000 2020Mon Apr 06 06:51:51 +0000 2020Mon Apr 06 06:28:42 +0000 2020Mon Apr 06 06:23:49 +0000 2020Mon Apr 06 06:08:00 +0000 2020Mon Apr 06 06:05:50 +0000 2020</td>\n",
              "      <td>What NOT pandemic Cover mouth Eddie jeeze venom eddiebrock marvel monster teeth tongueStay home Stay safe Save life Flatten curve Covid Day home safe blessed thankful ReginThere toilet paper short...</td>\n",
              "      <td>[(home, 2)]</td>\n",
              "      <td>home</td>\n",
              "      <td>2</td>\n",
              "    </tr>\n",
              "    <tr>\n",
              "      <th>...</th>\n",
              "      <th>...</th>\n",
              "      <td>...</td>\n",
              "      <td>...</td>\n",
              "      <td>...</td>\n",
              "      <td>...</td>\n",
              "      <td>...</td>\n",
              "      <td>...</td>\n",
              "    </tr>\n",
              "    <tr>\n",
              "      <th rowspan=\"5\" valign=\"top\">US</th>\n",
              "      <th>Wed Apr 08 16</th>\n",
              "      <td>Fresh roasting continues for special orders and Subscription. Stay home and make delicious coffee! ⛾❤ @ caffe d'bol… https://t.co/AjwTEzwWDsCheck out our #listing in #Circleville #OH  #realestate ...</td>\n",
              "      <td>Wed Apr 08 16:59:42 +0000 2020Wed Apr 08 16:59:40 +0000 2020Wed Apr 08 16:59:29 +0000 2020Wed Apr 08 16:59:19 +0000 2020Wed Apr 08 16:59:19 +0000 2020Wed Apr 08 16:59:18 +0000 2020Wed Apr 08 16:59...</td>\n",
              "      <td>Fresh roasting continues special orders Subscription Stay home make delicious coffee caffe bolCheck listing Circleville OH realestate realtorThis job open The Everett Clinic part Optum Everett WA ...</td>\n",
              "      <td>[(job, 271)]</td>\n",
              "      <td>job</td>\n",
              "      <td>271</td>\n",
              "    </tr>\n",
              "    <tr>\n",
              "      <th>Wed Apr 08 17</th>\n",
              "      <td>Interested in a job in #Ontario, CA? This could be a great fit: https://t.co/68wqY8CflA #FacilitiesMgmtPollo tropical at night doing conovruis oof imagine 🤔 #miamiflorida #miami #home #miamiflorid...</td>\n",
              "      <td>Wed Apr 08 17:59:55 +0000 2020Wed Apr 08 17:59:54 +0000 2020Wed Apr 08 17:59:51 +0000 2020Wed Apr 08 17:59:49 +0000 2020Wed Apr 08 17:59:48 +0000 2020Wed Apr 08 17:59:42 +0000 2020Wed Apr 08 17:59...</td>\n",
              "      <td>nterested job Ontario CA This could great fitPollo tropical night conovruis oof imagine miamiflorida miami home miamiflorida house friendsf looking work Austin TX check Accounting job via link bio...</td>\n",
              "      <td>[(job, 317)]</td>\n",
              "      <td>job</td>\n",
              "      <td>317</td>\n",
              "    </tr>\n",
              "    <tr>\n",
              "      <th>Wed Apr 08 18</th>\n",
              "      <td>BIG shout to @eviemaesbbq  for lunch for NSS today! Y’all are the best! #teamumc #nourishment @ UMC Health System https://t.co/qWV8hwNfOcIf you're looking for work in #Nampa, ID, check out this jo...</td>\n",
              "      <td>Wed Apr 08 18:59:58 +0000 2020Wed Apr 08 18:59:57 +0000 2020Wed Apr 08 18:59:56 +0000 2020Wed Apr 08 18:59:56 +0000 2020Wed Apr 08 18:59:56 +0000 2020Wed Apr 08 18:59:56 +0000 2020Wed Apr 08 18:59...</td>\n",
              "      <td>BG shout eviemaesbbq lunch NSS today Y best teamumc nourishment UMC Health Systemf looking work Nampa D check jobHave ever role like Part Time Night Trash Collector Truck Required hr What liNervou...</td>\n",
              "      <td>[(job, 269)]</td>\n",
              "      <td>job</td>\n",
              "      <td>269</td>\n",
              "    </tr>\n",
              "    <tr>\n",
              "      <th>Wed Apr 08 19</th>\n",
              "      <td>Scenes from quarantine, day eleventy-billion: a brief taste of summer in early April. @ Eureka, Missouri https://t.co/FJtmwEvSWuDirect from the brewery #BuyLocal - Drinking a Wanderlust by Allenda...</td>\n",
              "      <td>Wed Apr 08 19:59:51 +0000 2020Wed Apr 08 19:59:51 +0000 2020Wed Apr 08 19:59:51 +0000 2020Wed Apr 08 19:59:50 +0000 2020Wed Apr 08 19:59:49 +0000 2020Wed Apr 08 19:59:49 +0000 2020Wed Apr 08 19:59...</td>\n",
              "      <td>Scenes quarantine day eleventy billion brief taste summer early April Eureka MissouriDirect brewery BuyLocal Drinking Wanderlust Allendale Brewery Co Ltd Untappd HomeThis BusinessMgmt job might gr...</td>\n",
              "      <td>[(job, 293)]</td>\n",
              "      <td>job</td>\n",
              "      <td>293</td>\n",
              "    </tr>\n",
              "    <tr>\n",
              "      <th>Wed Apr 08 20</th>\n",
              "      <td>This job is now open at Oakwood Worldwide in #CrystalCity, VA. Follow us and turn on mobile alerts to hear about jo… https://t.co/iubTAnZET1We're hiring in #NewYork, NY! Click the link in our bio ...</td>\n",
              "      <td>Wed Apr 08 20:12:31 +0000 2020Wed Apr 08 20:12:30 +0000 2020Wed Apr 08 20:12:29 +0000 2020Wed Apr 08 20:12:29 +0000 2020Wed Apr 08 20:12:28 +0000 2020Wed Apr 08 20:12:19 +0000 2020Wed Apr 08 20:12...</td>\n",
              "      <td>This job open Oakwood Worldwide CrystalCity VA Follow us turn mobile alerts hear joWe hiring NewYork NY Click link bio apply job Senior Analyst Production SWant work Cellular Sales We hiring PineB...</td>\n",
              "      <td>[(job, 99)]</td>\n",
              "      <td>job</td>\n",
              "      <td>99</td>\n",
              "    </tr>\n",
              "  </tbody>\n",
              "</table>\n",
              "<p>154 rows × 6 columns</p>\n",
              "</div>"
            ],
            "text/plain": [
              "                                                                                                                                                                                                                               text  ... each_count\n",
              "country_code Day                                                                                                                                                                                                                     ...           \n",
              "CA           Mon Apr 06 02  @stroughtonsmith Great job steve!No food makes me as happy as rice does! Naturally, been wanting to make cooking Dum Biryani, and when I stumbled up… https://t.co/mZwuoBAz6b🌙 #nightnight #linashek...  ...          3\n",
              "             Mon Apr 06 03  Made waffles for y'all. Who wants them? Two waffles per bag. Primarily for the kids though (and not adultish age ki… https://t.co/00b8za95ieThe countdown to the kid’s bedtime is on!! 🙌🏻 In just a ...  ...          3\n",
              "             Mon Apr 06 04  #betterbiggerbusier @soojandra @century21canada @Reachbandleader join us live April 6 at 1:00pm to be inspired and… https://t.co/adxeDa1hsSWork isn't the only thing I brought home with me... :-) @...  ...          4\n",
              "             Mon Apr 06 05  This weekend was so much better than the others. We seem to have slowed down enough to just enjoy being home. We ma… https://t.co/1J3fM4lSACFirst thing I’m doing when we are cleared to go back out...  ...          2\n",
              "             Mon Apr 06 06  What NOT to do in a pandemic...\\nCover your mouth, Eddie, jeeze!\\n#venom #eddiebrock #marvel #monster #teeth #tongue… https://t.co/BQpdFqiyv9Stay home!🏡Stay safe!😷Save a life!💕 Flatten the curve!⚠...  ...          2\n",
              "...                                                                                                                                                                                                                             ...  ...        ...\n",
              "US           Wed Apr 08 16  Fresh roasting continues for special orders and Subscription. Stay home and make delicious coffee! ⛾❤ @ caffe d'bol… https://t.co/AjwTEzwWDsCheck out our #listing in #Circleville #OH  #realestate ...  ...        271\n",
              "             Wed Apr 08 17  Interested in a job in #Ontario, CA? This could be a great fit: https://t.co/68wqY8CflA #FacilitiesMgmtPollo tropical at night doing conovruis oof imagine 🤔 #miamiflorida #miami #home #miamiflorid...  ...        317\n",
              "             Wed Apr 08 18  BIG shout to @eviemaesbbq  for lunch for NSS today! Y’all are the best! #teamumc #nourishment @ UMC Health System https://t.co/qWV8hwNfOcIf you're looking for work in #Nampa, ID, check out this jo...  ...        269\n",
              "             Wed Apr 08 19  Scenes from quarantine, day eleventy-billion: a brief taste of summer in early April. @ Eureka, Missouri https://t.co/FJtmwEvSWuDirect from the brewery #BuyLocal - Drinking a Wanderlust by Allenda...  ...        293\n",
              "             Wed Apr 08 20  This job is now open at Oakwood Worldwide in #CrystalCity, VA. Follow us and turn on mobile alerts to hear about jo… https://t.co/iubTAnZET1We're hiring in #NewYork, NY! Click the link in our bio ...  ...         99\n",
              "\n",
              "[154 rows x 6 columns]"
            ]
          },
          "metadata": {
            "tags": []
          },
          "execution_count": 31
        }
      ]
    },
    {
      "cell_type": "code",
      "metadata": {
        "colab": {
          "base_uri": "https://localhost:8080/",
          "height": 297
        },
        "id": "4MS5hd-niw_2",
        "outputId": "e0863c9f-c07d-429e-b18f-fd240b065cf0"
      },
      "source": [
        "df2['each_count'].plot()"
      ],
      "execution_count": 32,
      "outputs": [
        {
          "output_type": "execute_result",
          "data": {
            "text/plain": [
              "<matplotlib.axes._subplots.AxesSubplot at 0x7f8240355470>"
            ]
          },
          "metadata": {
            "tags": []
          },
          "execution_count": 32
        },
        {
          "output_type": "display_data",
          "data": {
            "image/png": "[encoded data removed]",
            "text/plain": [
              "<Figure size 432x288 with 1 Axes>"
            ]
          },
          "metadata": {
            "tags": [],
            "needs_background": "light"
          }
        }
      ]
    },
    {
      "cell_type": "code",
      "metadata": {
        "colab": {
          "base_uri": "https://localhost:8080/",
          "height": 265
        },
        "id": "bS_A0cMe2jSg",
        "outputId": "57fed6e0-8980-4280-eae2-3ef5606f3114"
      },
      "source": [
        "plt.scatter(df2['each_word'],df2['each_count'])\n",
        "plt.show() # Depending on whether you use IPython or interactive mode, etc."
      ],
      "execution_count": 33,
      "outputs": [
        {
          "output_type": "display_data",
          "data": {
            "image/png": "[encoded data removed]",
            "text/plain": [
              "<Figure size 432x288 with 1 Axes>"
            ]
          },
          "metadata": {
            "tags": [],
            "needs_background": "light"
          }
        }
      ]
    },
    {
      "cell_type": "code",
      "metadata": {
        "colab": {
          "base_uri": "https://localhost:8080/"
        },
        "id": "o94s5_Y-3HAg",
        "outputId": "688dbfa3-a979-4690-fa78-e55bd0baccb1"
      },
      "source": [
        "pip install mpld3"
      ],
      "execution_count": 34,
      "outputs": [
        {
          "output_type": "stream",
          "text": [
            "Collecting mpld3\n",
            "\u001b[?25l  Downloading https://files.pythonhosted.org/packages/66/31/89bd2afd21b920e3612996623e7b3aac14d741537aa77600ea5102a34be0/mpld3-0.5.1.tar.gz (1.0MB)\n",
            "\u001b[K     |████████████████████████████████| 1.0MB 5.9MB/s \n",
            "\u001b[?25hRequirement already satisfied: jinja2 in /usr/local/lib/python3.6/dist-packages (from mpld3) (2.11.2)\n",
            "Requirement already satisfied: matplotlib in /usr/local/lib/python3.6/dist-packages (from mpld3) (3.2.2)\n",
            "Requirement already satisfied: MarkupSafe>=0.23 in /usr/local/lib/python3.6/dist-packages (from jinja2->mpld3) (1.1.1)\n",
            "Requirement already satisfied: kiwisolver>=1.0.1 in /usr/local/lib/python3.6/dist-packages (from matplotlib->mpld3) (1.3.1)\n",
            "Requirement already satisfied: cycler>=0.10 in /usr/local/lib/python3.6/dist-packages (from matplotlib->mpld3) (0.10.0)\n",
            "Requirement already satisfied: pyparsing!=2.0.4,!=2.1.2,!=2.1.6,>=2.0.1 in /usr/local/lib/python3.6/dist-packages (from matplotlib->mpld3) (2.4.7)\n",
            "Requirement already satisfied: numpy>=1.11 in /usr/local/lib/python3.6/dist-packages (from matplotlib->mpld3) (1.18.5)\n",
            "Requirement already satisfied: python-dateutil>=2.1 in /usr/local/lib/python3.6/dist-packages (from matplotlib->mpld3) (2.8.1)\n",
            "Requirement already satisfied: six in /usr/local/lib/python3.6/dist-packages (from cycler>=0.10->matplotlib->mpld3) (1.15.0)\n",
            "Building wheels for collected packages: mpld3\n",
            "  Building wheel for mpld3 (setup.py) ... \u001b[?25l\u001b[?25hdone\n",
            "  Created wheel for mpld3: filename=mpld3-0.5.1-cp36-none-any.whl size=364064 sha256=b9128e43aa7c0d62c7f107013bea98a65ffa5c1ab82f3ca262b1c6daf643132e\n",
            "  Stored in directory: /root/.cache/pip/wheels/38/68/06/d119af6c3f9a2d1e123c1f72d276576b457131b3a7bf94e402\n",
            "Successfully built mpld3\n",
            "Installing collected packages: mpld3\n",
            "Successfully installed mpld3-0.5.1\n"
          ],
          "name": "stdout"
        }
      ]
    },
    {
      "cell_type": "code",
      "metadata": {
        "id": "n3FRAWhX3dNE"
      },
      "source": [
        "%matplotlib inline\n",
        "import mpld3\n",
        "mpld3.enable_notebook()"
      ],
      "execution_count": 35,
      "outputs": []
    },
    {
      "cell_type": "code",
      "metadata": {
        "colab": {
          "base_uri": "https://localhost:8080/",
          "height": 309
        },
        "id": "5Turzp213g2-",
        "outputId": "695dd855-a293-4b82-964e-e7d4e85c114c"
      },
      "source": [
        "plt.scatter(df2['each_word'],df2['each_count'])\n",
        "plt.show() # Depending on whether you use IPython or interactive mode, etc."
      ],
      "execution_count": 36,
      "outputs": [
        {
          "output_type": "display_data",
          "data": {
            "image/png": "[encoded data removed]",
            "text/html": [
              "\n",
              "\n",
              "<style>\n",
              "\n",
              "</style>\n",
              "\n",
              "<div id=\"fig_el551401981792797044719728692\"></div>\n",
              "<script>\n",
              "function mpld3_load_lib(url, callback){\n",
              "  var s = document.createElement('script');\n",
              "  s.src = url;\n",
              "  s.async = true;\n",
              "  s.onreadystatechange = s.onload = callback;\n",
              "  s.onerror = function(){console.warn(\"failed to load library \" + url);};\n",
              "  document.getElementsByTagName(\"head\")[0].appendChild(s);\n",
              "}\n",
              "\n",
              "if(typeof(mpld3) !== \"undefined\" && mpld3._mpld3IsLoaded){\n",
              "   // already loaded: just create the figure\n",
              "   !function(mpld3){\n",
              "       \n",
              "       mpld3.draw_figure(\"fig_el551401981792797044719728692\", {\"width\": 432.0, \"height\": 288.0, \"axes\": [{\"bbox\": [0.125, 0.125, 0.775, 0.755], \"xlim\": [-2.0500000000000003, 43.05], \"ylim\": [-26.700000000000003, 582.7], \"xdomain\": [-2.0500000000000003, 43.05], \"ydomain\": [-26.700000000000003, 582.7], \"xscale\": \"linear\", \"yscale\": \"linear\", \"axes\": [{\"position\": \"bottom\", \"nticks\": 42, \"tickvalues\": null, \"tickformat_formatter\": \"\", \"tickformat\": null, \"scale\": \"linear\", \"fontsize\": 10.0, \"grid\": {\"gridOn\": false}, \"visible\": true}, {\"position\": \"left\", \"nticks\": 8, \"tickvalues\": null, \"tickformat_formatter\": \"\", \"tickformat\": null, \"scale\": \"linear\", \"fontsize\": 10.0, \"grid\": {\"gridOn\": false}, \"visible\": true}], \"axesbg\": \"#FFFFFF\", \"axesbgalpha\": null, \"zoomable\": true, \"id\": \"el55140197363588512\", \"lines\": [], \"paths\": [], \"markers\": [], \"texts\": [], \"collections\": [{\"offsets\": \"data01\", \"xindex\": 0, \"yindex\": 1, \"paths\": [[[[0.0, -0.5], [0.13260155, -0.5], [0.25978993539242673, -0.44731684579412084], [0.3535533905932738, -0.3535533905932738], [0.44731684579412084, -0.25978993539242673], [0.5, -0.13260155], [0.5, 0.0], [0.5, 0.13260155], [0.44731684579412084, 0.25978993539242673], [0.3535533905932738, 0.3535533905932738], [0.25978993539242673, 0.44731684579412084], [0.13260155, 0.5], [0.0, 0.5], [-0.13260155, 0.5], [-0.25978993539242673, 0.44731684579412084], [-0.3535533905932738, 0.3535533905932738], [-0.44731684579412084, 0.25978993539242673], [-0.5, 0.13260155], [-0.5, 0.0], [-0.5, -0.13260155], [-0.44731684579412084, -0.25978993539242673], [-0.3535533905932738, -0.3535533905932738], [-0.25978993539242673, -0.44731684579412084], [-0.13260155, -0.5], [0.0, -0.5]], [\"M\", \"C\", \"C\", \"C\", \"C\", \"C\", \"C\", \"C\", \"C\", \"Z\"]]], \"pathtransforms\": [[6.0, 0.0, 0.0, 6.0, 0.0, 0.0]], \"alphas\": [null], \"edgecolors\": [\"#1F77B4\"], \"facecolors\": [\"#1F77B4\"], \"edgewidths\": [1.0], \"offsetcoordinates\": \"data\", \"pathcoordinates\": \"display\", \"zorder\": 1, \"id\": \"el55140197351257648\"}], \"images\": [], \"sharex\": [], \"sharey\": []}], \"data\": {\"data01\": [[0.0, 3.0], [1.0, 3.0], [2.0, 4.0], [3.0, 2.0], [2.0, 2.0], [4.0, 3.0], [5.0, 1.0], [6.0, 2.0], [7.0, 4.0], [2.0, 2.0], [8.0, 3.0], [9.0, 6.0], [10.0, 8.0], [8.0, 9.0], [10.0, 10.0], [10.0, 11.0], [10.0, 11.0], [10.0, 13.0], [11.0, 5.0], [12.0, 7.0], [13.0, 5.0], [14.0, 5.0], [15.0, 4.0], [1.0, 4.0], [6.0, 3.0], [16.0, 2.0], [17.0, 2.0], [18.0, 2.0], [19.0, 1.0], [20.0, 3.0], [10.0, 4.0], [2.0, 5.0], [10.0, 12.0], [10.0, 12.0], [10.0, 9.0], [20.0, 1.0], [10.0, 6.0], [21.0, 11.0], [10.0, 7.0], [22.0, 6.0], [8.0, 5.0], [22.0, 11.0], [12.0, 5.0], [2.0, 6.0], [23.0, 4.0], [24.0, 4.0], [9.0, 5.0], [10.0, 11.0], [2.0, 9.0], [10.0, 6.0], [10.0, 11.0], [24.0, 2.0], [25.0, 1.0], [26.0, 4.0], [26.0, 5.0], [27.0, 1.0], [28.0, 1.0], [29.0, 1.0], [30.0, 2.0], [31.0, 2.0], [26.0, 4.0], [26.0, 7.0], [30.0, 4.0], [26.0, 2.0], [26.0, 4.0], [32.0, 4.0], [26.0, 6.0], [26.0, 4.0], [26.0, 3.0], [32.0, 2.0], [33.0, 10.0], [26.0, 7.0], [26.0, 13.0], [26.0, 4.0], [26.0, 5.0], [34.0, 2.0], [33.0, 2.0], [26.0, 2.0], [35.0, 1.0], [31.0, 2.0], [26.0, 3.0], [33.0, 2.0], [26.0, 8.0], [33.0, 5.0], [33.0, 2.0], [33.0, 10.0], [33.0, 7.0], [26.0, 7.0], [36.0, 4.0], [33.0, 5.0], [33.0, 6.0], [26.0, 5.0], [33.0, 5.0], [26.0, 2.0], [37.0, 4.0], [21.0, 2.0], [26.0, 6.0], [26.0, 6.0], [26.0, 6.0], [26.0, 3.0], [38.0, 1.0], [39.0, 34.0], [2.0, 30.0], [39.0, 21.0], [21.0, 17.0], [2.0, 11.0], [13.0, 10.0], [40.0, 12.0], [9.0, 6.0], [9.0, 12.0], [21.0, 14.0], [10.0, 28.0], [10.0, 98.0], [10.0, 219.0], [10.0, 216.0], [10.0, 197.0], [10.0, 295.0], [10.0, 336.0], [10.0, 378.0], [39.0, 190.0], [39.0, 195.0], [39.0, 196.0], [39.0, 121.0], [39.0, 73.0], [39.0, 71.0], [39.0, 25.0], [39.0, 28.0], [41.0, 9.0], [20.0, 8.0], [39.0, 11.0], [39.0, 17.0], [39.0, 23.0], [10.0, 72.0], [10.0, 242.0], [10.0, 468.0], [10.0, 555.0], [10.0, 169.0], [10.0, 25.0], [10.0, 224.0], [10.0, 234.0], [10.0, 245.0], [10.0, 224.0], [39.0, 164.0], [39.0, 173.0], [39.0, 124.0], [39.0, 110.0], [39.0, 71.0], [39.0, 38.0], [10.0, 146.0], [10.0, 271.0], [10.0, 317.0], [10.0, 269.0], [10.0, 293.0], [10.0, 99.0]]}, \"id\": \"el55140198179279704\", \"plugins\": [{\"type\": \"reset\"}, {\"type\": \"zoom\", \"button\": true, \"enabled\": false}, {\"type\": \"boxzoom\", \"button\": true, \"enabled\": false}]});\n",
              "   }(mpld3);\n",
              "}else if(typeof define === \"function\" && define.amd){\n",
              "   // require.js is available: use it to load d3/mpld3\n",
              "   require.config({paths: {d3: \"https://d3js.org/d3.v5\"}});\n",
              "   require([\"d3\"], function(d3){\n",
              "      window.d3 = d3;\n",
              "      mpld3_load_lib(\"https://mpld3.github.io/js/mpld3.v0.5.1.js\", function(){\n",
              "         \n",
              "         mpld3.draw_figure(\"fig_el551401981792797044719728692\", {\"width\": 432.0, \"height\": 288.0, \"axes\": [{\"bbox\": [0.125, 0.125, 0.775, 0.755], \"xlim\": [-2.0500000000000003, 43.05], \"ylim\": [-26.700000000000003, 582.7], \"xdomain\": [-2.0500000000000003, 43.05], \"ydomain\": [-26.700000000000003, 582.7], \"xscale\": \"linear\", \"yscale\": \"linear\", \"axes\": [{\"position\": \"bottom\", \"nticks\": 42, \"tickvalues\": null, \"tickformat_formatter\": \"\", \"tickformat\": null, \"scale\": \"linear\", \"fontsize\": 10.0, \"grid\": {\"gridOn\": false}, \"visible\": true}, {\"position\": \"left\", \"nticks\": 8, \"tickvalues\": null, \"tickformat_formatter\": \"\", \"tickformat\": null, \"scale\": \"linear\", \"fontsize\": 10.0, \"grid\": {\"gridOn\": false}, \"visible\": true}], \"axesbg\": \"#FFFFFF\", \"axesbgalpha\": null, \"zoomable\": true, \"id\": \"el55140197363588512\", \"lines\": [], \"paths\": [], \"markers\": [], \"texts\": [], \"collections\": [{\"offsets\": \"data01\", \"xindex\": 0, \"yindex\": 1, \"paths\": [[[[0.0, -0.5], [0.13260155, -0.5], [0.25978993539242673, -0.44731684579412084], [0.3535533905932738, -0.3535533905932738], [0.44731684579412084, -0.25978993539242673], [0.5, -0.13260155], [0.5, 0.0], [0.5, 0.13260155], [0.44731684579412084, 0.25978993539242673], [0.3535533905932738, 0.3535533905932738], [0.25978993539242673, 0.44731684579412084], [0.13260155, 0.5], [0.0, 0.5], [-0.13260155, 0.5], [-0.25978993539242673, 0.44731684579412084], [-0.3535533905932738, 0.3535533905932738], [-0.44731684579412084, 0.25978993539242673], [-0.5, 0.13260155], [-0.5, 0.0], [-0.5, -0.13260155], [-0.44731684579412084, -0.25978993539242673], [-0.3535533905932738, -0.3535533905932738], [-0.25978993539242673, -0.44731684579412084], [-0.13260155, -0.5], [0.0, -0.5]], [\"M\", \"C\", \"C\", \"C\", \"C\", \"C\", \"C\", \"C\", \"C\", \"Z\"]]], \"pathtransforms\": [[6.0, 0.0, 0.0, 6.0, 0.0, 0.0]], \"alphas\": [null], \"edgecolors\": [\"#1F77B4\"], \"facecolors\": [\"#1F77B4\"], \"edgewidths\": [1.0], \"offsetcoordinates\": \"data\", \"pathcoordinates\": \"display\", \"zorder\": 1, \"id\": \"el55140197351257648\"}], \"images\": [], \"sharex\": [], \"sharey\": []}], \"data\": {\"data01\": [[0.0, 3.0], [1.0, 3.0], [2.0, 4.0], [3.0, 2.0], [2.0, 2.0], [4.0, 3.0], [5.0, 1.0], [6.0, 2.0], [7.0, 4.0], [2.0, 2.0], [8.0, 3.0], [9.0, 6.0], [10.0, 8.0], [8.0, 9.0], [10.0, 10.0], [10.0, 11.0], [10.0, 11.0], [10.0, 13.0], [11.0, 5.0], [12.0, 7.0], [13.0, 5.0], [14.0, 5.0], [15.0, 4.0], [1.0, 4.0], [6.0, 3.0], [16.0, 2.0], [17.0, 2.0], [18.0, 2.0], [19.0, 1.0], [20.0, 3.0], [10.0, 4.0], [2.0, 5.0], [10.0, 12.0], [10.0, 12.0], [10.0, 9.0], [20.0, 1.0], [10.0, 6.0], [21.0, 11.0], [10.0, 7.0], [22.0, 6.0], [8.0, 5.0], [22.0, 11.0], [12.0, 5.0], [2.0, 6.0], [23.0, 4.0], [24.0, 4.0], [9.0, 5.0], [10.0, 11.0], [2.0, 9.0], [10.0, 6.0], [10.0, 11.0], [24.0, 2.0], [25.0, 1.0], [26.0, 4.0], [26.0, 5.0], [27.0, 1.0], [28.0, 1.0], [29.0, 1.0], [30.0, 2.0], [31.0, 2.0], [26.0, 4.0], [26.0, 7.0], [30.0, 4.0], [26.0, 2.0], [26.0, 4.0], [32.0, 4.0], [26.0, 6.0], [26.0, 4.0], [26.0, 3.0], [32.0, 2.0], [33.0, 10.0], [26.0, 7.0], [26.0, 13.0], [26.0, 4.0], [26.0, 5.0], [34.0, 2.0], [33.0, 2.0], [26.0, 2.0], [35.0, 1.0], [31.0, 2.0], [26.0, 3.0], [33.0, 2.0], [26.0, 8.0], [33.0, 5.0], [33.0, 2.0], [33.0, 10.0], [33.0, 7.0], [26.0, 7.0], [36.0, 4.0], [33.0, 5.0], [33.0, 6.0], [26.0, 5.0], [33.0, 5.0], [26.0, 2.0], [37.0, 4.0], [21.0, 2.0], [26.0, 6.0], [26.0, 6.0], [26.0, 6.0], [26.0, 3.0], [38.0, 1.0], [39.0, 34.0], [2.0, 30.0], [39.0, 21.0], [21.0, 17.0], [2.0, 11.0], [13.0, 10.0], [40.0, 12.0], [9.0, 6.0], [9.0, 12.0], [21.0, 14.0], [10.0, 28.0], [10.0, 98.0], [10.0, 219.0], [10.0, 216.0], [10.0, 197.0], [10.0, 295.0], [10.0, 336.0], [10.0, 378.0], [39.0, 190.0], [39.0, 195.0], [39.0, 196.0], [39.0, 121.0], [39.0, 73.0], [39.0, 71.0], [39.0, 25.0], [39.0, 28.0], [41.0, 9.0], [20.0, 8.0], [39.0, 11.0], [39.0, 17.0], [39.0, 23.0], [10.0, 72.0], [10.0, 242.0], [10.0, 468.0], [10.0, 555.0], [10.0, 169.0], [10.0, 25.0], [10.0, 224.0], [10.0, 234.0], [10.0, 245.0], [10.0, 224.0], [39.0, 164.0], [39.0, 173.0], [39.0, 124.0], [39.0, 110.0], [39.0, 71.0], [39.0, 38.0], [10.0, 146.0], [10.0, 271.0], [10.0, 317.0], [10.0, 269.0], [10.0, 293.0], [10.0, 99.0]]}, \"id\": \"el55140198179279704\", \"plugins\": [{\"type\": \"reset\"}, {\"type\": \"zoom\", \"button\": true, \"enabled\": false}, {\"type\": \"boxzoom\", \"button\": true, \"enabled\": false}]});\n",
              "      });\n",
              "    });\n",
              "}else{\n",
              "    // require.js not available: dynamically load d3 & mpld3\n",
              "    mpld3_load_lib(\"https://d3js.org/d3.v5.js\", function(){\n",
              "         mpld3_load_lib(\"https://mpld3.github.io/js/mpld3.v0.5.1.js\", function(){\n",
              "                 \n",
              "                 mpld3.draw_figure(\"fig_el551401981792797044719728692\", {\"width\": 432.0, \"height\": 288.0, \"axes\": [{\"bbox\": [0.125, 0.125, 0.775, 0.755], \"xlim\": [-2.0500000000000003, 43.05], \"ylim\": [-26.700000000000003, 582.7], \"xdomain\": [-2.0500000000000003, 43.05], \"ydomain\": [-26.700000000000003, 582.7], \"xscale\": \"linear\", \"yscale\": \"linear\", \"axes\": [{\"position\": \"bottom\", \"nticks\": 42, \"tickvalues\": null, \"tickformat_formatter\": \"\", \"tickformat\": null, \"scale\": \"linear\", \"fontsize\": 10.0, \"grid\": {\"gridOn\": false}, \"visible\": true}, {\"position\": \"left\", \"nticks\": 8, \"tickvalues\": null, \"tickformat_formatter\": \"\", \"tickformat\": null, \"scale\": \"linear\", \"fontsize\": 10.0, \"grid\": {\"gridOn\": false}, \"visible\": true}], \"axesbg\": \"#FFFFFF\", \"axesbgalpha\": null, \"zoomable\": true, \"id\": \"el55140197363588512\", \"lines\": [], \"paths\": [], \"markers\": [], \"texts\": [], \"collections\": [{\"offsets\": \"data01\", \"xindex\": 0, \"yindex\": 1, \"paths\": [[[[0.0, -0.5], [0.13260155, -0.5], [0.25978993539242673, -0.44731684579412084], [0.3535533905932738, -0.3535533905932738], [0.44731684579412084, -0.25978993539242673], [0.5, -0.13260155], [0.5, 0.0], [0.5, 0.13260155], [0.44731684579412084, 0.25978993539242673], [0.3535533905932738, 0.3535533905932738], [0.25978993539242673, 0.44731684579412084], [0.13260155, 0.5], [0.0, 0.5], [-0.13260155, 0.5], [-0.25978993539242673, 0.44731684579412084], [-0.3535533905932738, 0.3535533905932738], [-0.44731684579412084, 0.25978993539242673], [-0.5, 0.13260155], [-0.5, 0.0], [-0.5, -0.13260155], [-0.44731684579412084, -0.25978993539242673], [-0.3535533905932738, -0.3535533905932738], [-0.25978993539242673, -0.44731684579412084], [-0.13260155, -0.5], [0.0, -0.5]], [\"M\", \"C\", \"C\", \"C\", \"C\", \"C\", \"C\", \"C\", \"C\", \"Z\"]]], \"pathtransforms\": [[6.0, 0.0, 0.0, 6.0, 0.0, 0.0]], \"alphas\": [null], \"edgecolors\": [\"#1F77B4\"], \"facecolors\": [\"#1F77B4\"], \"edgewidths\": [1.0], \"offsetcoordinates\": \"data\", \"pathcoordinates\": \"display\", \"zorder\": 1, \"id\": \"el55140197351257648\"}], \"images\": [], \"sharex\": [], \"sharey\": []}], \"data\": {\"data01\": [[0.0, 3.0], [1.0, 3.0], [2.0, 4.0], [3.0, 2.0], [2.0, 2.0], [4.0, 3.0], [5.0, 1.0], [6.0, 2.0], [7.0, 4.0], [2.0, 2.0], [8.0, 3.0], [9.0, 6.0], [10.0, 8.0], [8.0, 9.0], [10.0, 10.0], [10.0, 11.0], [10.0, 11.0], [10.0, 13.0], [11.0, 5.0], [12.0, 7.0], [13.0, 5.0], [14.0, 5.0], [15.0, 4.0], [1.0, 4.0], [6.0, 3.0], [16.0, 2.0], [17.0, 2.0], [18.0, 2.0], [19.0, 1.0], [20.0, 3.0], [10.0, 4.0], [2.0, 5.0], [10.0, 12.0], [10.0, 12.0], [10.0, 9.0], [20.0, 1.0], [10.0, 6.0], [21.0, 11.0], [10.0, 7.0], [22.0, 6.0], [8.0, 5.0], [22.0, 11.0], [12.0, 5.0], [2.0, 6.0], [23.0, 4.0], [24.0, 4.0], [9.0, 5.0], [10.0, 11.0], [2.0, 9.0], [10.0, 6.0], [10.0, 11.0], [24.0, 2.0], [25.0, 1.0], [26.0, 4.0], [26.0, 5.0], [27.0, 1.0], [28.0, 1.0], [29.0, 1.0], [30.0, 2.0], [31.0, 2.0], [26.0, 4.0], [26.0, 7.0], [30.0, 4.0], [26.0, 2.0], [26.0, 4.0], [32.0, 4.0], [26.0, 6.0], [26.0, 4.0], [26.0, 3.0], [32.0, 2.0], [33.0, 10.0], [26.0, 7.0], [26.0, 13.0], [26.0, 4.0], [26.0, 5.0], [34.0, 2.0], [33.0, 2.0], [26.0, 2.0], [35.0, 1.0], [31.0, 2.0], [26.0, 3.0], [33.0, 2.0], [26.0, 8.0], [33.0, 5.0], [33.0, 2.0], [33.0, 10.0], [33.0, 7.0], [26.0, 7.0], [36.0, 4.0], [33.0, 5.0], [33.0, 6.0], [26.0, 5.0], [33.0, 5.0], [26.0, 2.0], [37.0, 4.0], [21.0, 2.0], [26.0, 6.0], [26.0, 6.0], [26.0, 6.0], [26.0, 3.0], [38.0, 1.0], [39.0, 34.0], [2.0, 30.0], [39.0, 21.0], [21.0, 17.0], [2.0, 11.0], [13.0, 10.0], [40.0, 12.0], [9.0, 6.0], [9.0, 12.0], [21.0, 14.0], [10.0, 28.0], [10.0, 98.0], [10.0, 219.0], [10.0, 216.0], [10.0, 197.0], [10.0, 295.0], [10.0, 336.0], [10.0, 378.0], [39.0, 190.0], [39.0, 195.0], [39.0, 196.0], [39.0, 121.0], [39.0, 73.0], [39.0, 71.0], [39.0, 25.0], [39.0, 28.0], [41.0, 9.0], [20.0, 8.0], [39.0, 11.0], [39.0, 17.0], [39.0, 23.0], [10.0, 72.0], [10.0, 242.0], [10.0, 468.0], [10.0, 555.0], [10.0, 169.0], [10.0, 25.0], [10.0, 224.0], [10.0, 234.0], [10.0, 245.0], [10.0, 224.0], [39.0, 164.0], [39.0, 173.0], [39.0, 124.0], [39.0, 110.0], [39.0, 71.0], [39.0, 38.0], [10.0, 146.0], [10.0, 271.0], [10.0, 317.0], [10.0, 269.0], [10.0, 293.0], [10.0, 99.0]]}, \"id\": \"el55140198179279704\", \"plugins\": [{\"type\": \"reset\"}, {\"type\": \"zoom\", \"button\": true, \"enabled\": false}, {\"type\": \"boxzoom\", \"button\": true, \"enabled\": false}]});\n",
              "            })\n",
              "         });\n",
              "}\n",
              "</script>"
            ],
            "text/plain": [
              "<Figure size 432x288 with 1 Axes>"
            ]
          },
          "metadata": {
            "tags": [],
            "needs_background": "light"
          }
        }
      ]
    },
    {
      "cell_type": "code",
      "metadata": {
        "colab": {
          "base_uri": "https://localhost:8080/",
          "height": 326
        },
        "id": "iAzkBkbH3_Xm",
        "outputId": "0cc49a07-0424-4ce1-9c43-371fdd4f5668"
      },
      "source": [
        "df2['each_count'].plot()"
      ],
      "execution_count": 37,
      "outputs": [
        {
          "output_type": "execute_result",
          "data": {
            "text/plain": [
              "<matplotlib.axes._subplots.AxesSubplot at 0x7f82415ec160>"
            ]
          },
          "metadata": {
            "tags": []
          },
          "execution_count": 37
        },
        {
          "output_type": "display_data",
          "data": {
            "image/png": "[encoded data removed]",
            "text/html": [
              "\n",
              "\n",
              "<style>\n",
              "\n",
              "</style>\n",
              "\n",
              "<div id=\"fig_el551401974191311207642986466\"></div>\n",
              "<script>\n",
              "function mpld3_load_lib(url, callback){\n",
              "  var s = document.createElement('script');\n",
              "  s.src = url;\n",
              "  s.async = true;\n",
              "  s.onreadystatechange = s.onload = callback;\n",
              "  s.onerror = function(){console.warn(\"failed to load library \" + url);};\n",
              "  document.getElementsByTagName(\"head\")[0].appendChild(s);\n",
              "}\n",
              "\n",
              "if(typeof(mpld3) !== \"undefined\" && mpld3._mpld3IsLoaded){\n",
              "   // already loaded: just create the figure\n",
              "   !function(mpld3){\n",
              "       \n",
              "       mpld3.draw_figure(\"fig_el551401974191311207642986466\", {\"width\": 432.0, \"height\": 288.0, \"axes\": [{\"bbox\": [0.125, 0.125, 0.775, 0.755], \"xlim\": [-7.65, 160.65], \"ylim\": [-26.700000000000003, 582.7], \"xdomain\": [-7.65, 160.65], \"ydomain\": [-26.700000000000003, 582.7], \"xscale\": \"linear\", \"yscale\": \"linear\", \"axes\": [{\"position\": \"bottom\", \"nticks\": 11, \"tickvalues\": [-20.0, 0.0, 20.0, 40.0, 60.0, 80.0, 100.0, 120.0, 140.0, 160.0, 180.0], \"tickformat_formatter\": \"fixed\", \"tickformat\": [\"(US, Sun Apr 05 14)\", \"(CA, Mon Apr 06 02)\", \"(CA, Sun Apr 05 01)\", \"(CA, Tue Apr 07 23)\", \"(MX, Mon Apr 06 12)\", \"(MX, Sun Apr 05 11)\", \"(MX, Wed Apr 08 20)\", \"(US, Sun Apr 05 00)\", \"(US, Tue Apr 07 21)\", \"\", \"\"], \"scale\": \"linear\", \"fontsize\": 10.0, \"grid\": {\"gridOn\": false}, \"visible\": true}, {\"position\": \"left\", \"nticks\": 8, \"tickvalues\": null, \"tickformat_formatter\": \"\", \"tickformat\": null, \"scale\": \"linear\", \"fontsize\": 10.0, \"grid\": {\"gridOn\": false}, \"visible\": true}], \"axesbg\": \"#FFFFFF\", \"axesbgalpha\": null, \"zoomable\": true, \"id\": \"el55140197419204960\", \"lines\": [{\"data\": \"data01\", \"xindex\": 0, \"yindex\": 1, \"coordinates\": \"data\", \"id\": \"el55140197365087648\", \"color\": \"#1F77B4\", \"linewidth\": 1.5, \"dasharray\": \"none\", \"alpha\": 1, \"zorder\": 2, \"drawstyle\": \"default\"}], \"paths\": [], \"markers\": [], \"texts\": [{\"text\": \"country_code,Day\", \"position\": [0.49999999999999994, -0.09657836644591611], \"coordinates\": \"axes\", \"h_anchor\": \"middle\", \"v_baseline\": \"hanging\", \"rotation\": -0.0, \"fontsize\": 10.0, \"color\": \"#000000\", \"alpha\": 1, \"zorder\": 3, \"id\": \"el55140197352166344\"}], \"collections\": [], \"images\": [], \"sharex\": [], \"sharey\": []}], \"data\": {\"data01\": [[0.0, 3.0], [1.0, 3.0], [2.0, 4.0], [3.0, 2.0], [4.0, 2.0], [5.0, 3.0], [6.0, 1.0], [7.0, 2.0], [8.0, 4.0], [9.0, 2.0], [10.0, 3.0], [11.0, 6.0], [12.0, 8.0], [13.0, 9.0], [14.0, 10.0], [15.0, 11.0], [16.0, 11.0], [17.0, 13.0], [18.0, 5.0], [19.0, 7.0], [20.0, 5.0], [21.0, 5.0], [22.0, 4.0], [23.0, 4.0], [24.0, 3.0], [25.0, 2.0], [26.0, 2.0], [27.0, 2.0], [28.0, 1.0], [29.0, 3.0], [30.0, 4.0], [31.0, 5.0], [32.0, 12.0], [33.0, 12.0], [34.0, 9.0], [35.0, 1.0], [36.0, 6.0], [37.0, 11.0], [38.0, 7.0], [39.0, 6.0], [40.0, 5.0], [41.0, 11.0], [42.0, 5.0], [43.0, 6.0], [44.0, 4.0], [45.0, 4.0], [46.0, 5.0], [47.0, 11.0], [48.0, 9.0], [49.0, 6.0], [50.0, 11.0], [51.0, 2.0], [52.0, 1.0], [53.0, 4.0], [54.0, 5.0], [55.0, 1.0], [56.0, 1.0], [57.0, 1.0], [58.0, 2.0], [59.0, 2.0], [60.0, 4.0], [61.0, 7.0], [62.0, 4.0], [63.0, 2.0], [64.0, 4.0], [65.0, 4.0], [66.0, 6.0], [67.0, 4.0], [68.0, 3.0], [69.0, 2.0], [70.0, 10.0], [71.0, 7.0], [72.0, 13.0], [73.0, 4.0], [74.0, 5.0], [75.0, 2.0], [76.0, 2.0], [77.0, 2.0], [78.0, 1.0], [79.0, 2.0], [80.0, 3.0], [81.0, 2.0], [82.0, 8.0], [83.0, 5.0], [84.0, 2.0], [85.0, 10.0], [86.0, 7.0], [87.0, 7.0], [88.0, 4.0], [89.0, 5.0], [90.0, 6.0], [91.0, 5.0], [92.0, 5.0], [93.0, 2.0], [94.0, 4.0], [95.0, 2.0], [96.0, 6.0], [97.0, 6.0], [98.0, 6.0], [99.0, 3.0], [100.0, 1.0], [101.0, 34.0], [102.0, 30.0], [103.0, 21.0], [104.0, 17.0], [105.0, 11.0], [106.0, 10.0], [107.0, 12.0], [108.0, 6.0], [109.0, 12.0], [110.0, 14.0], [111.0, 28.0], [112.0, 98.0], [113.0, 219.0], [114.0, 216.0], [115.0, 197.0], [116.0, 295.0], [117.0, 336.0], [118.0, 378.0], [119.0, 190.0], [120.0, 195.0], [121.0, 196.0], [122.0, 121.0], [123.0, 73.0], [124.0, 71.0], [125.0, 25.0], [126.0, 28.0], [127.0, 9.0], [128.0, 8.0], [129.0, 11.0], [130.0, 17.0], [131.0, 23.0], [132.0, 72.0], [133.0, 242.0], [134.0, 468.0], [135.0, 555.0], [136.0, 169.0], [137.0, 25.0], [138.0, 224.0], [139.0, 234.0], [140.0, 245.0], [141.0, 224.0], [142.0, 164.0], [143.0, 173.0], [144.0, 124.0], [145.0, 110.0], [146.0, 71.0], [147.0, 38.0], [148.0, 146.0], [149.0, 271.0], [150.0, 317.0], [151.0, 269.0], [152.0, 293.0], [153.0, 99.0]]}, \"id\": \"el55140197419131120\", \"plugins\": [{\"type\": \"reset\"}, {\"type\": \"zoom\", \"button\": true, \"enabled\": false}, {\"type\": \"boxzoom\", \"button\": true, \"enabled\": false}]});\n",
              "   }(mpld3);\n",
              "}else if(typeof define === \"function\" && define.amd){\n",
              "   // require.js is available: use it to load d3/mpld3\n",
              "   require.config({paths: {d3: \"https://d3js.org/d3.v5\"}});\n",
              "   require([\"d3\"], function(d3){\n",
              "      window.d3 = d3;\n",
              "      mpld3_load_lib(\"https://mpld3.github.io/js/mpld3.v0.5.1.js\", function(){\n",
              "         \n",
              "         mpld3.draw_figure(\"fig_el551401974191311207642986466\", {\"width\": 432.0, \"height\": 288.0, \"axes\": [{\"bbox\": [0.125, 0.125, 0.775, 0.755], \"xlim\": [-7.65, 160.65], \"ylim\": [-26.700000000000003, 582.7], \"xdomain\": [-7.65, 160.65], \"ydomain\": [-26.700000000000003, 582.7], \"xscale\": \"linear\", \"yscale\": \"linear\", \"axes\": [{\"position\": \"bottom\", \"nticks\": 11, \"tickvalues\": [-20.0, 0.0, 20.0, 40.0, 60.0, 80.0, 100.0, 120.0, 140.0, 160.0, 180.0], \"tickformat_formatter\": \"fixed\", \"tickformat\": [\"(US, Sun Apr 05 14)\", \"(CA, Mon Apr 06 02)\", \"(CA, Sun Apr 05 01)\", \"(CA, Tue Apr 07 23)\", \"(MX, Mon Apr 06 12)\", \"(MX, Sun Apr 05 11)\", \"(MX, Wed Apr 08 20)\", \"(US, Sun Apr 05 00)\", \"(US, Tue Apr 07 21)\", \"\", \"\"], \"scale\": \"linear\", \"fontsize\": 10.0, \"grid\": {\"gridOn\": false}, \"visible\": true}, {\"position\": \"left\", \"nticks\": 8, \"tickvalues\": null, \"tickformat_formatter\": \"\", \"tickformat\": null, \"scale\": \"linear\", \"fontsize\": 10.0, \"grid\": {\"gridOn\": false}, \"visible\": true}], \"axesbg\": \"#FFFFFF\", \"axesbgalpha\": null, \"zoomable\": true, \"id\": \"el55140197419204960\", \"lines\": [{\"data\": \"data01\", \"xindex\": 0, \"yindex\": 1, \"coordinates\": \"data\", \"id\": \"el55140197365087648\", \"color\": \"#1F77B4\", \"linewidth\": 1.5, \"dasharray\": \"none\", \"alpha\": 1, \"zorder\": 2, \"drawstyle\": \"default\"}], \"paths\": [], \"markers\": [], \"texts\": [{\"text\": \"country_code,Day\", \"position\": [0.49999999999999994, -0.09657836644591611], \"coordinates\": \"axes\", \"h_anchor\": \"middle\", \"v_baseline\": \"hanging\", \"rotation\": -0.0, \"fontsize\": 10.0, \"color\": \"#000000\", \"alpha\": 1, \"zorder\": 3, \"id\": \"el55140197352166344\"}], \"collections\": [], \"images\": [], \"sharex\": [], \"sharey\": []}], \"data\": {\"data01\": [[0.0, 3.0], [1.0, 3.0], [2.0, 4.0], [3.0, 2.0], [4.0, 2.0], [5.0, 3.0], [6.0, 1.0], [7.0, 2.0], [8.0, 4.0], [9.0, 2.0], [10.0, 3.0], [11.0, 6.0], [12.0, 8.0], [13.0, 9.0], [14.0, 10.0], [15.0, 11.0], [16.0, 11.0], [17.0, 13.0], [18.0, 5.0], [19.0, 7.0], [20.0, 5.0], [21.0, 5.0], [22.0, 4.0], [23.0, 4.0], [24.0, 3.0], [25.0, 2.0], [26.0, 2.0], [27.0, 2.0], [28.0, 1.0], [29.0, 3.0], [30.0, 4.0], [31.0, 5.0], [32.0, 12.0], [33.0, 12.0], [34.0, 9.0], [35.0, 1.0], [36.0, 6.0], [37.0, 11.0], [38.0, 7.0], [39.0, 6.0], [40.0, 5.0], [41.0, 11.0], [42.0, 5.0], [43.0, 6.0], [44.0, 4.0], [45.0, 4.0], [46.0, 5.0], [47.0, 11.0], [48.0, 9.0], [49.0, 6.0], [50.0, 11.0], [51.0, 2.0], [52.0, 1.0], [53.0, 4.0], [54.0, 5.0], [55.0, 1.0], [56.0, 1.0], [57.0, 1.0], [58.0, 2.0], [59.0, 2.0], [60.0, 4.0], [61.0, 7.0], [62.0, 4.0], [63.0, 2.0], [64.0, 4.0], [65.0, 4.0], [66.0, 6.0], [67.0, 4.0], [68.0, 3.0], [69.0, 2.0], [70.0, 10.0], [71.0, 7.0], [72.0, 13.0], [73.0, 4.0], [74.0, 5.0], [75.0, 2.0], [76.0, 2.0], [77.0, 2.0], [78.0, 1.0], [79.0, 2.0], [80.0, 3.0], [81.0, 2.0], [82.0, 8.0], [83.0, 5.0], [84.0, 2.0], [85.0, 10.0], [86.0, 7.0], [87.0, 7.0], [88.0, 4.0], [89.0, 5.0], [90.0, 6.0], [91.0, 5.0], [92.0, 5.0], [93.0, 2.0], [94.0, 4.0], [95.0, 2.0], [96.0, 6.0], [97.0, 6.0], [98.0, 6.0], [99.0, 3.0], [100.0, 1.0], [101.0, 34.0], [102.0, 30.0], [103.0, 21.0], [104.0, 17.0], [105.0, 11.0], [106.0, 10.0], [107.0, 12.0], [108.0, 6.0], [109.0, 12.0], [110.0, 14.0], [111.0, 28.0], [112.0, 98.0], [113.0, 219.0], [114.0, 216.0], [115.0, 197.0], [116.0, 295.0], [117.0, 336.0], [118.0, 378.0], [119.0, 190.0], [120.0, 195.0], [121.0, 196.0], [122.0, 121.0], [123.0, 73.0], [124.0, 71.0], [125.0, 25.0], [126.0, 28.0], [127.0, 9.0], [128.0, 8.0], [129.0, 11.0], [130.0, 17.0], [131.0, 23.0], [132.0, 72.0], [133.0, 242.0], [134.0, 468.0], [135.0, 555.0], [136.0, 169.0], [137.0, 25.0], [138.0, 224.0], [139.0, 234.0], [140.0, 245.0], [141.0, 224.0], [142.0, 164.0], [143.0, 173.0], [144.0, 124.0], [145.0, 110.0], [146.0, 71.0], [147.0, 38.0], [148.0, 146.0], [149.0, 271.0], [150.0, 317.0], [151.0, 269.0], [152.0, 293.0], [153.0, 99.0]]}, \"id\": \"el55140197419131120\", \"plugins\": [{\"type\": \"reset\"}, {\"type\": \"zoom\", \"button\": true, \"enabled\": false}, {\"type\": \"boxzoom\", \"button\": true, \"enabled\": false}]});\n",
              "      });\n",
              "    });\n",
              "}else{\n",
              "    // require.js not available: dynamically load d3 & mpld3\n",
              "    mpld3_load_lib(\"https://d3js.org/d3.v5.js\", function(){\n",
              "         mpld3_load_lib(\"https://mpld3.github.io/js/mpld3.v0.5.1.js\", function(){\n",
              "                 \n",
              "                 mpld3.draw_figure(\"fig_el551401974191311207642986466\", {\"width\": 432.0, \"height\": 288.0, \"axes\": [{\"bbox\": [0.125, 0.125, 0.775, 0.755], \"xlim\": [-7.65, 160.65], \"ylim\": [-26.700000000000003, 582.7], \"xdomain\": [-7.65, 160.65], \"ydomain\": [-26.700000000000003, 582.7], \"xscale\": \"linear\", \"yscale\": \"linear\", \"axes\": [{\"position\": \"bottom\", \"nticks\": 11, \"tickvalues\": [-20.0, 0.0, 20.0, 40.0, 60.0, 80.0, 100.0, 120.0, 140.0, 160.0, 180.0], \"tickformat_formatter\": \"fixed\", \"tickformat\": [\"(US, Sun Apr 05 14)\", \"(CA, Mon Apr 06 02)\", \"(CA, Sun Apr 05 01)\", \"(CA, Tue Apr 07 23)\", \"(MX, Mon Apr 06 12)\", \"(MX, Sun Apr 05 11)\", \"(MX, Wed Apr 08 20)\", \"(US, Sun Apr 05 00)\", \"(US, Tue Apr 07 21)\", \"\", \"\"], \"scale\": \"linear\", \"fontsize\": 10.0, \"grid\": {\"gridOn\": false}, \"visible\": true}, {\"position\": \"left\", \"nticks\": 8, \"tickvalues\": null, \"tickformat_formatter\": \"\", \"tickformat\": null, \"scale\": \"linear\", \"fontsize\": 10.0, \"grid\": {\"gridOn\": false}, \"visible\": true}], \"axesbg\": \"#FFFFFF\", \"axesbgalpha\": null, \"zoomable\": true, \"id\": \"el55140197419204960\", \"lines\": [{\"data\": \"data01\", \"xindex\": 0, \"yindex\": 1, \"coordinates\": \"data\", \"id\": \"el55140197365087648\", \"color\": \"#1F77B4\", \"linewidth\": 1.5, \"dasharray\": \"none\", \"alpha\": 1, \"zorder\": 2, \"drawstyle\": \"default\"}], \"paths\": [], \"markers\": [], \"texts\": [{\"text\": \"country_code,Day\", \"position\": [0.49999999999999994, -0.09657836644591611], \"coordinates\": \"axes\", \"h_anchor\": \"middle\", \"v_baseline\": \"hanging\", \"rotation\": -0.0, \"fontsize\": 10.0, \"color\": \"#000000\", \"alpha\": 1, \"zorder\": 3, \"id\": \"el55140197352166344\"}], \"collections\": [], \"images\": [], \"sharex\": [], \"sharey\": []}], \"data\": {\"data01\": [[0.0, 3.0], [1.0, 3.0], [2.0, 4.0], [3.0, 2.0], [4.0, 2.0], [5.0, 3.0], [6.0, 1.0], [7.0, 2.0], [8.0, 4.0], [9.0, 2.0], [10.0, 3.0], [11.0, 6.0], [12.0, 8.0], [13.0, 9.0], [14.0, 10.0], [15.0, 11.0], [16.0, 11.0], [17.0, 13.0], [18.0, 5.0], [19.0, 7.0], [20.0, 5.0], [21.0, 5.0], [22.0, 4.0], [23.0, 4.0], [24.0, 3.0], [25.0, 2.0], [26.0, 2.0], [27.0, 2.0], [28.0, 1.0], [29.0, 3.0], [30.0, 4.0], [31.0, 5.0], [32.0, 12.0], [33.0, 12.0], [34.0, 9.0], [35.0, 1.0], [36.0, 6.0], [37.0, 11.0], [38.0, 7.0], [39.0, 6.0], [40.0, 5.0], [41.0, 11.0], [42.0, 5.0], [43.0, 6.0], [44.0, 4.0], [45.0, 4.0], [46.0, 5.0], [47.0, 11.0], [48.0, 9.0], [49.0, 6.0], [50.0, 11.0], [51.0, 2.0], [52.0, 1.0], [53.0, 4.0], [54.0, 5.0], [55.0, 1.0], [56.0, 1.0], [57.0, 1.0], [58.0, 2.0], [59.0, 2.0], [60.0, 4.0], [61.0, 7.0], [62.0, 4.0], [63.0, 2.0], [64.0, 4.0], [65.0, 4.0], [66.0, 6.0], [67.0, 4.0], [68.0, 3.0], [69.0, 2.0], [70.0, 10.0], [71.0, 7.0], [72.0, 13.0], [73.0, 4.0], [74.0, 5.0], [75.0, 2.0], [76.0, 2.0], [77.0, 2.0], [78.0, 1.0], [79.0, 2.0], [80.0, 3.0], [81.0, 2.0], [82.0, 8.0], [83.0, 5.0], [84.0, 2.0], [85.0, 10.0], [86.0, 7.0], [87.0, 7.0], [88.0, 4.0], [89.0, 5.0], [90.0, 6.0], [91.0, 5.0], [92.0, 5.0], [93.0, 2.0], [94.0, 4.0], [95.0, 2.0], [96.0, 6.0], [97.0, 6.0], [98.0, 6.0], [99.0, 3.0], [100.0, 1.0], [101.0, 34.0], [102.0, 30.0], [103.0, 21.0], [104.0, 17.0], [105.0, 11.0], [106.0, 10.0], [107.0, 12.0], [108.0, 6.0], [109.0, 12.0], [110.0, 14.0], [111.0, 28.0], [112.0, 98.0], [113.0, 219.0], [114.0, 216.0], [115.0, 197.0], [116.0, 295.0], [117.0, 336.0], [118.0, 378.0], [119.0, 190.0], [120.0, 195.0], [121.0, 196.0], [122.0, 121.0], [123.0, 73.0], [124.0, 71.0], [125.0, 25.0], [126.0, 28.0], [127.0, 9.0], [128.0, 8.0], [129.0, 11.0], [130.0, 17.0], [131.0, 23.0], [132.0, 72.0], [133.0, 242.0], [134.0, 468.0], [135.0, 555.0], [136.0, 169.0], [137.0, 25.0], [138.0, 224.0], [139.0, 234.0], [140.0, 245.0], [141.0, 224.0], [142.0, 164.0], [143.0, 173.0], [144.0, 124.0], [145.0, 110.0], [146.0, 71.0], [147.0, 38.0], [148.0, 146.0], [149.0, 271.0], [150.0, 317.0], [151.0, 269.0], [152.0, 293.0], [153.0, 99.0]]}, \"id\": \"el55140197419131120\", \"plugins\": [{\"type\": \"reset\"}, {\"type\": \"zoom\", \"button\": true, \"enabled\": false}, {\"type\": \"boxzoom\", \"button\": true, \"enabled\": false}]});\n",
              "            })\n",
              "         });\n",
              "}\n",
              "</script>"
            ],
            "text/plain": [
              "<Figure size 432x288 with 1 Axes>"
            ]
          },
          "metadata": {
            "tags": [],
            "needs_background": "light"
          }
        }
      ]
    },
    {
      "cell_type": "code",
      "metadata": {
        "colab": {
          "base_uri": "https://localhost:8080/",
          "height": 1000
        },
        "id": "siPdkqZgI6ED",
        "outputId": "9b55e2dd-8c45-4617-f46a-0db4c8ada3e9"
      },
      "source": [
        "df2.head(5)"
      ],
      "execution_count": 38,
      "outputs": [
        {
          "output_type": "execute_result",
          "data": {
            "text/html": [
              "<div>\n",
              "<style scoped>\n",
              "    .dataframe tbody tr th:only-of-type {\n",
              "        vertical-align: middle;\n",
              "    }\n",
              "\n",
              "    .dataframe tbody tr th {\n",
              "        vertical-align: top;\n",
              "    }\n",
              "\n",
              "    .dataframe thead th {\n",
              "        text-align: right;\n",
              "    }\n",
              "</style>\n",
              "<table border=\"1\" class=\"dataframe\">\n",
              "  <thead>\n",
              "    <tr style=\"text-align: right;\">\n",
              "      <th></th>\n",
              "      <th></th>\n",
              "      <th>text</th>\n",
              "      <th>created_at</th>\n",
              "      <th>Proper_text</th>\n",
              "      <th>max_word</th>\n",
              "      <th>each_word</th>\n",
              "      <th>each_count</th>\n",
              "    </tr>\n",
              "    <tr>\n",
              "      <th>country_code</th>\n",
              "      <th>Day</th>\n",
              "      <th></th>\n",
              "      <th></th>\n",
              "      <th></th>\n",
              "      <th></th>\n",
              "      <th></th>\n",
              "      <th></th>\n",
              "    </tr>\n",
              "  </thead>\n",
              "  <tbody>\n",
              "    <tr>\n",
              "      <th rowspan=\"5\" valign=\"top\">CA</th>\n",
              "      <th>Mon Apr 06 02</th>\n",
              "      <td>@stroughtonsmith Great job steve!No food makes me as happy as rice does! Naturally, been wanting to make cooking Dum Biryani, and when I stumbled up… https://t.co/mZwuoBAz6b🌙 #nightnight #linashek...</td>\n",
              "      <td>Mon Apr 06 02:58:54 +0000 2020Mon Apr 06 02:56:16 +0000 2020Mon Apr 06 02:52:32 +0000 2020Mon Apr 06 02:51:47 +0000 2020Mon Apr 06 02:46:20 +0000 2020Mon Apr 06 02:45:56 +0000 2020Mon Apr 06 02:44...</td>\n",
              "      <td>stroughtonsmith Great job steveNo food makes happy rice Naturally wanting make cooking Dum Biryani stumblednightnight linashek stayhome Toronto Ontariobees With COVD situation full effect taking p...</td>\n",
              "      <td>[(get, 3)]</td>\n",
              "      <td>get</td>\n",
              "      <td>3</td>\n",
              "    </tr>\n",
              "    <tr>\n",
              "      <th>Mon Apr 06 03</th>\n",
              "      <td>Made waffles for y'all. Who wants them? Two waffles per bag. Primarily for the kids though (and not adultish age ki… https://t.co/00b8za95ieThe countdown to the kid’s bedtime is on!! 🙌🏻 In just a ...</td>\n",
              "      <td>Mon Apr 06 03:58:33 +0000 2020Mon Apr 06 03:53:27 +0000 2020Mon Apr 06 03:52:10 +0000 2020Mon Apr 06 03:51:05 +0000 2020Mon Apr 06 03:51:00 +0000 2020Mon Apr 06 03:48:32 +0000 2020Mon Apr 06 03:44...</td>\n",
              "      <td>Made waffles Who wants Two waffles per bag Primarily kids though adultish age kiThe countdown kid bedtime n minutes free snack making amp lookingThank shopping us find HARBYLAWLAR etsy tap pre ord...</td>\n",
              "      <td>[(amp, 3)]</td>\n",
              "      <td>amp</td>\n",
              "      <td>3</td>\n",
              "    </tr>\n",
              "    <tr>\n",
              "      <th>Mon Apr 06 04</th>\n",
              "      <td>#betterbiggerbusier @soojandra @century21canada @Reachbandleader join us live April 6 at 1:00pm to be inspired and… https://t.co/adxeDa1hsSWork isn't the only thing I brought home with me... :-) @...</td>\n",
              "      <td>Mon Apr 06 04:56:45 +0000 2020Mon Apr 06 04:55:16 +0000 2020Mon Apr 06 04:52:49 +0000 2020Mon Apr 06 04:49:51 +0000 2020Mon Apr 06 04:45:35 +0000 2020Mon Apr 06 04:43:10 +0000 2020Mon Apr 06 04:40...</td>\n",
              "      <td>betterbiggerbusier soojandra century canada Reachbandleader join us live April pm inspiredWork thing brought home Lethbridge AlbertaAn update Sylvan Food Bank peoplehelpingpeople inittogether thes...</td>\n",
              "      <td>[(home, 4)]</td>\n",
              "      <td>home</td>\n",
              "      <td>4</td>\n",
              "    </tr>\n",
              "    <tr>\n",
              "      <th>Mon Apr 06 05</th>\n",
              "      <td>This weekend was so much better than the others. We seem to have slowed down enough to just enjoy being home. We ma… https://t.co/1J3fM4lSACFirst thing I’m doing when we are cleared to go back out...</td>\n",
              "      <td>Mon Apr 06 05:38:01 +0000 2020Mon Apr 06 05:30:39 +0000 2020Mon Apr 06 05:30:23 +0000 2020Mon Apr 06 05:30:02 +0000 2020Mon Apr 06 05:29:02 +0000 2020Mon Apr 06 05:26:47 +0000 2020Mon Apr 06 05:19...</td>\n",
              "      <td>This weekend much better others We seem slowed enough enjoy home WeFirst thing cleared go back hosting sick car cruise seatosky highway cruiseLiterally procrastinating school work days continuousl...</td>\n",
              "      <td>[(car, 2)]</td>\n",
              "      <td>car</td>\n",
              "      <td>2</td>\n",
              "    </tr>\n",
              "    <tr>\n",
              "      <th>Mon Apr 06 06</th>\n",
              "      <td>What NOT to do in a pandemic...\\nCover your mouth, Eddie, jeeze!\\n#venom #eddiebrock #marvel #monster #teeth #tongue… https://t.co/BQpdFqiyv9Stay home!🏡Stay safe!😷Save a life!💕 Flatten the curve!⚠...</td>\n",
              "      <td>Mon Apr 06 06:55:56 +0000 2020Mon Apr 06 06:51:51 +0000 2020Mon Apr 06 06:28:42 +0000 2020Mon Apr 06 06:23:49 +0000 2020Mon Apr 06 06:08:00 +0000 2020Mon Apr 06 06:05:50 +0000 2020</td>\n",
              "      <td>What NOT pandemic Cover mouth Eddie jeeze venom eddiebrock marvel monster teeth tongueStay home Stay safe Save life Flatten curve Covid Day home safe blessed thankful ReginThere toilet paper short...</td>\n",
              "      <td>[(home, 2)]</td>\n",
              "      <td>home</td>\n",
              "      <td>2</td>\n",
              "    </tr>\n",
              "  </tbody>\n",
              "</table>\n",
              "</div>"
            ],
            "text/plain": [
              "                                                                                                                                                                                                                               text  ... each_count\n",
              "country_code Day                                                                                                                                                                                                                     ...           \n",
              "CA           Mon Apr 06 02  @stroughtonsmith Great job steve!No food makes me as happy as rice does! Naturally, been wanting to make cooking Dum Biryani, and when I stumbled up… https://t.co/mZwuoBAz6b🌙 #nightnight #linashek...  ...          3\n",
              "             Mon Apr 06 03  Made waffles for y'all. Who wants them? Two waffles per bag. Primarily for the kids though (and not adultish age ki… https://t.co/00b8za95ieThe countdown to the kid’s bedtime is on!! 🙌🏻 In just a ...  ...          3\n",
              "             Mon Apr 06 04  #betterbiggerbusier @soojandra @century21canada @Reachbandleader join us live April 6 at 1:00pm to be inspired and… https://t.co/adxeDa1hsSWork isn't the only thing I brought home with me... :-) @...  ...          4\n",
              "             Mon Apr 06 05  This weekend was so much better than the others. We seem to have slowed down enough to just enjoy being home. We ma… https://t.co/1J3fM4lSACFirst thing I’m doing when we are cleared to go back out...  ...          2\n",
              "             Mon Apr 06 06  What NOT to do in a pandemic...\\nCover your mouth, Eddie, jeeze!\\n#venom #eddiebrock #marvel #monster #teeth #tongue… https://t.co/BQpdFqiyv9Stay home!🏡Stay safe!😷Save a life!💕 Flatten the curve!⚠...  ...          2\n",
              "\n",
              "[5 rows x 6 columns]"
            ]
          },
          "metadata": {
            "tags": []
          },
          "execution_count": 38
        }
      ]
    },
    {
      "cell_type": "code",
      "metadata": {
        "colab": {
          "base_uri": "https://localhost:8080/"
        },
        "id": "08ptGqKXI7nh",
        "outputId": "222685ab-09fe-401b-8b64-eed58724252d"
      },
      "source": [
        "df2.size"
      ],
      "execution_count": 39,
      "outputs": [
        {
          "output_type": "execute_result",
          "data": {
            "text/plain": [
              "924"
            ]
          },
          "metadata": {
            "tags": []
          },
          "execution_count": 39
        }
      ]
    },
    {
      "cell_type": "code",
      "metadata": {
        "colab": {
          "base_uri": "https://localhost:8080/",
          "height": 394
        },
        "id": "-JcTv-je9dph",
        "outputId": "78442079-8870-4774-d006-d7c1417306f3"
      },
      "source": [
        "#df2.groupby(['country_code']).plot()\n",
        "df2.groupby('country_code')['each_count'].plot(legend=True)\n",
        "#plt.axes().set_xticklabels(df2['created_at'].str[0:13])"
      ],
      "execution_count": 40,
      "outputs": [
        {
          "output_type": "execute_result",
          "data": {
            "text/plain": [
              "country_code\n",
              "CA    AxesSubplot(0.125,0.125;0.775x0.755)\n",
              "MX    AxesSubplot(0.125,0.125;0.775x0.755)\n",
              "US    AxesSubplot(0.125,0.125;0.775x0.755)\n",
              "Name: each_count, dtype: object"
            ]
          },
          "metadata": {
            "tags": []
          },
          "execution_count": 40
        },
        {
          "output_type": "display_data",
          "data": {
            "image/png": "[encoded data removed]",
            "text/html": [
              "\n",
              "\n",
              "<style>\n",
              "\n",
              "</style>\n",
              "\n",
              "<div id=\"fig_el551401974009970001184397027\"></div>\n",
              "<script>\n",
              "function mpld3_load_lib(url, callback){\n",
              "  var s = document.createElement('script');\n",
              "  s.src = url;\n",
              "  s.async = true;\n",
              "  s.onreadystatechange = s.onload = callback;\n",
              "  s.onerror = function(){console.warn(\"failed to load library \" + url);};\n",
              "  document.getElementsByTagName(\"head\")[0].appendChild(s);\n",
              "}\n",
              "\n",
              "if(typeof(mpld3) !== \"undefined\" && mpld3._mpld3IsLoaded){\n",
              "   // already loaded: just create the figure\n",
              "   !function(mpld3){\n",
              "       \n",
              "       mpld3.draw_figure(\"fig_el551401974009970001184397027\", {\"width\": 432.0, \"height\": 288.0, \"axes\": [{\"bbox\": [0.125, 0.125, 0.775, 0.755], \"xlim\": [-2.6, 54.6], \"ylim\": [-26.700000000000003, 582.7], \"xdomain\": [-2.6, 54.6], \"ydomain\": [-26.700000000000003, 582.7], \"xscale\": \"linear\", \"yscale\": \"linear\", \"axes\": [{\"position\": \"bottom\", \"nticks\": 8, \"tickvalues\": [-10.0, 0.0, 10.0, 20.0, 30.0, 40.0, 50.0, 60.0], \"tickformat_formatter\": \"fixed\", \"tickformat\": [\"(US, Wed Apr 08 01)\", \"(US, Mon Apr 06 02)\", \"(US, Mon Apr 06 12)\", \"(US, Sun Apr 05 01)\", \"(US, Sun Apr 05 11)\", \"(US, Tue Apr 07 22)\", \"(US, Wed Apr 08 18)\", \"\"], \"scale\": \"linear\", \"fontsize\": 10.0, \"grid\": {\"gridOn\": false}, \"visible\": true}, {\"position\": \"left\", \"nticks\": 8, \"tickvalues\": null, \"tickformat_formatter\": \"\", \"tickformat\": null, \"scale\": \"linear\", \"fontsize\": 10.0, \"grid\": {\"gridOn\": false}, \"visible\": true}], \"axesbg\": \"#FFFFFF\", \"axesbgalpha\": null, \"zoomable\": true, \"id\": \"el55140197400930400\", \"lines\": [{\"data\": \"data01\", \"xindex\": 0, \"yindex\": 1, \"coordinates\": \"data\", \"id\": \"el55140197401508160\", \"color\": \"#1F77B4\", \"linewidth\": 1.5, \"dasharray\": \"none\", \"alpha\": 1, \"zorder\": 2, \"drawstyle\": \"default\"}, {\"data\": \"data02\", \"xindex\": 0, \"yindex\": 1, \"coordinates\": \"data\", \"id\": \"el55140197401385392\", \"color\": \"#FF7F0E\", \"linewidth\": 1.5, \"dasharray\": \"none\", \"alpha\": 1, \"zorder\": 2, \"drawstyle\": \"default\"}, {\"data\": \"data03\", \"xindex\": 0, \"yindex\": 1, \"coordinates\": \"data\", \"id\": \"el55140197401353688\", \"color\": \"#2CA02C\", \"linewidth\": 1.5, \"dasharray\": \"none\", \"alpha\": 1, \"zorder\": 2, \"drawstyle\": \"default\"}, {\"data\": \"data04\", \"xindex\": 0, \"yindex\": 1, \"coordinates\": \"axes\", \"id\": \"el55140197415064912\", \"color\": \"#1F77B4\", \"linewidth\": 1.5, \"dasharray\": \"none\", \"alpha\": 1, \"zorder\": 1000002.0, \"drawstyle\": \"default\"}, {\"data\": \"data04\", \"xindex\": 0, \"yindex\": 2, \"coordinates\": \"axes\", \"id\": \"el55140197401351336\", \"color\": \"#FF7F0E\", \"linewidth\": 1.5, \"dasharray\": \"none\", \"alpha\": 1, \"zorder\": 1000002.0, \"drawstyle\": \"default\"}, {\"data\": \"data04\", \"xindex\": 0, \"yindex\": 3, \"coordinates\": \"axes\", \"id\": \"el55140197415065864\", \"color\": \"#2CA02C\", \"linewidth\": 1.5, \"dasharray\": \"none\", \"alpha\": 1, \"zorder\": 1000002.0, \"drawstyle\": \"default\"}], \"paths\": [{\"data\": \"data05\", \"xindex\": 0, \"yindex\": 1, \"coordinates\": \"axes\", \"pathcodes\": [\"M\", \"L\", \"S\", \"L\", \"S\", \"L\", \"S\", \"L\", \"S\", \"Z\"], \"id\": \"el55140197401352400\", \"dasharray\": \"none\", \"alpha\": 0.8, \"facecolor\": \"rgba(255, 255, 255, 0.8)\", \"edgecolor\": \"rgba(204, 204, 204, 0.8)\", \"edgewidth\": 1.0, \"zorder\": 1000000.0}], \"markers\": [], \"texts\": [{\"text\": \"country_code,Day\", \"position\": [0.49999999999999994, -0.09657836644591611], \"coordinates\": \"axes\", \"h_anchor\": \"middle\", \"v_baseline\": \"hanging\", \"rotation\": -0.0, \"fontsize\": 10.0, \"color\": \"#000000\", \"alpha\": 1, \"zorder\": 3, \"id\": \"el55140197400932192\"}, {\"text\": \"CA\", \"position\": [0.9268219832735961, 0.9218175128771156], \"coordinates\": \"axes\", \"h_anchor\": \"start\", \"v_baseline\": \"auto\", \"rotation\": -0.0, \"fontsize\": 10.0, \"color\": \"#000000\", \"alpha\": 1, \"zorder\": 1000003.0, \"id\": \"el55140197415064184\"}, {\"text\": \"MX\", \"position\": [0.9268219832735961, 0.8528329654157469], \"coordinates\": \"axes\", \"h_anchor\": \"start\", \"v_baseline\": \"auto\", \"rotation\": -0.0, \"fontsize\": 10.0, \"color\": \"#000000\", \"alpha\": 1, \"zorder\": 1000003.0, \"id\": \"el55140197415065584\"}, {\"text\": \"US\", \"position\": [0.9268219832735961, 0.7838484179543782], \"coordinates\": \"axes\", \"h_anchor\": \"start\", \"v_baseline\": \"auto\", \"rotation\": -0.0, \"fontsize\": 10.0, \"color\": \"#000000\", \"alpha\": 1, \"zorder\": 1000003.0, \"id\": \"el55140197401431904\"}], \"collections\": [], \"images\": [], \"sharex\": [], \"sharey\": []}], \"data\": {\"data01\": [[0.0, 3.0], [1.0, 3.0], [2.0, 4.0], [3.0, 2.0], [4.0, 2.0], [5.0, 3.0], [6.0, 1.0], [7.0, 2.0], [8.0, 4.0], [9.0, 2.0], [10.0, 3.0], [11.0, 6.0], [12.0, 8.0], [13.0, 9.0], [14.0, 10.0], [15.0, 11.0], [16.0, 11.0], [17.0, 13.0], [18.0, 5.0], [19.0, 7.0], [20.0, 5.0], [21.0, 5.0], [22.0, 4.0], [23.0, 4.0], [24.0, 3.0], [25.0, 2.0], [26.0, 2.0], [27.0, 2.0], [28.0, 1.0], [29.0, 3.0], [30.0, 4.0], [31.0, 5.0], [32.0, 12.0], [33.0, 12.0], [34.0, 9.0], [35.0, 1.0], [36.0, 6.0], [37.0, 11.0], [38.0, 7.0], [39.0, 6.0], [40.0, 5.0], [41.0, 11.0], [42.0, 5.0], [43.0, 6.0], [44.0, 4.0], [45.0, 4.0], [46.0, 5.0], [47.0, 11.0], [48.0, 9.0], [49.0, 6.0], [50.0, 11.0], [51.0, 2.0]], \"data02\": [[0.0, 1.0], [1.0, 4.0], [2.0, 5.0], [3.0, 1.0], [4.0, 1.0], [5.0, 1.0], [6.0, 2.0], [7.0, 2.0], [8.0, 4.0], [9.0, 7.0], [10.0, 4.0], [11.0, 2.0], [12.0, 4.0], [13.0, 4.0], [14.0, 6.0], [15.0, 4.0], [16.0, 3.0], [17.0, 2.0], [18.0, 10.0], [19.0, 7.0], [20.0, 13.0], [21.0, 4.0], [22.0, 5.0], [23.0, 2.0], [24.0, 2.0], [25.0, 2.0], [26.0, 1.0], [27.0, 2.0], [28.0, 3.0], [29.0, 2.0], [30.0, 8.0], [31.0, 5.0], [32.0, 2.0], [33.0, 10.0], [34.0, 7.0], [35.0, 7.0], [36.0, 4.0], [37.0, 5.0], [38.0, 6.0], [39.0, 5.0], [40.0, 5.0], [41.0, 2.0], [42.0, 4.0], [43.0, 2.0], [44.0, 6.0], [45.0, 6.0], [46.0, 6.0], [47.0, 3.0], [48.0, 1.0]], \"data03\": [[0.0, 34.0], [1.0, 30.0], [2.0, 21.0], [3.0, 17.0], [4.0, 11.0], [5.0, 10.0], [6.0, 12.0], [7.0, 6.0], [8.0, 12.0], [9.0, 14.0], [10.0, 28.0], [11.0, 98.0], [12.0, 219.0], [13.0, 216.0], [14.0, 197.0], [15.0, 295.0], [16.0, 336.0], [17.0, 378.0], [18.0, 190.0], [19.0, 195.0], [20.0, 196.0], [21.0, 121.0], [22.0, 73.0], [23.0, 71.0], [24.0, 25.0], [25.0, 28.0], [26.0, 9.0], [27.0, 8.0], [28.0, 11.0], [29.0, 17.0], [30.0, 23.0], [31.0, 72.0], [32.0, 242.0], [33.0, 468.0], [34.0, 555.0], [35.0, 169.0], [36.0, 25.0], [37.0, 224.0], [38.0, 234.0], [39.0, 245.0], [40.0, 224.0], [41.0, 164.0], [42.0, 173.0], [43.0, 124.0], [44.0, 110.0], [45.0, 71.0], [46.0, 38.0], [47.0, 146.0], [48.0, 271.0], [49.0, 317.0], [50.0, 269.0], [51.0, 293.0], [52.0, 99.0]], \"data04\": [[0.843189964157706, 0.9379139072847682, 0.8689293598233996, 0.7999448123620309], [0.902927120669056, 0.9379139072847682, 0.8689293598233996, 0.7999448123620309]], \"data05\": [[0.8372162485065711, 0.7562545989698307], [0.9790919952210274, 0.7562545989698307], [0.9850657108721624, 0.7562545989698307], [0.9850657108721624, 0.7654525386313465], [0.9850657108721624, 0.9678072111846947], [0.9850657108721624, 0.9770051508462105], [0.9790919952210274, 0.9770051508462105], [0.8372162485065711, 0.9770051508462105], [0.831242532855436, 0.9770051508462105], [0.831242532855436, 0.9678072111846947], [0.831242532855436, 0.7654525386313465], [0.831242532855436, 0.7562545989698307], [0.8372162485065711, 0.7562545989698307]]}, \"id\": \"el55140197400997000\", \"plugins\": [{\"type\": \"reset\"}, {\"type\": \"zoom\", \"button\": true, \"enabled\": false}, {\"type\": \"boxzoom\", \"button\": true, \"enabled\": false}]});\n",
              "   }(mpld3);\n",
              "}else if(typeof define === \"function\" && define.amd){\n",
              "   // require.js is available: use it to load d3/mpld3\n",
              "   require.config({paths: {d3: \"https://d3js.org/d3.v5\"}});\n",
              "   require([\"d3\"], function(d3){\n",
              "      window.d3 = d3;\n",
              "      mpld3_load_lib(\"https://mpld3.github.io/js/mpld3.v0.5.1.js\", function(){\n",
              "         \n",
              "         mpld3.draw_figure(\"fig_el551401974009970001184397027\", {\"width\": 432.0, \"height\": 288.0, \"axes\": [{\"bbox\": [0.125, 0.125, 0.775, 0.755], \"xlim\": [-2.6, 54.6], \"ylim\": [-26.700000000000003, 582.7], \"xdomain\": [-2.6, 54.6], \"ydomain\": [-26.700000000000003, 582.7], \"xscale\": \"linear\", \"yscale\": \"linear\", \"axes\": [{\"position\": \"bottom\", \"nticks\": 8, \"tickvalues\": [-10.0, 0.0, 10.0, 20.0, 30.0, 40.0, 50.0, 60.0], \"tickformat_formatter\": \"fixed\", \"tickformat\": [\"(US, Wed Apr 08 01)\", \"(US, Mon Apr 06 02)\", \"(US, Mon Apr 06 12)\", \"(US, Sun Apr 05 01)\", \"(US, Sun Apr 05 11)\", \"(US, Tue Apr 07 22)\", \"(US, Wed Apr 08 18)\", \"\"], \"scale\": \"linear\", \"fontsize\": 10.0, \"grid\": {\"gridOn\": false}, \"visible\": true}, {\"position\": \"left\", \"nticks\": 8, \"tickvalues\": null, \"tickformat_formatter\": \"\", \"tickformat\": null, \"scale\": \"linear\", \"fontsize\": 10.0, \"grid\": {\"gridOn\": false}, \"visible\": true}], \"axesbg\": \"#FFFFFF\", \"axesbgalpha\": null, \"zoomable\": true, \"id\": \"el55140197400930400\", \"lines\": [{\"data\": \"data01\", \"xindex\": 0, \"yindex\": 1, \"coordinates\": \"data\", \"id\": \"el55140197401508160\", \"color\": \"#1F77B4\", \"linewidth\": 1.5, \"dasharray\": \"none\", \"alpha\": 1, \"zorder\": 2, \"drawstyle\": \"default\"}, {\"data\": \"data02\", \"xindex\": 0, \"yindex\": 1, \"coordinates\": \"data\", \"id\": \"el55140197401385392\", \"color\": \"#FF7F0E\", \"linewidth\": 1.5, \"dasharray\": \"none\", \"alpha\": 1, \"zorder\": 2, \"drawstyle\": \"default\"}, {\"data\": \"data03\", \"xindex\": 0, \"yindex\": 1, \"coordinates\": \"data\", \"id\": \"el55140197401353688\", \"color\": \"#2CA02C\", \"linewidth\": 1.5, \"dasharray\": \"none\", \"alpha\": 1, \"zorder\": 2, \"drawstyle\": \"default\"}, {\"data\": \"data04\", \"xindex\": 0, \"yindex\": 1, \"coordinates\": \"axes\", \"id\": \"el55140197415064912\", \"color\": \"#1F77B4\", \"linewidth\": 1.5, \"dasharray\": \"none\", \"alpha\": 1, \"zorder\": 1000002.0, \"drawstyle\": \"default\"}, {\"data\": \"data04\", \"xindex\": 0, \"yindex\": 2, \"coordinates\": \"axes\", \"id\": \"el55140197401351336\", \"color\": \"#FF7F0E\", \"linewidth\": 1.5, \"dasharray\": \"none\", \"alpha\": 1, \"zorder\": 1000002.0, \"drawstyle\": \"default\"}, {\"data\": \"data04\", \"xindex\": 0, \"yindex\": 3, \"coordinates\": \"axes\", \"id\": \"el55140197415065864\", \"color\": \"#2CA02C\", \"linewidth\": 1.5, \"dasharray\": \"none\", \"alpha\": 1, \"zorder\": 1000002.0, \"drawstyle\": \"default\"}], \"paths\": [{\"data\": \"data05\", \"xindex\": 0, \"yindex\": 1, \"coordinates\": \"axes\", \"pathcodes\": [\"M\", \"L\", \"S\", \"L\", \"S\", \"L\", \"S\", \"L\", \"S\", \"Z\"], \"id\": \"el55140197401352400\", \"dasharray\": \"none\", \"alpha\": 0.8, \"facecolor\": \"rgba(255, 255, 255, 0.8)\", \"edgecolor\": \"rgba(204, 204, 204, 0.8)\", \"edgewidth\": 1.0, \"zorder\": 1000000.0}], \"markers\": [], \"texts\": [{\"text\": \"country_code,Day\", \"position\": [0.49999999999999994, -0.09657836644591611], \"coordinates\": \"axes\", \"h_anchor\": \"middle\", \"v_baseline\": \"hanging\", \"rotation\": -0.0, \"fontsize\": 10.0, \"color\": \"#000000\", \"alpha\": 1, \"zorder\": 3, \"id\": \"el55140197400932192\"}, {\"text\": \"CA\", \"position\": [0.9268219832735961, 0.9218175128771156], \"coordinates\": \"axes\", \"h_anchor\": \"start\", \"v_baseline\": \"auto\", \"rotation\": -0.0, \"fontsize\": 10.0, \"color\": \"#000000\", \"alpha\": 1, \"zorder\": 1000003.0, \"id\": \"el55140197415064184\"}, {\"text\": \"MX\", \"position\": [0.9268219832735961, 0.8528329654157469], \"coordinates\": \"axes\", \"h_anchor\": \"start\", \"v_baseline\": \"auto\", \"rotation\": -0.0, \"fontsize\": 10.0, \"color\": \"#000000\", \"alpha\": 1, \"zorder\": 1000003.0, \"id\": \"el55140197415065584\"}, {\"text\": \"US\", \"position\": [0.9268219832735961, 0.7838484179543782], \"coordinates\": \"axes\", \"h_anchor\": \"start\", \"v_baseline\": \"auto\", \"rotation\": -0.0, \"fontsize\": 10.0, \"color\": \"#000000\", \"alpha\": 1, \"zorder\": 1000003.0, \"id\": \"el55140197401431904\"}], \"collections\": [], \"images\": [], \"sharex\": [], \"sharey\": []}], \"data\": {\"data01\": [[0.0, 3.0], [1.0, 3.0], [2.0, 4.0], [3.0, 2.0], [4.0, 2.0], [5.0, 3.0], [6.0, 1.0], [7.0, 2.0], [8.0, 4.0], [9.0, 2.0], [10.0, 3.0], [11.0, 6.0], [12.0, 8.0], [13.0, 9.0], [14.0, 10.0], [15.0, 11.0], [16.0, 11.0], [17.0, 13.0], [18.0, 5.0], [19.0, 7.0], [20.0, 5.0], [21.0, 5.0], [22.0, 4.0], [23.0, 4.0], [24.0, 3.0], [25.0, 2.0], [26.0, 2.0], [27.0, 2.0], [28.0, 1.0], [29.0, 3.0], [30.0, 4.0], [31.0, 5.0], [32.0, 12.0], [33.0, 12.0], [34.0, 9.0], [35.0, 1.0], [36.0, 6.0], [37.0, 11.0], [38.0, 7.0], [39.0, 6.0], [40.0, 5.0], [41.0, 11.0], [42.0, 5.0], [43.0, 6.0], [44.0, 4.0], [45.0, 4.0], [46.0, 5.0], [47.0, 11.0], [48.0, 9.0], [49.0, 6.0], [50.0, 11.0], [51.0, 2.0]], \"data02\": [[0.0, 1.0], [1.0, 4.0], [2.0, 5.0], [3.0, 1.0], [4.0, 1.0], [5.0, 1.0], [6.0, 2.0], [7.0, 2.0], [8.0, 4.0], [9.0, 7.0], [10.0, 4.0], [11.0, 2.0], [12.0, 4.0], [13.0, 4.0], [14.0, 6.0], [15.0, 4.0], [16.0, 3.0], [17.0, 2.0], [18.0, 10.0], [19.0, 7.0], [20.0, 13.0], [21.0, 4.0], [22.0, 5.0], [23.0, 2.0], [24.0, 2.0], [25.0, 2.0], [26.0, 1.0], [27.0, 2.0], [28.0, 3.0], [29.0, 2.0], [30.0, 8.0], [31.0, 5.0], [32.0, 2.0], [33.0, 10.0], [34.0, 7.0], [35.0, 7.0], [36.0, 4.0], [37.0, 5.0], [38.0, 6.0], [39.0, 5.0], [40.0, 5.0], [41.0, 2.0], [42.0, 4.0], [43.0, 2.0], [44.0, 6.0], [45.0, 6.0], [46.0, 6.0], [47.0, 3.0], [48.0, 1.0]], \"data03\": [[0.0, 34.0], [1.0, 30.0], [2.0, 21.0], [3.0, 17.0], [4.0, 11.0], [5.0, 10.0], [6.0, 12.0], [7.0, 6.0], [8.0, 12.0], [9.0, 14.0], [10.0, 28.0], [11.0, 98.0], [12.0, 219.0], [13.0, 216.0], [14.0, 197.0], [15.0, 295.0], [16.0, 336.0], [17.0, 378.0], [18.0, 190.0], [19.0, 195.0], [20.0, 196.0], [21.0, 121.0], [22.0, 73.0], [23.0, 71.0], [24.0, 25.0], [25.0, 28.0], [26.0, 9.0], [27.0, 8.0], [28.0, 11.0], [29.0, 17.0], [30.0, 23.0], [31.0, 72.0], [32.0, 242.0], [33.0, 468.0], [34.0, 555.0], [35.0, 169.0], [36.0, 25.0], [37.0, 224.0], [38.0, 234.0], [39.0, 245.0], [40.0, 224.0], [41.0, 164.0], [42.0, 173.0], [43.0, 124.0], [44.0, 110.0], [45.0, 71.0], [46.0, 38.0], [47.0, 146.0], [48.0, 271.0], [49.0, 317.0], [50.0, 269.0], [51.0, 293.0], [52.0, 99.0]], \"data04\": [[0.843189964157706, 0.9379139072847682, 0.8689293598233996, 0.7999448123620309], [0.902927120669056, 0.9379139072847682, 0.8689293598233996, 0.7999448123620309]], \"data05\": [[0.8372162485065711, 0.7562545989698307], [0.9790919952210274, 0.7562545989698307], [0.9850657108721624, 0.7562545989698307], [0.9850657108721624, 0.7654525386313465], [0.9850657108721624, 0.9678072111846947], [0.9850657108721624, 0.9770051508462105], [0.9790919952210274, 0.9770051508462105], [0.8372162485065711, 0.9770051508462105], [0.831242532855436, 0.9770051508462105], [0.831242532855436, 0.9678072111846947], [0.831242532855436, 0.7654525386313465], [0.831242532855436, 0.7562545989698307], [0.8372162485065711, 0.7562545989698307]]}, \"id\": \"el55140197400997000\", \"plugins\": [{\"type\": \"reset\"}, {\"type\": \"zoom\", \"button\": true, \"enabled\": false}, {\"type\": \"boxzoom\", \"button\": true, \"enabled\": false}]});\n",
              "      });\n",
              "    });\n",
              "}else{\n",
              "    // require.js not available: dynamically load d3 & mpld3\n",
              "    mpld3_load_lib(\"https://d3js.org/d3.v5.js\", function(){\n",
              "         mpld3_load_lib(\"https://mpld3.github.io/js/mpld3.v0.5.1.js\", function(){\n",
              "                 \n",
              "                 mpld3.draw_figure(\"fig_el551401974009970001184397027\", {\"width\": 432.0, \"height\": 288.0, \"axes\": [{\"bbox\": [0.125, 0.125, 0.775, 0.755], \"xlim\": [-2.6, 54.6], \"ylim\": [-26.700000000000003, 582.7], \"xdomain\": [-2.6, 54.6], \"ydomain\": [-26.700000000000003, 582.7], \"xscale\": \"linear\", \"yscale\": \"linear\", \"axes\": [{\"position\": \"bottom\", \"nticks\": 8, \"tickvalues\": [-10.0, 0.0, 10.0, 20.0, 30.0, 40.0, 50.0, 60.0], \"tickformat_formatter\": \"fixed\", \"tickformat\": [\"(US, Wed Apr 08 01)\", \"(US, Mon Apr 06 02)\", \"(US, Mon Apr 06 12)\", \"(US, Sun Apr 05 01)\", \"(US, Sun Apr 05 11)\", \"(US, Tue Apr 07 22)\", \"(US, Wed Apr 08 18)\", \"\"], \"scale\": \"linear\", \"fontsize\": 10.0, \"grid\": {\"gridOn\": false}, \"visible\": true}, {\"position\": \"left\", \"nticks\": 8, \"tickvalues\": null, \"tickformat_formatter\": \"\", \"tickformat\": null, \"scale\": \"linear\", \"fontsize\": 10.0, \"grid\": {\"gridOn\": false}, \"visible\": true}], \"axesbg\": \"#FFFFFF\", \"axesbgalpha\": null, \"zoomable\": true, \"id\": \"el55140197400930400\", \"lines\": [{\"data\": \"data01\", \"xindex\": 0, \"yindex\": 1, \"coordinates\": \"data\", \"id\": \"el55140197401508160\", \"color\": \"#1F77B4\", \"linewidth\": 1.5, \"dasharray\": \"none\", \"alpha\": 1, \"zorder\": 2, \"drawstyle\": \"default\"}, {\"data\": \"data02\", \"xindex\": 0, \"yindex\": 1, \"coordinates\": \"data\", \"id\": \"el55140197401385392\", \"color\": \"#FF7F0E\", \"linewidth\": 1.5, \"dasharray\": \"none\", \"alpha\": 1, \"zorder\": 2, \"drawstyle\": \"default\"}, {\"data\": \"data03\", \"xindex\": 0, \"yindex\": 1, \"coordinates\": \"data\", \"id\": \"el55140197401353688\", \"color\": \"#2CA02C\", \"linewidth\": 1.5, \"dasharray\": \"none\", \"alpha\": 1, \"zorder\": 2, \"drawstyle\": \"default\"}, {\"data\": \"data04\", \"xindex\": 0, \"yindex\": 1, \"coordinates\": \"axes\", \"id\": \"el55140197415064912\", \"color\": \"#1F77B4\", \"linewidth\": 1.5, \"dasharray\": \"none\", \"alpha\": 1, \"zorder\": 1000002.0, \"drawstyle\": \"default\"}, {\"data\": \"data04\", \"xindex\": 0, \"yindex\": 2, \"coordinates\": \"axes\", \"id\": \"el55140197401351336\", \"color\": \"#FF7F0E\", \"linewidth\": 1.5, \"dasharray\": \"none\", \"alpha\": 1, \"zorder\": 1000002.0, \"drawstyle\": \"default\"}, {\"data\": \"data04\", \"xindex\": 0, \"yindex\": 3, \"coordinates\": \"axes\", \"id\": \"el55140197415065864\", \"color\": \"#2CA02C\", \"linewidth\": 1.5, \"dasharray\": \"none\", \"alpha\": 1, \"zorder\": 1000002.0, \"drawstyle\": \"default\"}], \"paths\": [{\"data\": \"data05\", \"xindex\": 0, \"yindex\": 1, \"coordinates\": \"axes\", \"pathcodes\": [\"M\", \"L\", \"S\", \"L\", \"S\", \"L\", \"S\", \"L\", \"S\", \"Z\"], \"id\": \"el55140197401352400\", \"dasharray\": \"none\", \"alpha\": 0.8, \"facecolor\": \"rgba(255, 255, 255, 0.8)\", \"edgecolor\": \"rgba(204, 204, 204, 0.8)\", \"edgewidth\": 1.0, \"zorder\": 1000000.0}], \"markers\": [], \"texts\": [{\"text\": \"country_code,Day\", \"position\": [0.49999999999999994, -0.09657836644591611], \"coordinates\": \"axes\", \"h_anchor\": \"middle\", \"v_baseline\": \"hanging\", \"rotation\": -0.0, \"fontsize\": 10.0, \"color\": \"#000000\", \"alpha\": 1, \"zorder\": 3, \"id\": \"el55140197400932192\"}, {\"text\": \"CA\", \"position\": [0.9268219832735961, 0.9218175128771156], \"coordinates\": \"axes\", \"h_anchor\": \"start\", \"v_baseline\": \"auto\", \"rotation\": -0.0, \"fontsize\": 10.0, \"color\": \"#000000\", \"alpha\": 1, \"zorder\": 1000003.0, \"id\": \"el55140197415064184\"}, {\"text\": \"MX\", \"position\": [0.9268219832735961, 0.8528329654157469], \"coordinates\": \"axes\", \"h_anchor\": \"start\", \"v_baseline\": \"auto\", \"rotation\": -0.0, \"fontsize\": 10.0, \"color\": \"#000000\", \"alpha\": 1, \"zorder\": 1000003.0, \"id\": \"el55140197415065584\"}, {\"text\": \"US\", \"position\": [0.9268219832735961, 0.7838484179543782], \"coordinates\": \"axes\", \"h_anchor\": \"start\", \"v_baseline\": \"auto\", \"rotation\": -0.0, \"fontsize\": 10.0, \"color\": \"#000000\", \"alpha\": 1, \"zorder\": 1000003.0, \"id\": \"el55140197401431904\"}], \"collections\": [], \"images\": [], \"sharex\": [], \"sharey\": []}], \"data\": {\"data01\": [[0.0, 3.0], [1.0, 3.0], [2.0, 4.0], [3.0, 2.0], [4.0, 2.0], [5.0, 3.0], [6.0, 1.0], [7.0, 2.0], [8.0, 4.0], [9.0, 2.0], [10.0, 3.0], [11.0, 6.0], [12.0, 8.0], [13.0, 9.0], [14.0, 10.0], [15.0, 11.0], [16.0, 11.0], [17.0, 13.0], [18.0, 5.0], [19.0, 7.0], [20.0, 5.0], [21.0, 5.0], [22.0, 4.0], [23.0, 4.0], [24.0, 3.0], [25.0, 2.0], [26.0, 2.0], [27.0, 2.0], [28.0, 1.0], [29.0, 3.0], [30.0, 4.0], [31.0, 5.0], [32.0, 12.0], [33.0, 12.0], [34.0, 9.0], [35.0, 1.0], [36.0, 6.0], [37.0, 11.0], [38.0, 7.0], [39.0, 6.0], [40.0, 5.0], [41.0, 11.0], [42.0, 5.0], [43.0, 6.0], [44.0, 4.0], [45.0, 4.0], [46.0, 5.0], [47.0, 11.0], [48.0, 9.0], [49.0, 6.0], [50.0, 11.0], [51.0, 2.0]], \"data02\": [[0.0, 1.0], [1.0, 4.0], [2.0, 5.0], [3.0, 1.0], [4.0, 1.0], [5.0, 1.0], [6.0, 2.0], [7.0, 2.0], [8.0, 4.0], [9.0, 7.0], [10.0, 4.0], [11.0, 2.0], [12.0, 4.0], [13.0, 4.0], [14.0, 6.0], [15.0, 4.0], [16.0, 3.0], [17.0, 2.0], [18.0, 10.0], [19.0, 7.0], [20.0, 13.0], [21.0, 4.0], [22.0, 5.0], [23.0, 2.0], [24.0, 2.0], [25.0, 2.0], [26.0, 1.0], [27.0, 2.0], [28.0, 3.0], [29.0, 2.0], [30.0, 8.0], [31.0, 5.0], [32.0, 2.0], [33.0, 10.0], [34.0, 7.0], [35.0, 7.0], [36.0, 4.0], [37.0, 5.0], [38.0, 6.0], [39.0, 5.0], [40.0, 5.0], [41.0, 2.0], [42.0, 4.0], [43.0, 2.0], [44.0, 6.0], [45.0, 6.0], [46.0, 6.0], [47.0, 3.0], [48.0, 1.0]], \"data03\": [[0.0, 34.0], [1.0, 30.0], [2.0, 21.0], [3.0, 17.0], [4.0, 11.0], [5.0, 10.0], [6.0, 12.0], [7.0, 6.0], [8.0, 12.0], [9.0, 14.0], [10.0, 28.0], [11.0, 98.0], [12.0, 219.0], [13.0, 216.0], [14.0, 197.0], [15.0, 295.0], [16.0, 336.0], [17.0, 378.0], [18.0, 190.0], [19.0, 195.0], [20.0, 196.0], [21.0, 121.0], [22.0, 73.0], [23.0, 71.0], [24.0, 25.0], [25.0, 28.0], [26.0, 9.0], [27.0, 8.0], [28.0, 11.0], [29.0, 17.0], [30.0, 23.0], [31.0, 72.0], [32.0, 242.0], [33.0, 468.0], [34.0, 555.0], [35.0, 169.0], [36.0, 25.0], [37.0, 224.0], [38.0, 234.0], [39.0, 245.0], [40.0, 224.0], [41.0, 164.0], [42.0, 173.0], [43.0, 124.0], [44.0, 110.0], [45.0, 71.0], [46.0, 38.0], [47.0, 146.0], [48.0, 271.0], [49.0, 317.0], [50.0, 269.0], [51.0, 293.0], [52.0, 99.0]], \"data04\": [[0.843189964157706, 0.9379139072847682, 0.8689293598233996, 0.7999448123620309], [0.902927120669056, 0.9379139072847682, 0.8689293598233996, 0.7999448123620309]], \"data05\": [[0.8372162485065711, 0.7562545989698307], [0.9790919952210274, 0.7562545989698307], [0.9850657108721624, 0.7562545989698307], [0.9850657108721624, 0.7654525386313465], [0.9850657108721624, 0.9678072111846947], [0.9850657108721624, 0.9770051508462105], [0.9790919952210274, 0.9770051508462105], [0.8372162485065711, 0.9770051508462105], [0.831242532855436, 0.9770051508462105], [0.831242532855436, 0.9678072111846947], [0.831242532855436, 0.7654525386313465], [0.831242532855436, 0.7562545989698307], [0.8372162485065711, 0.7562545989698307]]}, \"id\": \"el55140197400997000\", \"plugins\": [{\"type\": \"reset\"}, {\"type\": \"zoom\", \"button\": true, \"enabled\": false}, {\"type\": \"boxzoom\", \"button\": true, \"enabled\": false}]});\n",
              "            })\n",
              "         });\n",
              "}\n",
              "</script>"
            ],
            "text/plain": [
              "<Figure size 432x288 with 1 Axes>"
            ]
          },
          "metadata": {
            "tags": [],
            "needs_background": "light"
          }
        }
      ]
    }
  ]
}